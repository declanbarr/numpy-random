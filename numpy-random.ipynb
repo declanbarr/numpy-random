{
 "cells": [
  {
   "cell_type": "markdown",
   "metadata": {},
   "source": [
    "# The numpy.random package"
   ]
  },
  {
   "cell_type": "markdown",
   "metadata": {
    "collapsed": true
   },
   "source": [
    "## Purpose of numpy"
   ]
  },
  {
   "cell_type": "markdown",
   "metadata": {},
   "source": [
    "## Simple Random Data"
   ]
  },
  {
   "cell_type": "markdown",
   "metadata": {},
   "source": [
    "## Permutations"
   ]
  },
  {
   "cell_type": "markdown",
   "metadata": {},
   "source": [
    "## Distributions\n",
    "\n",
    "### Exponential Distribution"
   ]
  },
  {
   "cell_type": "code",
   "execution_count": 1,
   "metadata": {
    "collapsed": true
   },
   "outputs": [],
   "source": [
    "import numpy as np\n",
    "import matplotlib.pyplot as plt"
   ]
  },
  {
   "cell_type": "code",
   "execution_count": 2,
   "metadata": {},
   "outputs": [
    {
     "data": {
      "image/png": "[encoded data removed]",
      "text/plain": [
       "<matplotlib.figure.Figure at 0x1ff3f4c9f98>"
      ]
     },
     "metadata": {},
     "output_type": "display_data"
    }
   ],
   "source": [
    "x = np.random.exponential(1, 10000)\n",
    "plt.hist(x, bins= 50)\n",
    "plt.show()"
   ]
  },
  {
   "cell_type": "code",
   "execution_count": 3,
   "metadata": {},
   "outputs": [
    {
     "name": "stdout",
     "output_type": "stream",
     "text": [
      "y is: \n",
      " [  6.67714058e-01   1.85188953e+01   1.18757724e+01   1.22532192e+01\n",
      "   1.43069627e+00   7.97309997e+00   1.88071490e+01   1.30110049e+01\n",
      "   1.04139033e+02   3.72238529e+01   1.60456446e+01   1.54429928e+00\n",
      "   7.11603684e-01   3.98079051e+00   1.95469794e+01   1.22267277e+01\n",
      "   1.10932582e+01   6.46813096e+00   1.40903322e+01   2.03324091e+01\n",
      "   5.53660804e+00   1.18138731e+01   5.91631753e-01   3.32220650e+00\n",
      "   2.35301442e+01   1.74106150e+01   3.64869928e+00   2.72242830e+00\n",
      "   8.55335120e+00   1.56217781e+00   2.64571213e+01   6.29266597e+00\n",
      "   5.02141110e+00   8.57974234e+00   1.14121659e+01   1.26340476e+01\n",
      "   7.82220872e+00   2.42902715e+00   5.29028922e+00   1.24283017e+01\n",
      "   2.10470557e+00   1.04367311e+01   8.62212689e+00   4.17538289e+00\n",
      "   8.99166660e-01   2.70600743e-01   1.50712706e+01   1.19467297e+01\n",
      "   8.67648698e+00   1.41352283e+01   7.52957967e+00   1.37410923e+01\n",
      "   6.27520353e+00   5.18175719e+00   2.42719383e+01   4.08755129e+00\n",
      "   1.14505042e+00   1.75494092e+00   3.30938584e+01   2.66202645e+00\n",
      "   1.40999632e+01   2.13873436e+01   2.24826345e-01   1.38916243e+01\n",
      "   5.32015375e-01   7.77197691e+00   2.00632793e+00   4.06078011e+01\n",
      "   3.53032513e+00   1.24482071e+00   3.21634609e+00   6.50425131e+00\n",
      "   5.58159906e+00   2.44165564e-01   4.46284201e+00   2.97243356e+00\n",
      "   3.88214747e+01   8.14621948e-02   7.64121492e+00   6.97799767e+01\n",
      "   3.78747874e+00   1.52291301e+01   1.61401325e+00   2.74942961e+01\n",
      "   1.16370437e+01   3.45059222e+01   1.19998273e+01   1.69793050e+01\n",
      "   1.05689770e+01   6.65682044e+00   5.19558867e+00   4.48460558e+00\n",
      "   1.47100788e+01   2.07733709e+01   4.96633860e+00   3.49107428e+00\n",
      "   3.62214901e+00   1.37134875e+01   1.36394833e+01   4.51178975e-01]\n",
      "z is: \n",
      " 1155.20371664\n"
     ]
    }
   ],
   "source": [
    "y = np.random.exponential(10, 100)\n",
    "\n",
    "z = np.sum(y)\n",
    "\n",
    "print(\"y is: \\n\", y)\n",
    "print(\"z is: \\n\", z)"
   ]
  },
  {
   "cell_type": "code",
   "execution_count": 4,
   "metadata": {},
   "outputs": [
    {
     "name": "stdout",
     "output_type": "stream",
     "text": [
      "The size is:\n",
      " 100\n"
     ]
    }
   ],
   "source": [
    "size = np.size(y)\n",
    "print(\"The size is:\\n\", size)"
   ]
  },
  {
   "cell_type": "code",
   "execution_count": 5,
   "metadata": {},
   "outputs": [
    {
     "name": "stdout",
     "output_type": "stream",
     "text": [
      "The average value is:\n",
      " 11.5520371664\n"
     ]
    }
   ],
   "source": [
    "average = z / size\n",
    "print(\"The average value is:\\n\", average)"
   ]
  },
  {
   "cell_type": "markdown",
   "metadata": {},
   "source": [
    "np.random.exponential takes two arguments. The first will be what the average value is approimately equal to. The second number is the size of the array (the number of elements in it). The sum of all elements returned is approximately equal to the two arguements passed."
   ]
  },
  {
   "cell_type": "markdown",
   "metadata": {},
   "source": [
    "### Laplace Distribution"
   ]
  },
  {
   "cell_type": "code",
   "execution_count": 6,
   "metadata": {},
   "outputs": [
    {
     "data": {
      "image/png": "[encoded data removed]",
      "text/plain": [
       "<matplotlib.figure.Figure at 0x1ff3ed3e2e8>"
      ]
     },
     "metadata": {},
     "output_type": "display_data"
    }
   ],
   "source": [
    "laplace = np.random.laplace(1000, 1, 1000000)\n",
    "plt.hist(laplace, bins=100)\n",
    "plt.show()"
   ]
  },
  {
   "cell_type": "code",
   "execution_count": 7,
   "metadata": {},
   "outputs": [
    {
     "name": "stdout",
     "output_type": "stream",
     "text": [
      "Laplace is:\n",
      " [ 1001.82878245  1001.01858391   998.75787101 ...,   998.52094567\n",
      "   999.66942222  1000.72805296]\n"
     ]
    }
   ],
   "source": [
    "print(\"Laplace is:\\n\", laplace)"
   ]
  },
  {
   "cell_type": "code",
   "execution_count": 8,
   "metadata": {},
   "outputs": [
    {
     "name": "stdout",
     "output_type": "stream",
     "text": [
      "The sum of the laplace array is:\n",
      " 999998928.481\n"
     ]
    }
   ],
   "source": [
    "sumOfLaplace = np.sum(laplace)\n",
    "print(\"The sum of the laplace array is:\\n\", sumOfLaplace)"
   ]
  },
  {
   "cell_type": "markdown",
   "metadata": {},
   "source": [
    "The sum of the laplace array appears to be equal to the location * the size (when the scale equals 1) "
   ]
  },
  {
   "cell_type": "code",
   "execution_count": 9,
   "metadata": {},
   "outputs": [
    {
     "data": {
      "text/plain": [
       "1000000"
      ]
     },
     "execution_count": 9,
     "metadata": {},
     "output_type": "execute_result"
    }
   ],
   "source": [
    "np.size(laplace)"
   ]
  },
  {
   "cell_type": "markdown",
   "metadata": {},
   "source": [
    "### Rayleigh Distribution"
   ]
  },
  {
   "cell_type": "code",
   "execution_count": 10,
   "metadata": {},
   "outputs": [
    {
     "data": {
      "image/png": "[encoded data removed]",
      "text/plain": [
       "<matplotlib.figure.Figure at 0x1ff3ed3e320>"
      ]
     },
     "metadata": {},
     "output_type": "display_data"
    }
   ],
   "source": [
    "rayleigh = np.random.rayleigh(3, 1000000)\n",
    "plt.hist(rayleigh, bins = 100)\n",
    "plt.show()\n"
   ]
  },
  {
   "cell_type": "markdown",
   "metadata": {},
   "source": [
    "The first parameter (scale) is equal to the peak of the distribution. "
   ]
  },
  {
   "cell_type": "markdown",
   "metadata": {},
   "source": [
    "## Seeds"
   ]
  }
 ],
 "metadata": {
  "kernelspec": {
   "display_name": "Python 3",
   "language": "python",
   "name": "python3"
  },
  "language_info": {
   "codemirror_mode": {
    "name": "ipython",
    "version": 3
   },
   "file_extension": ".py",
   "mimetype": "text/x-python",
   "name": "python",
   "nbconvert_exporter": "python",
   "pygments_lexer": "ipython3",
   "version": "3.6.3"
  }
 },
 "nbformat": 4,
 "nbformat_minor": 2
}
