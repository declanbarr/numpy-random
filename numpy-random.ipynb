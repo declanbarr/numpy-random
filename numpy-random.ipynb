{
 "cells": [
  {
   "cell_type": "markdown",
   "metadata": {},
   "source": [
    "# The numpy.random package"
   ]
  },
  {
   "cell_type": "markdown",
   "metadata": {
    "collapsed": true
   },
   "source": [
    "## Introduction\n",
    "\n",
    "### NumPy\n",
    "NumPy is a library in Python used for scientific computing. It is open-source and therefore free to use as apposed to MATLAB which is also used for scientific computing. NumPy provides efficient operation on arrays of homogeneous data. Reference -https://www.scipy.org/scipylib/faq.html. \n",
    "\n",
    "The offical documentation for NumPy can be found here https://docs.scipy.org/doc/numpy/reference/. The official NumPy website is here http://www.numpy.org/.\n",
    "\n",
    "NumPy can provide random numbers through the numpy.random package\n",
    "\n",
    "### Purpose of the numpy.random package\n",
    "\n",
    "The numpy.random package provides various ways of producing pseudorandom numbers. It uses the Mersenne Twister algorithm (https://en.wikipedia.org/wiki/Mersenne_Twister) to generate pseudorandom numbers Reference - https://www.packtpub.com/mapt/book/big_data_and_business_intelligence/9781785285110/2/ch02lvl1sec16/numpy-random-numbers\n",
    "\n",
    "The numbers are considered psuedo random rather than just random, as they are generated deterministically from a seed. Ref - https://engineering.ucsb.edu/~shell/che210d/numpy.pdf\n",
    "\n",
    "Random numbers can be used as toy datasets for testing purposes. These random numbers can be applied to a series of numbers in order to create random noise like what would be observed in a real life experiment.\n",
    "\n",
    "\n",
    "\n",
    "The official documentation page for the numpy.random package can be found here - https://docs.scipy.org/doc/numpy-1.13.0/reference/routines.random.html\n",
    "\n",
    "On the official documentation page there are four distinct sections which provide a number of functions related to generating random numbers. This notebook provides examples and explanations for some of these functions. \n",
    "\n",
    "\n",
    "* discuss different sections\n",
    "    * Simple Random Data\n",
    "    * Permutations\n",
    "    * Distributions\n",
    "    * Seeds"
   ]
  },
  {
   "cell_type": "markdown",
   "metadata": {},
   "source": [
    "## Simple Random Data\n",
    "\n",
    "This section contains a number of functions that generate random numbers of different types as well as being able to make various random selections from a list."
   ]
  },
  {
   "cell_type": "markdown",
   "metadata": {},
   "source": [
    "### numpy.random.choice()\n",
    "\n",
    "The numpy.random.choice() function produces a random sample from a given 1-D array - Reference https://docs.scipy.org/doc/numpy-1.13.0/reference/generated/numpy.random.choice.html#numpy.random.choice"
   ]
  },
  {
   "cell_type": "code",
   "execution_count": 1,
   "metadata": {},
   "outputs": [
    {
     "data": {
      "text/plain": [
       "'cow'"
      ]
     },
     "execution_count": 1,
     "metadata": {},
     "output_type": "execute_result"
    }
   ],
   "source": [
    "import numpy as np\n",
    "\n",
    "animals = ['cat', 'dog', 'rabbit', 'horse', 'cow']\n",
    "\n",
    "np.random.choice(animals)"
   ]
  },
  {
   "cell_type": "markdown",
   "metadata": {},
   "source": [
    "Here the np.random.choice() function picks a single random element from the 'animals' array. We can choose more than one element by changing the size parameter. "
   ]
  },
  {
   "cell_type": "code",
   "execution_count": 2,
   "metadata": {},
   "outputs": [
    {
     "data": {
      "text/plain": [
       "array(['cow', 'cat', 'rabbit', 'rabbit', 'cow'],\n",
       "      dtype='<U6')"
      ]
     },
     "execution_count": 2,
     "metadata": {},
     "output_type": "execute_result"
    }
   ],
   "source": [
    "np.random.choice(animals, size = 5)"
   ]
  },
  {
   "cell_type": "markdown",
   "metadata": {},
   "source": [
    "Setting size to 5 gives us 5 elements in the output. An element can appear more than once. If we wish that an element is not repeated then we can set the replace parameter to False."
   ]
  },
  {
   "cell_type": "code",
   "execution_count": 3,
   "metadata": {},
   "outputs": [
    {
     "data": {
      "text/plain": [
       "array(['horse', 'rabbit', 'cat', 'cow', 'dog'],\n",
       "      dtype='<U6')"
      ]
     },
     "execution_count": 3,
     "metadata": {},
     "output_type": "execute_result"
    }
   ],
   "source": [
    "np.random.choice(animals, size = 5, replace = False)"
   ]
  },
  {
   "cell_type": "markdown",
   "metadata": {},
   "source": [
    "If we wish for certain elements to be more likely to appear, then we can set the probability parameter, p, like so:"
   ]
  },
  {
   "cell_type": "code",
   "execution_count": 4,
   "metadata": {},
   "outputs": [
    {
     "data": {
      "text/plain": [
       "array(['cow', 'cow', 'rabbit', 'rabbit', 'horse', 'cow', 'cow', 'cow',\n",
       "       'cow', 'horse'],\n",
       "      dtype='<U6')"
      ]
     },
     "execution_count": 4,
     "metadata": {},
     "output_type": "execute_result"
    }
   ],
   "source": [
    "np.random.choice(animals, size = 10, p=[0.1, 0.1, 0.1, 0.1, 0.6])"
   ]
  },
  {
   "cell_type": "markdown",
   "metadata": {},
   "source": [
    "In the above, the 5th element in the array has a 60% likelyhood of being selected while the rest only have a 10% likelyhood each."
   ]
  },
  {
   "cell_type": "markdown",
   "metadata": {},
   "source": [
    "### np.random.rand()\n",
    "\n",
    "The np.random.rand() function produces an array with random samples from a uniform distribution from 0 to 1 exclusive. The parameter passed to the function determines the size of the array. Reference - https://docs.scipy.org/doc/numpy-1.13.0/reference/generated/numpy.random.rand.html#numpy.random.rand. \n",
    "\n",
    "For example, we can create a 1-D array with 10 elements using the following:"
   ]
  },
  {
   "cell_type": "code",
   "execution_count": 5,
   "metadata": {},
   "outputs": [
    {
     "data": {
      "text/plain": [
       "array([ 0.57944514,  0.77994357,  0.54195933,  0.41772842,  0.57264197,\n",
       "        0.10353094,  0.0050389 ,  0.9777296 ,  0.47129132,  0.34011531])"
      ]
     },
     "execution_count": 5,
     "metadata": {},
     "output_type": "execute_result"
    }
   ],
   "source": [
    "np.random.rand(10)"
   ]
  },
  {
   "cell_type": "markdown",
   "metadata": {},
   "source": [
    "For a 2-D array that is 10\\*2 in size we use the following:"
   ]
  },
  {
   "cell_type": "code",
   "execution_count": 6,
   "metadata": {},
   "outputs": [
    {
     "data": {
      "text/plain": [
       "array([[ 0.32587827,  0.11163133],\n",
       "       [ 0.7530412 ,  0.76172513],\n",
       "       [ 0.93155783,  0.77922801],\n",
       "       [ 0.74695123,  0.67119269],\n",
       "       [ 0.64949632,  0.67095919],\n",
       "       [ 0.25943652,  0.65333178],\n",
       "       [ 0.50524439,  0.50465271],\n",
       "       [ 0.11908563,  0.94052765],\n",
       "       [ 0.96353782,  0.07702844],\n",
       "       [ 0.26114624,  0.03667753]])"
      ]
     },
     "execution_count": 6,
     "metadata": {},
     "output_type": "execute_result"
    }
   ],
   "source": [
    "np.random.rand(10, 2)"
   ]
  },
  {
   "cell_type": "markdown",
   "metadata": {},
   "source": [
    "For a 3-D array that is 10\\*2\\*3 in size we use the following:"
   ]
  },
  {
   "cell_type": "code",
   "execution_count": 7,
   "metadata": {},
   "outputs": [
    {
     "data": {
      "text/plain": [
       "array([[[ 0.88732383,  0.73006573,  0.00296251],\n",
       "        [ 0.65632426,  0.66505023,  0.34354624]],\n",
       "\n",
       "       [[ 0.56756477,  0.04608383,  0.70348648],\n",
       "        [ 0.16738072,  0.1401135 ,  0.37755719]],\n",
       "\n",
       "       [[ 0.75035192,  0.88697628,  0.1245985 ],\n",
       "        [ 0.02724963,  0.16574408,  0.22007699]],\n",
       "\n",
       "       [[ 0.22813837,  0.31152947,  0.05311967],\n",
       "        [ 0.03055491,  0.69327513,  0.07896244]],\n",
       "\n",
       "       [[ 0.95588642,  0.60180731,  0.97989947],\n",
       "        [ 0.61495998,  0.04135518,  0.51013046]],\n",
       "\n",
       "       [[ 0.87843237,  0.78187321,  0.90656496],\n",
       "        [ 0.66898324,  0.03573941,  0.54616981]],\n",
       "\n",
       "       [[ 0.98607296,  0.09903958,  0.28101155],\n",
       "        [ 0.21044492,  0.81883502,  0.46139997]],\n",
       "\n",
       "       [[ 0.3034254 ,  0.89639795,  0.47107536],\n",
       "        [ 0.06639062,  0.17152393,  0.17029664]],\n",
       "\n",
       "       [[ 0.53255406,  0.69604979,  0.45924086],\n",
       "        [ 0.83961051,  0.59983454,  0.79707229]],\n",
       "\n",
       "       [[ 0.31565333,  0.82705822,  0.93688496],\n",
       "        [ 0.87252786,  0.28477264,  0.16495189]]])"
      ]
     },
     "execution_count": 7,
     "metadata": {},
     "output_type": "execute_result"
    }
   ],
   "source": [
    "np.random.rand(10, 2, 3)"
   ]
  },
  {
   "cell_type": "markdown",
   "metadata": {},
   "source": [
    "As mentioned above, the values are uniformly distributed. We can visualise this using a histogram plot:"
   ]
  },
  {
   "cell_type": "code",
   "execution_count": 8,
   "metadata": {},
   "outputs": [
    {
     "data": {
      "image/png": "[encoded data removed]",
      "text/plain": [
       "<matplotlib.figure.Figure at 0x25e66796f28>"
      ]
     },
     "metadata": {},
     "output_type": "display_data"
    }
   ],
   "source": [
    "import matplotlib.pyplot as plt\n",
    "\n",
    "normalArray = np.random.rand(10000)\n",
    "\n",
    "plt.hist(normalArray, bins = 10)\n",
    "plt.show()"
   ]
  },
  {
   "cell_type": "markdown",
   "metadata": {},
   "source": [
    "Each increment of 0.1 above has around 1000 values in it, which is a 10th of the size of the array. We can also see this in the descriptive statistics:"
   ]
  },
  {
   "cell_type": "code",
   "execution_count": 9,
   "metadata": {},
   "outputs": [
    {
     "data": {
      "text/html": [
       "<div>\n",
       "<style>\n",
       "    .dataframe thead tr:only-child th {\n",
       "        text-align: right;\n",
       "    }\n",
       "\n",
       "    .dataframe thead th {\n",
       "        text-align: left;\n",
       "    }\n",
       "\n",
       "    .dataframe tbody tr th {\n",
       "        vertical-align: top;\n",
       "    }\n",
       "</style>\n",
       "<table border=\"1\" class=\"dataframe\">\n",
       "  <thead>\n",
       "    <tr style=\"text-align: right;\">\n",
       "      <th></th>\n",
       "      <th>0</th>\n",
       "    </tr>\n",
       "  </thead>\n",
       "  <tbody>\n",
       "    <tr>\n",
       "      <th>count</th>\n",
       "      <td>10000.000000</td>\n",
       "    </tr>\n",
       "    <tr>\n",
       "      <th>mean</th>\n",
       "      <td>0.500167</td>\n",
       "    </tr>\n",
       "    <tr>\n",
       "      <th>std</th>\n",
       "      <td>0.289216</td>\n",
       "    </tr>\n",
       "    <tr>\n",
       "      <th>min</th>\n",
       "      <td>0.000037</td>\n",
       "    </tr>\n",
       "    <tr>\n",
       "      <th>25%</th>\n",
       "      <td>0.249139</td>\n",
       "    </tr>\n",
       "    <tr>\n",
       "      <th>50%</th>\n",
       "      <td>0.501223</td>\n",
       "    </tr>\n",
       "    <tr>\n",
       "      <th>75%</th>\n",
       "      <td>0.751360</td>\n",
       "    </tr>\n",
       "    <tr>\n",
       "      <th>max</th>\n",
       "      <td>0.999994</td>\n",
       "    </tr>\n",
       "  </tbody>\n",
       "</table>\n",
       "</div>"
      ],
      "text/plain": [
       "                  0\n",
       "count  10000.000000\n",
       "mean       0.500167\n",
       "std        0.289216\n",
       "min        0.000037\n",
       "25%        0.249139\n",
       "50%        0.501223\n",
       "75%        0.751360\n",
       "max        0.999994"
      ]
     },
     "execution_count": 9,
     "metadata": {},
     "output_type": "execute_result"
    }
   ],
   "source": [
    "import pandas as pd\n",
    "\n",
    "df = pd.DataFrame(normalArray)\n",
    "df.describe()"
   ]
  },
  {
   "cell_type": "markdown",
   "metadata": {},
   "source": [
    "As expected for a uniform distribution, the first quartile has a value that is approximately = 0.25 and the third quartile is approximately = to 0.75."
   ]
  },
  {
   "cell_type": "markdown",
   "metadata": {},
   "source": [
    "### np.random.randn()\n",
    "\n",
    "The np.random.randn() function is similar to the np.random.randn() function in that it produces an array of a size that is determined by the parameters that are passed to the function. However, the array created is composed of random samples that follow a Gaussian distribution with mean 0 and variance 1. Reference - https://docs.scipy.org/doc/numpy-1.13.0/reference/generated/numpy.random.randn.html#numpy.random.randn\n",
    "\n",
    "As the standard deviation is equal to the square root of the variance then the standard deviation will also be equal to 1 as the square root of 1 is also 1.\n",
    "\n",
    "We can visualise this below with a histogram:\n"
   ]
  },
  {
   "cell_type": "code",
   "execution_count": 10,
   "metadata": {},
   "outputs": [
    {
     "data": {
      "image/png": "[encoded data removed]",
      "text/plain": [
       "<matplotlib.figure.Figure at 0x25e68611b70>"
      ]
     },
     "metadata": {},
     "output_type": "display_data"
    }
   ],
   "source": [
    "import pandas as pd\n",
    "import matplotlib.pyplot as plt\n",
    "\n",
    "normalArray = np.random.randn(10000)\n",
    "\n",
    "plt.hist(normalArray, bins = 50)\n",
    "plt.show()"
   ]
  },
  {
   "cell_type": "markdown",
   "metadata": {},
   "source": [
    "The distribution for this is much different from the uniform distribution above. The peak of the distributions are seen at the mean with less values seen further away from the mean. This distribution is commonly called the Bell Curve - Link https://www.investopedia.com/terms/b/bell-curve.asp"
   ]
  },
  {
   "cell_type": "code",
   "execution_count": 11,
   "metadata": {},
   "outputs": [
    {
     "data": {
      "text/html": [
       "<div>\n",
       "<style>\n",
       "    .dataframe thead tr:only-child th {\n",
       "        text-align: right;\n",
       "    }\n",
       "\n",
       "    .dataframe thead th {\n",
       "        text-align: left;\n",
       "    }\n",
       "\n",
       "    .dataframe tbody tr th {\n",
       "        vertical-align: top;\n",
       "    }\n",
       "</style>\n",
       "<table border=\"1\" class=\"dataframe\">\n",
       "  <thead>\n",
       "    <tr style=\"text-align: right;\">\n",
       "      <th></th>\n",
       "      <th>0</th>\n",
       "    </tr>\n",
       "  </thead>\n",
       "  <tbody>\n",
       "    <tr>\n",
       "      <th>count</th>\n",
       "      <td>10000.000000</td>\n",
       "    </tr>\n",
       "    <tr>\n",
       "      <th>mean</th>\n",
       "      <td>-0.004613</td>\n",
       "    </tr>\n",
       "    <tr>\n",
       "      <th>std</th>\n",
       "      <td>1.006480</td>\n",
       "    </tr>\n",
       "    <tr>\n",
       "      <th>min</th>\n",
       "      <td>-3.696737</td>\n",
       "    </tr>\n",
       "    <tr>\n",
       "      <th>25%</th>\n",
       "      <td>-0.664672</td>\n",
       "    </tr>\n",
       "    <tr>\n",
       "      <th>50%</th>\n",
       "      <td>-0.008503</td>\n",
       "    </tr>\n",
       "    <tr>\n",
       "      <th>75%</th>\n",
       "      <td>0.670932</td>\n",
       "    </tr>\n",
       "    <tr>\n",
       "      <th>max</th>\n",
       "      <td>3.546299</td>\n",
       "    </tr>\n",
       "  </tbody>\n",
       "</table>\n",
       "</div>"
      ],
      "text/plain": [
       "                  0\n",
       "count  10000.000000\n",
       "mean      -0.004613\n",
       "std        1.006480\n",
       "min       -3.696737\n",
       "25%       -0.664672\n",
       "50%       -0.008503\n",
       "75%        0.670932\n",
       "max        3.546299"
      ]
     },
     "execution_count": 11,
     "metadata": {},
     "output_type": "execute_result"
    }
   ],
   "source": [
    "df = pd.DataFrame(normalArray)\n",
    "df.describe()"
   ]
  },
  {
   "cell_type": "markdown",
   "metadata": {},
   "source": [
    "The descritive statistics for the array created by np.random.randn() above show that the standard deviation is approximatley = to 1. We can see also that the min and max values are -3.6 and 3.8 correct to 1 d.p., respectively."
   ]
  },
  {
   "cell_type": "markdown",
   "metadata": {},
   "source": [
    "### np.random.randint\n",
    "\n",
    "The np.random.randint function from low (inclusive) to high (execlusive).  Reference - https://docs.scipy.org/doc/numpy-1.15.1/reference/generated/numpy.random.randint.html\n",
    "\n",
    "\n",
    "Passing a single parameter to the function gives us a random integer from 0 to the number passed (exclusive)"
   ]
  },
  {
   "cell_type": "code",
   "execution_count": 12,
   "metadata": {},
   "outputs": [
    {
     "data": {
      "text/plain": [
       "6"
      ]
     },
     "execution_count": 12,
     "metadata": {},
     "output_type": "execute_result"
    }
   ],
   "source": [
    "np.random.randint(10)"
   ]
  },
  {
   "cell_type": "markdown",
   "metadata": {},
   "source": [
    "We can set a the low and high parameters as follows:"
   ]
  },
  {
   "cell_type": "code",
   "execution_count": 13,
   "metadata": {},
   "outputs": [
    {
     "data": {
      "text/plain": [
       "99"
      ]
     },
     "execution_count": 13,
     "metadata": {},
     "output_type": "execute_result"
    }
   ],
   "source": [
    "np.random.randint(90, high=100)"
   ]
  },
  {
   "cell_type": "markdown",
   "metadata": {},
   "source": [
    "To create a 1-D array of size we do the following:"
   ]
  },
  {
   "cell_type": "code",
   "execution_count": 14,
   "metadata": {},
   "outputs": [
    {
     "data": {
      "text/plain": [
       "array([17, 19, 16, 17, 13, 11, 16, 13, 18, 13])"
      ]
     },
     "execution_count": 14,
     "metadata": {},
     "output_type": "execute_result"
    }
   ],
   "source": [
    "np.random.randint(10, high=20, size=10)"
   ]
  },
  {
   "cell_type": "markdown",
   "metadata": {},
   "source": [
    "We can also create multi-dimensional arrays. To create a 2-D array of size 2 * 10:"
   ]
  },
  {
   "cell_type": "code",
   "execution_count": 15,
   "metadata": {},
   "outputs": [
    {
     "data": {
      "text/plain": [
       "array([[16, 16, 15, 15, 12, 17, 18, 14, 17, 11],\n",
       "       [13, 13, 12, 17, 17, 19, 16, 16, 18, 10]])"
      ]
     },
     "execution_count": 15,
     "metadata": {},
     "output_type": "execute_result"
    }
   ],
   "source": [
    "np.random.randint(10, high=20, size=(2, 10))"
   ]
  },
  {
   "cell_type": "markdown",
   "metadata": {},
   "source": [
    "## Permutations\n",
    "\n",
    "The section contains the np.random.shuffle and the np.random.permutation functions."
   ]
  },
  {
   "cell_type": "markdown",
   "metadata": {},
   "source": [
    "### np.random.shuffle()\n",
    "\n",
    "The np.random.shuffle() function can modify a sequence in place by shuffling its contents - Reference https://docs.scipy.org/doc/numpy-1.15.1/reference/generated/numpy.random.shuffle.html#numpy.random.shuffle\n",
    "\n",
    "We can see with the next example, that the np.random.shuffle function changes the original array"
   ]
  },
  {
   "cell_type": "code",
   "execution_count": 16,
   "metadata": {},
   "outputs": [
    {
     "data": {
      "text/plain": [
       "[5, 4, 3, 2, 1]"
      ]
     },
     "execution_count": 16,
     "metadata": {},
     "output_type": "execute_result"
    }
   ],
   "source": [
    "array = [1, 2, 3, 4, 5]\n",
    "np.random.shuffle(array)\n",
    "array"
   ]
  },
  {
   "cell_type": "markdown",
   "metadata": {},
   "source": [
    "With a multi-dimensional array, only the first axis of the array is shuffled:"
   ]
  },
  {
   "cell_type": "code",
   "execution_count": 17,
   "metadata": {},
   "outputs": [
    {
     "data": {
      "text/plain": [
       "[[11, 12, 13, 14, 15], [6, 7, 8, 9, 10], [1, 2, 3, 4, 5]]"
      ]
     },
     "execution_count": 17,
     "metadata": {},
     "output_type": "execute_result"
    }
   ],
   "source": [
    "array = [[1, 2, 3, 4, 5], [6, 7, 8, 9, 10], [11, 12, 13, 14, 15]]\n",
    "np.random.shuffle(array)\n",
    "array"
   ]
  },
  {
   "cell_type": "markdown",
   "metadata": {},
   "source": [
    "### np.random.permutation()\n",
    "The np.random.permutation function randomly permutates a sequence. Reference - https://docs.scipy.org/doc/numpy-1.15.1/reference/generated/numpy.random.permutation.html#numpy.random.permutation\n",
    "\n",
    "The np.random.permutation function produces a similar output to np.random.shuffle"
   ]
  },
  {
   "cell_type": "code",
   "execution_count": 18,
   "metadata": {},
   "outputs": [
    {
     "data": {
      "text/plain": [
       "array([2, 3, 5, 4, 1])"
      ]
     },
     "execution_count": 18,
     "metadata": {},
     "output_type": "execute_result"
    }
   ],
   "source": [
    "array = [1, 2, 3, 4, 5]\n",
    "np.random.permutation(array)"
   ]
  },
  {
   "cell_type": "markdown",
   "metadata": {},
   "source": [
    "However with the np.random.permutation function leaves the original array intact:"
   ]
  },
  {
   "cell_type": "code",
   "execution_count": 19,
   "metadata": {},
   "outputs": [
    {
     "data": {
      "text/plain": [
       "[1, 2, 3, 4, 5]"
      ]
     },
     "execution_count": 19,
     "metadata": {},
     "output_type": "execute_result"
    }
   ],
   "source": [
    "array"
   ]
  },
  {
   "cell_type": "markdown",
   "metadata": {},
   "source": [
    "Just like np.random.shuffle, for multi-dimensional arrays only the first axis is shuffled:"
   ]
  },
  {
   "cell_type": "code",
   "execution_count": 20,
   "metadata": {},
   "outputs": [
    {
     "data": {
      "text/plain": [
       "array([[ 6,  7,  8,  9, 10],\n",
       "       [ 1,  2,  3,  4,  5],\n",
       "       [11, 12, 13, 14, 15]])"
      ]
     },
     "execution_count": 20,
     "metadata": {},
     "output_type": "execute_result"
    }
   ],
   "source": [
    "array = [[1, 2, 3, 4, 5], [6, 7, 8, 9, 10], [11, 12, 13, 14, 15]]\n",
    "np.random.permutation(array)"
   ]
  },
  {
   "cell_type": "markdown",
   "metadata": {},
   "source": [
    "## Distributions\n",
    "\n",
    "Above two distributions were created using the np.random.rand and the np.random.randn functions to give the uniform and normal distributions, respectively. However, an easier way to create these functions is by using np.random.uniform and np.radom.normal, respectively. The distributions section of the official documentation page on np.random ( link - https://docs.scipy.org/doc/numpy-1.15.1/reference/routines.random.html) contains a wide variety of distributions. I will provide a handful of examples here.\n",
    "\n",
    "### Exponential Distribution\n",
    "\n",
    "The exponential distribution is often used to model the time elapsed between events ( reference - https://www.probabilitycourse.com/chapter4/4_2_2_exponential.php), such as the time between page requests to Wikipedia ( reference - https://docs.scipy.org/doc/numpy-1.15.1/reference/generated/numpy.random.exponential.html#r3cbd6af2d0d3-2)\n",
    "\n",
    "The np.random.exponential function takes two parameters: the scale and size."
   ]
  },
  {
   "cell_type": "code",
   "execution_count": 21,
   "metadata": {
    "collapsed": true
   },
   "outputs": [],
   "source": [
    "import numpy as np\n",
    "import matplotlib.pyplot as plt"
   ]
  },
  {
   "cell_type": "code",
   "execution_count": 22,
   "metadata": {},
   "outputs": [
    {
     "data": {
      "image/png": "[encoded data removed]",
      "text/plain": [
       "<matplotlib.figure.Figure at 0x25e68664b38>"
      ]
     },
     "metadata": {},
     "output_type": "display_data"
    }
   ],
   "source": [
    "x = np.random.exponential(1, 10000)\n",
    "plt.hist(x, bins= 50)\n",
    "plt.show()"
   ]
  },
  {
   "cell_type": "code",
   "execution_count": 23,
   "metadata": {},
   "outputs": [
    {
     "name": "stdout",
     "output_type": "stream",
     "text": [
      "y is: \n",
      " [  2.13927483   2.93926349   1.84232928  16.27755973   5.85374982\n",
      "  10.2506227    9.0557943   41.1482561   11.08373694   1.5355993\n",
      "   3.84546908   0.74735338  20.85933004  13.17906872  30.32920585\n",
      "   5.01738668  12.42749837   2.53269544   1.89847452   9.93489689\n",
      "  14.30160954  11.16664969   5.11424311   1.06460856   3.8312986\n",
      "   7.99284794  14.06819807   9.61806655  27.08659235  24.74902076\n",
      "   3.19952316  65.13653118  40.31739897   5.95238533   9.71326342\n",
      "  26.70850685   8.9267616   12.40125374   6.30095087   0.93489516\n",
      "   0.14826578  14.39829104  16.35267911  22.28996295   9.28213328\n",
      "   6.28271395  24.67512219   5.05936137   4.5274963   25.60547561\n",
      "   8.71301487  12.38403545   1.06968221  16.06369287   3.4585373\n",
      "   9.5937866    0.51686408  11.31020209  14.38929753   9.2591874\n",
      "  18.73995388   2.61735437   0.23711542  13.55325594   4.01842723\n",
      "   3.73507649   1.01591438   3.41885183   3.95769778  31.01518931\n",
      "   8.82323061  24.80143388  15.95751088   4.73523167  14.33080257\n",
      "   9.53927876  18.43271993  36.40694641  15.18396279   6.63822671\n",
      "  19.00608885  30.65116657   5.23037446   1.74093259   6.10629285\n",
      "   1.89302705   3.9904795    0.60405431  14.58004275  23.56388906\n",
      "  14.40147294  28.4354665   22.04707666  11.56541167  23.97102925\n",
      "   0.0668883   10.70048315   4.40534304   9.12491118   4.38549855]\n",
      "z is: \n",
      " 1190.49008293\n"
     ]
    }
   ],
   "source": [
    "y = np.random.exponential(10, 100)\n",
    "\n",
    "z = np.sum(y)\n",
    "\n",
    "print(\"y is: \\n\", y)\n",
    "print(\"z is: \\n\", z)"
   ]
  },
  {
   "cell_type": "code",
   "execution_count": 24,
   "metadata": {},
   "outputs": [
    {
     "name": "stdout",
     "output_type": "stream",
     "text": [
      "The size is:\n",
      " 100\n"
     ]
    }
   ],
   "source": [
    "size = np.size(y)\n",
    "print(\"The size is:\\n\", size)"
   ]
  },
  {
   "cell_type": "code",
   "execution_count": 25,
   "metadata": {},
   "outputs": [
    {
     "name": "stdout",
     "output_type": "stream",
     "text": [
      "The average value is:\n",
      " 11.9049008293\n"
     ]
    }
   ],
   "source": [
    "average = z / size\n",
    "print(\"The average value is:\\n\", average)"
   ]
  },
  {
   "cell_type": "markdown",
   "metadata": {},
   "source": [
    "np.random.exponential takes two arguments. The first will be what the average value is approimately equal to. The second number is the size of the array (the number of elements in it). The sum of all elements returned is approximately equal to the two arguements passed."
   ]
  },
  {
   "cell_type": "markdown",
   "metadata": {},
   "source": [
    "### Laplace Distribution\n",
    "\n",
    "The laplace distribution is similar to the normal distribution except that it has a higher peak and fatter tails.\n",
    "(Reference - https://www.statisticshowto.datasciencecentral.com/laplace-distribution-double-exponential/)\n",
    "\n",
    "The laplace distribution can be used to model extreme events such as annual maximum one-day rainfalls and river discharges. (Reference - https://en.wikipedia.org/wiki/Laplace_distribution#Applications).\n",
    "\n",
    "The np.random.laplace function take 3 parameters: location (peak of the distribution), scale (the exponential decay) and the size."
   ]
  },
  {
   "cell_type": "code",
   "execution_count": 26,
   "metadata": {},
   "outputs": [
    {
     "data": {
      "image/png": "[encoded data removed]",
      "text/plain": [
       "<matplotlib.figure.Figure at 0x25e68775940>"
      ]
     },
     "metadata": {},
     "output_type": "display_data"
    }
   ],
   "source": [
    "laplace = np.random.laplace(1000, 1, 1000000)\n",
    "plt.hist(laplace, bins=100)\n",
    "plt.show()"
   ]
  },
  {
   "cell_type": "code",
   "execution_count": 27,
   "metadata": {},
   "outputs": [
    {
     "name": "stdout",
     "output_type": "stream",
     "text": [
      "Laplace is:\n",
      " [ 1000.36855048  1001.27595353  1002.42984416 ...,  1000.62211723\n",
      "  1000.03197541  1002.08297229]\n"
     ]
    }
   ],
   "source": [
    "print(\"Laplace is:\\n\", laplace)"
   ]
  },
  {
   "cell_type": "code",
   "execution_count": 28,
   "metadata": {},
   "outputs": [
    {
     "name": "stdout",
     "output_type": "stream",
     "text": [
      "The sum of the laplace array is:\n",
      " 1000001193.26\n"
     ]
    }
   ],
   "source": [
    "sumOfLaplace = np.sum(laplace)\n",
    "print(\"The sum of the laplace array is:\\n\", sumOfLaplace)"
   ]
  },
  {
   "cell_type": "markdown",
   "metadata": {},
   "source": [
    "The sum of the laplace array appears to be equal to the location * the size (when the scale equals 1) "
   ]
  },
  {
   "cell_type": "code",
   "execution_count": 29,
   "metadata": {},
   "outputs": [
    {
     "data": {
      "text/plain": [
       "1000000"
      ]
     },
     "execution_count": 29,
     "metadata": {},
     "output_type": "execute_result"
    }
   ],
   "source": [
    "np.size(laplace)"
   ]
  },
  {
   "cell_type": "markdown",
   "metadata": {},
   "source": [
    "### Rayleigh Distribution\n",
    "\n",
    "The Rayleigh distribution is commonly used in MRI imaging to estimate the noise variance background data. (Reference - https://en.wikipedia.org/wiki/Rayleigh_distribution#Applications)\n",
    "\n",
    "The np.random.rayleigh function takes two parameters: the scale ( this is also equal to the peak of the distribution) and the size."
   ]
  },
  {
   "cell_type": "code",
   "execution_count": 30,
   "metadata": {},
   "outputs": [
    {
     "data": {
      "image/png": "[encoded data removed]",
      "text/plain": [
       "<matplotlib.figure.Figure at 0x25e68607748>"
      ]
     },
     "metadata": {},
     "output_type": "display_data"
    }
   ],
   "source": [
    "rayleigh = np.random.rayleigh(3, 1000000)\n",
    "plt.hist(rayleigh, bins = 100)\n",
    "plt.show()\n"
   ]
  },
  {
   "cell_type": "markdown",
   "metadata": {},
   "source": [
    "### Poisson Distribution\n",
    "\n",
    "The Poisson distribution is commonly used in many applications such as insurance to model the number of losses or claims in a given period and in biology to model the number of mutations on a strand of DNA of given length. (Reference - https://en.wikipedia.org/wiki/Poisson_distribution#Occurrence)\n",
    "\n",
    "The np.random.poisson function takes two parameters: the lam ( this is the expected interval) and the size.\n"
   ]
  },
  {
   "cell_type": "code",
   "execution_count": 31,
   "metadata": {},
   "outputs": [
    {
     "data": {
      "image/png": "[encoded data removed]",
      "text/plain": [
       "<matplotlib.figure.Figure at 0x25e68c1fe10>"
      ]
     },
     "metadata": {},
     "output_type": "display_data"
    }
   ],
   "source": [
    "poisson = np.random.poisson(10, 1000000)\n",
    "\n",
    "plt.hist(poisson, bins=30)\n",
    "\n",
    "plt.show()\n"
   ]
  },
  {
   "cell_type": "code",
   "execution_count": 32,
   "metadata": {},
   "outputs": [
    {
     "data": {
      "text/html": [
       "<div>\n",
       "<style>\n",
       "    .dataframe thead tr:only-child th {\n",
       "        text-align: right;\n",
       "    }\n",
       "\n",
       "    .dataframe thead th {\n",
       "        text-align: left;\n",
       "    }\n",
       "\n",
       "    .dataframe tbody tr th {\n",
       "        vertical-align: top;\n",
       "    }\n",
       "</style>\n",
       "<table border=\"1\" class=\"dataframe\">\n",
       "  <thead>\n",
       "    <tr style=\"text-align: right;\">\n",
       "      <th></th>\n",
       "      <th>0</th>\n",
       "    </tr>\n",
       "  </thead>\n",
       "  <tbody>\n",
       "    <tr>\n",
       "      <th>count</th>\n",
       "      <td>1000000.000000</td>\n",
       "    </tr>\n",
       "    <tr>\n",
       "      <th>mean</th>\n",
       "      <td>9.997747</td>\n",
       "    </tr>\n",
       "    <tr>\n",
       "      <th>std</th>\n",
       "      <td>3.156879</td>\n",
       "    </tr>\n",
       "    <tr>\n",
       "      <th>min</th>\n",
       "      <td>0.000000</td>\n",
       "    </tr>\n",
       "    <tr>\n",
       "      <th>25%</th>\n",
       "      <td>8.000000</td>\n",
       "    </tr>\n",
       "    <tr>\n",
       "      <th>50%</th>\n",
       "      <td>10.000000</td>\n",
       "    </tr>\n",
       "    <tr>\n",
       "      <th>75%</th>\n",
       "      <td>12.000000</td>\n",
       "    </tr>\n",
       "    <tr>\n",
       "      <th>max</th>\n",
       "      <td>29.000000</td>\n",
       "    </tr>\n",
       "  </tbody>\n",
       "</table>\n",
       "</div>"
      ],
      "text/plain": [
       "                    0\n",
       "count  1000000.000000\n",
       "mean         9.997747\n",
       "std          3.156879\n",
       "min          0.000000\n",
       "25%          8.000000\n",
       "50%         10.000000\n",
       "75%         12.000000\n",
       "max         29.000000"
      ]
     },
     "execution_count": 32,
     "metadata": {},
     "output_type": "execute_result"
    }
   ],
   "source": [
    "import pandas as pd\n",
    "df = pd.DataFrame(poisson)\n",
    "\n",
    "df.describe()"
   ]
  },
  {
   "cell_type": "markdown",
   "metadata": {},
   "source": [
    "We can see from the descriptive statistics that the median value is equal to the lam parameter."
   ]
  },
  {
   "cell_type": "markdown",
   "metadata": {},
   "source": [
    "### Gaussian Distribution\n",
    "\n",
    "The Gaussian distribution is commonly used to represent IQ test scores. ( Reference - https://en.wikipedia.org/wiki/Normal_distribution#Occurrence_and_applications)\n",
    "\n",
    "The np.random.normal function takes 3 parameters: the location (the peak of the distribution) , scale (this is equal to the standard deviation) and size.\n",
    "\n",
    "IQ test scores have a location of 100 and a standard deviation of 15. (Reference - https://www.csus.edu/indiv/b/brocks/Courses/EDS%20250/EDS%20250/Handouts/11/Descrptive%20Statistics%20and%20the%20Normal%20Curve.pdf) We can show what this would look like with the np.random.normal function:"
   ]
  },
  {
   "cell_type": "code",
   "execution_count": 33,
   "metadata": {},
   "outputs": [
    {
     "data": {
      "image/png": "[encoded data removed]",
      "text/plain": [
       "<matplotlib.figure.Figure at 0x25e68a7d588>"
      ]
     },
     "metadata": {},
     "output_type": "display_data"
    }
   ],
   "source": [
    "normal = np.random.normal(100, 15, 100000)\n",
    "plt.hist(normal, bins=100)\n",
    "plt.show()"
   ]
  },
  {
   "cell_type": "markdown",
   "metadata": {},
   "source": [
    "## Seeds\n",
    "\n",
    "A seed is a number used to initialize a psuedorandom number generator. (Reference - https://en.wikipedia.org/wiki/Random_seed). \n",
    "\n",
    "A seed is useful if you wish to produce the same output for testing purposes.\n",
    "\n",
    "\n",
    "### np.random.RandomState\n",
    "\n",
    "This function will always produce the same result when a fixed seed and a fixed series of calls are used. (Reference - https://docs.scipy.org/doc/numpy-1.15.1/reference/generated/numpy.random.RandomState.html#numpy.random.RandomState)\n",
    "\n",
    "We can seed a normal distribution at 5 by using the following code:"
   ]
  },
  {
   "cell_type": "code",
   "execution_count": 34,
   "metadata": {},
   "outputs": [
    {
     "data": {
      "text/plain": [
       "array([ 106.6184123 ,   95.03694772,  136.46156781,   96.21861806,\n",
       "        101.64414762,  123.73721676,   86.36151393,   91.12545013,\n",
       "        102.81404839,   95.05195063])"
      ]
     },
     "execution_count": 34,
     "metadata": {},
     "output_type": "execute_result"
    }
   ],
   "source": [
    "np.random.RandomState(seed= 5).normal(100, 15, 10)"
   ]
  },
  {
   "cell_type": "markdown",
   "metadata": {},
   "source": [
    "Using the same code again will give us the same output:"
   ]
  },
  {
   "cell_type": "code",
   "execution_count": 40,
   "metadata": {},
   "outputs": [
    {
     "data": {
      "text/plain": [
       "array([ 106.6184123 ,   95.03694772,  136.46156781,   96.21861806,\n",
       "        101.64414762,  123.73721676,   86.36151393,   91.12545013,\n",
       "        102.81404839,   95.05195063])"
      ]
     },
     "execution_count": 40,
     "metadata": {},
     "output_type": "execute_result"
    }
   ],
   "source": [
    "np.random.RandomState(seed= 5).normal(100, 15, 10)"
   ]
  },
  {
   "cell_type": "markdown",
   "metadata": {},
   "source": [
    "Without setting the seed there should be a different output:"
   ]
  },
  {
   "cell_type": "code",
   "execution_count": 41,
   "metadata": {},
   "outputs": [
    {
     "data": {
      "text/plain": [
       "array([  82.10853081,   96.92685234,   94.61756579,  109.05207404,\n",
       "         75.02817206,   89.49731443,  117.27086514,  127.85996511,\n",
       "         77.33230663,  109.67271266])"
      ]
     },
     "execution_count": 41,
     "metadata": {},
     "output_type": "execute_result"
    }
   ],
   "source": [
    "np.random.normal(100, 15, 10)"
   ]
  },
  {
   "cell_type": "markdown",
   "metadata": {},
   "source": [
    "We can test that the output for these are the same:"
   ]
  },
  {
   "cell_type": "code",
   "execution_count": 35,
   "metadata": {},
   "outputs": [
    {
     "data": {
      "text/plain": [
       "True"
      ]
     },
     "execution_count": 35,
     "metadata": {},
     "output_type": "execute_result"
    }
   ],
   "source": [
    "normalSeed1 = np.random.RandomState(seed= 5).normal(100, 15, 1000000)\n",
    "normalSeed2 = np.random.RandomState(seed= 5).normal(100, 15, 1000000)\n",
    "\n",
    "np.array_equal(normalSeed1, normalSeed2)\n"
   ]
  },
  {
   "cell_type": "markdown",
   "metadata": {},
   "source": [
    "Doing the same test without np.random.RandomState"
   ]
  },
  {
   "cell_type": "code",
   "execution_count": 36,
   "metadata": {},
   "outputs": [
    {
     "data": {
      "text/plain": [
       "False"
      ]
     },
     "execution_count": 36,
     "metadata": {},
     "output_type": "execute_result"
    }
   ],
   "source": [
    "normal1 = np.random.normal(100, 15, 1000000)\n",
    "normal2 = np.random.normal(100, 15, 1000000)\n",
    "\n",
    "np.array_equal(normal1, normal2)\n",
    "\n"
   ]
  },
  {
   "cell_type": "markdown",
   "metadata": {},
   "source": [
    "### np.random.seed\n",
    "\n",
    "The np.random.seed function can also be used to produce similar results. For example:"
   ]
  },
  {
   "cell_type": "code",
   "execution_count": 6,
   "metadata": {},
   "outputs": [
    {
     "name": "stdout",
     "output_type": "stream",
     "text": [
      "[ 106.6184123    95.03694772  136.46156781   96.21861806  101.64414762\n",
      "  123.73721676   86.36151393   91.12545013  102.81404839   95.05195063]\n"
     ]
    }
   ],
   "source": [
    "np.random.seed(5)\n",
    "normal1 = np.random.normal(100, 15, 10)\n",
    "print(normal1)"
   ]
  },
  {
   "cell_type": "markdown",
   "metadata": {},
   "source": [
    "Setting the seed to 5 again will give identical results to the above"
   ]
  },
  {
   "cell_type": "code",
   "execution_count": 7,
   "metadata": {},
   "outputs": [
    {
     "name": "stdout",
     "output_type": "stream",
     "text": [
      "[ 106.6184123    95.03694772  136.46156781   96.21861806  101.64414762\n",
      "  123.73721676   86.36151393   91.12545013  102.81404839   95.05195063]\n"
     ]
    }
   ],
   "source": [
    "np.random.seed(5)\n",
    "normal1 = np.random.normal(100, 15, 10)\n",
    "print(normal1)"
   ]
  },
  {
   "cell_type": "markdown",
   "metadata": {},
   "source": [
    "Without setting the seed we should see different results:"
   ]
  },
  {
   "cell_type": "code",
   "execution_count": 8,
   "metadata": {},
   "outputs": [
    {
     "name": "stdout",
     "output_type": "stream",
     "text": [
      "[  82.10853081   96.92685234   94.61756579  109.05207404   75.02817206\n",
      "   89.49731443  117.27086514  127.85996511   77.33230663  109.67271266]\n"
     ]
    }
   ],
   "source": [
    "normal1 = np.random.normal(100, 15, 10)\n",
    "print(normal1)"
   ]
  },
  {
   "cell_type": "markdown",
   "metadata": {},
   "source": [
    "## References"
   ]
  },
  {
   "cell_type": "code",
   "execution_count": null,
   "metadata": {
    "collapsed": true
   },
   "outputs": [],
   "source": []
  }
 ],
 "metadata": {
  "kernelspec": {
   "display_name": "Python 3",
   "language": "python",
   "name": "python3"
  },
  "language_info": {
   "codemirror_mode": {
    "name": "ipython",
    "version": 3
   },
   "file_extension": ".py",
   "mimetype": "text/x-python",
   "name": "python",
   "nbconvert_exporter": "python",
   "pygments_lexer": "ipython3",
   "version": "3.6.3"
  }
 },
 "nbformat": 4,
 "nbformat_minor": 2
}
