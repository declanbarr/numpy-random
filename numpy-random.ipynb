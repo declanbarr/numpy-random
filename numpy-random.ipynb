{
 "cells": [
  {
   "cell_type": "markdown",
   "metadata": {},
   "source": [
    "# The numpy.random package"
   ]
  },
  {
   "cell_type": "markdown",
   "metadata": {
    "collapsed": true
   },
   "source": [
    "## Introduction\n",
    "\n",
    "### NumPy\n",
    "NumPy is a library in Python used for scientific computing. It is open-source and therefore free to use as apposed to MATLAB which is also used for scientific computing. NumPy provides efficient operation on arrays of homogeneous data. Reference -https://www.scipy.org/scipylib/faq.html. \n",
    "\n",
    "The offical documentation for NumPy can be found here https://docs.scipy.org/doc/numpy/reference/. The official NumPy website is here http://www.numpy.org/.\n",
    "\n",
    "NumPy can provide random numbers through the numpy.random package\n",
    "\n",
    "### Purpose of the numpy.random package\n",
    "\n",
    "The numpy.random package provides various ways of producing pseudorandom numbers. It uses the Mersenne Twister algorithm (https://en.wikipedia.org/wiki/Mersenne_Twister) to generate pseudorandom numbers Reference - https://www.packtpub.com/mapt/book/big_data_and_business_intelligence/9781785285110/2/ch02lvl1sec16/numpy-random-numbers\n",
    "\n",
    "The numbers are considered psuedo random rather than just random, as they are generated deterministically from a seed. Ref - https://engineering.ucsb.edu/~shell/che210d/numpy.pdf\n",
    "\n",
    "Random numbers can be used as toy datasets for testing purposes. These random numbers can be applied to a series of numbers in order to create random noise like what would be observed in a real life experiment.\n",
    "\n",
    "\n",
    "\n",
    "The official documentation page for the numpy.random package can be found here - https://docs.scipy.org/doc/numpy-1.13.0/reference/routines.random.html\n",
    "\n",
    "On the official documentation page there are four distinct sections which provide a number of functions related to generating random numbers. This notebook provides examples and explanations for some of these functions. \n",
    "\n",
    "\n",
    "* discuss different sections\n",
    "    * Simple Random Data\n",
    "    * Permutations\n",
    "    * Distributions\n",
    "    * Seeds"
   ]
  },
  {
   "cell_type": "markdown",
   "metadata": {},
   "source": [
    "## Simple Random Data\n",
    "\n",
    "This section contains a number of functions that generate random numbers of different types as well as being able to make various random selections from a list."
   ]
  },
  {
   "cell_type": "markdown",
   "metadata": {},
   "source": [
    "### numpy.random.choice()\n",
    "\n",
    "The numpy.random.choice() function produces a random sample from a given 1-D array - Reference https://docs.scipy.org/doc/numpy-1.13.0/reference/generated/numpy.random.choice.html#numpy.random.choice"
   ]
  },
  {
   "cell_type": "code",
   "execution_count": 1,
   "metadata": {},
   "outputs": [
    {
     "data": {
      "text/plain": [
       "'cow'"
      ]
     },
     "execution_count": 1,
     "metadata": {},
     "output_type": "execute_result"
    }
   ],
   "source": [
    "import numpy as np\n",
    "\n",
    "animals = ['cat', 'dog', 'rabbit', 'horse', 'cow']\n",
    "\n",
    "np.random.choice(animals)"
   ]
  },
  {
   "cell_type": "markdown",
   "metadata": {},
   "source": [
    "Here the np.random.choice() function picks a single random element from the 'animals' array. We can choose more than one element by changing the size parameter. "
   ]
  },
  {
   "cell_type": "code",
   "execution_count": 2,
   "metadata": {},
   "outputs": [
    {
     "data": {
      "text/plain": [
       "array(['horse', 'cow', 'cow', 'cat', 'cow'],\n",
       "      dtype='<U6')"
      ]
     },
     "execution_count": 2,
     "metadata": {},
     "output_type": "execute_result"
    }
   ],
   "source": [
    "np.random.choice(animals, size = 5)"
   ]
  },
  {
   "cell_type": "markdown",
   "metadata": {},
   "source": [
    "Setting size to 5 gives us 5 elements in the output. An element can appear more than once. If we wish that an element is not repeated then we can set the replace parameter to False."
   ]
  },
  {
   "cell_type": "code",
   "execution_count": 3,
   "metadata": {},
   "outputs": [
    {
     "data": {
      "text/plain": [
       "array(['dog', 'rabbit', 'cat', 'cow', 'horse'],\n",
       "      dtype='<U6')"
      ]
     },
     "execution_count": 3,
     "metadata": {},
     "output_type": "execute_result"
    }
   ],
   "source": [
    "np.random.choice(animals, size = 5, replace = False)"
   ]
  },
  {
   "cell_type": "markdown",
   "metadata": {},
   "source": [
    "If we wish for certain elements to be more likely to appear, then we can set the probability parameter, p, like so:"
   ]
  },
  {
   "cell_type": "code",
   "execution_count": 4,
   "metadata": {},
   "outputs": [
    {
     "data": {
      "text/plain": [
       "array(['cat', 'dog', 'cow', 'cow', 'cow', 'cow', 'cat', 'cow', 'cow', 'cow'],\n",
       "      dtype='<U6')"
      ]
     },
     "execution_count": 4,
     "metadata": {},
     "output_type": "execute_result"
    }
   ],
   "source": [
    "np.random.choice(animals, size = 10, p=[0.1, 0.1, 0.1, 0.1, 0.6])"
   ]
  },
  {
   "cell_type": "markdown",
   "metadata": {},
   "source": [
    "In the above, the 5th element in the array has a 60% likelyhood of being selected while the rest only have a 10% likelyhood each."
   ]
  },
  {
   "cell_type": "markdown",
   "metadata": {},
   "source": [
    "### np.random.rand()\n",
    "\n",
    "The np.random.rand() function produces an array with random samples from a uniform distribution from 0 to 1 exclusive. The parameter passed to the function determines the size of the array. Reference - https://docs.scipy.org/doc/numpy-1.13.0/reference/generated/numpy.random.rand.html#numpy.random.rand. \n",
    "\n",
    "For example, we can create a 1-D array with 10 elements using the following:"
   ]
  },
  {
   "cell_type": "code",
   "execution_count": 5,
   "metadata": {},
   "outputs": [
    {
     "data": {
      "text/plain": [
       "array([ 0.3518815 ,  0.65708757,  0.37239151,  0.38186269,  0.21484379,\n",
       "        0.86477139,  0.38091368,  0.77078858,  0.51802446,  0.92698763])"
      ]
     },
     "execution_count": 5,
     "metadata": {},
     "output_type": "execute_result"
    }
   ],
   "source": [
    "np.random.rand(10)"
   ]
  },
  {
   "cell_type": "markdown",
   "metadata": {},
   "source": [
    "For a 2-D array that is 10\\*2 in size we use the following:"
   ]
  },
  {
   "cell_type": "code",
   "execution_count": 6,
   "metadata": {},
   "outputs": [
    {
     "data": {
      "text/plain": [
       "array([[ 0.9271512 ,  0.508583  ],\n",
       "       [ 0.40259912,  0.20200231],\n",
       "       [ 0.69404225,  0.25519476],\n",
       "       [ 0.61351539,  0.61679083],\n",
       "       [ 0.91307053,  0.02966262],\n",
       "       [ 0.2652969 ,  0.02571819],\n",
       "       [ 0.15513258,  0.74264142],\n",
       "       [ 0.32721096,  0.29452989],\n",
       "       [ 0.65620217,  0.35882015],\n",
       "       [ 0.61021174,  0.67656594]])"
      ]
     },
     "execution_count": 6,
     "metadata": {},
     "output_type": "execute_result"
    }
   ],
   "source": [
    "np.random.rand(10, 2)"
   ]
  },
  {
   "cell_type": "markdown",
   "metadata": {},
   "source": [
    "For a 3-D array that is 10\\*2\\*3 in size we use the following:"
   ]
  },
  {
   "cell_type": "code",
   "execution_count": 7,
   "metadata": {},
   "outputs": [
    {
     "data": {
      "text/plain": [
       "array([[[ 0.16885095,  0.77587104,  0.08219746],\n",
       "        [ 0.9858035 ,  0.44672932,  0.5011929 ]],\n",
       "\n",
       "       [[ 0.11772091,  0.36928199,  0.2906259 ],\n",
       "        [ 0.45074314,  0.12358268,  0.96577293]],\n",
       "\n",
       "       [[ 0.74719358,  0.13484667,  0.0559082 ],\n",
       "        [ 0.85252301,  0.39935433,  0.16929544]],\n",
       "\n",
       "       [[ 0.85910553,  0.46657518,  0.67187833],\n",
       "        [ 0.55247177,  0.88260774,  0.01922566]],\n",
       "\n",
       "       [[ 0.94293995,  0.48959381,  0.62570776],\n",
       "        [ 0.6949957 ,  0.62529656,  0.72289264]],\n",
       "\n",
       "       [[ 0.68577614,  0.89013158,  0.49647552],\n",
       "        [ 0.83544872,  0.99773857,  0.3075294 ]],\n",
       "\n",
       "       [[ 0.67535727,  0.70281151,  0.80327188],\n",
       "        [ 0.46647084,  0.61837077,  0.25462527]],\n",
       "\n",
       "       [[ 0.56765769,  0.97896727,  0.93426045],\n",
       "        [ 0.17901782,  0.53392073,  0.20023779]],\n",
       "\n",
       "       [[ 0.42693794,  0.67461097,  0.61776744],\n",
       "        [ 0.6566169 ,  0.40620786,  0.2965245 ]],\n",
       "\n",
       "       [[ 0.51750055,  0.44653477,  0.52082903],\n",
       "        [ 0.42540447,  0.1543678 ,  0.40892828]]])"
      ]
     },
     "execution_count": 7,
     "metadata": {},
     "output_type": "execute_result"
    }
   ],
   "source": [
    "np.random.rand(10, 2, 3)"
   ]
  },
  {
   "cell_type": "markdown",
   "metadata": {},
   "source": [
    "As mentioned above, the values are uniformly distributed. We can visualise this using a histogram plot:"
   ]
  },
  {
   "cell_type": "code",
   "execution_count": 8,
   "metadata": {},
   "outputs": [
    {
     "data": {
      "image/png": "[encoded data removed]",
      "text/plain": [
       "<matplotlib.figure.Figure at 0x200b1e06f28>"
      ]
     },
     "metadata": {},
     "output_type": "display_data"
    }
   ],
   "source": [
    "import matplotlib.pyplot as plt\n",
    "\n",
    "normalArray = np.random.rand(10000)\n",
    "\n",
    "plt.hist(normalArray, bins = 10)\n",
    "plt.show()"
   ]
  },
  {
   "cell_type": "markdown",
   "metadata": {},
   "source": [
    "Each increment of 0.1 above has around 1000 values in it, which is a 10th of the size of the array. We can also see this in the descriptive statistics:"
   ]
  },
  {
   "cell_type": "code",
   "execution_count": 9,
   "metadata": {},
   "outputs": [
    {
     "data": {
      "text/html": [
       "<div>\n",
       "<style>\n",
       "    .dataframe thead tr:only-child th {\n",
       "        text-align: right;\n",
       "    }\n",
       "\n",
       "    .dataframe thead th {\n",
       "        text-align: left;\n",
       "    }\n",
       "\n",
       "    .dataframe tbody tr th {\n",
       "        vertical-align: top;\n",
       "    }\n",
       "</style>\n",
       "<table border=\"1\" class=\"dataframe\">\n",
       "  <thead>\n",
       "    <tr style=\"text-align: right;\">\n",
       "      <th></th>\n",
       "      <th>0</th>\n",
       "    </tr>\n",
       "  </thead>\n",
       "  <tbody>\n",
       "    <tr>\n",
       "      <th>count</th>\n",
       "      <td>10000.000000</td>\n",
       "    </tr>\n",
       "    <tr>\n",
       "      <th>mean</th>\n",
       "      <td>0.500242</td>\n",
       "    </tr>\n",
       "    <tr>\n",
       "      <th>std</th>\n",
       "      <td>0.289636</td>\n",
       "    </tr>\n",
       "    <tr>\n",
       "      <th>min</th>\n",
       "      <td>0.000005</td>\n",
       "    </tr>\n",
       "    <tr>\n",
       "      <th>25%</th>\n",
       "      <td>0.247143</td>\n",
       "    </tr>\n",
       "    <tr>\n",
       "      <th>50%</th>\n",
       "      <td>0.502883</td>\n",
       "    </tr>\n",
       "    <tr>\n",
       "      <th>75%</th>\n",
       "      <td>0.751589</td>\n",
       "    </tr>\n",
       "    <tr>\n",
       "      <th>max</th>\n",
       "      <td>0.999950</td>\n",
       "    </tr>\n",
       "  </tbody>\n",
       "</table>\n",
       "</div>"
      ],
      "text/plain": [
       "                  0\n",
       "count  10000.000000\n",
       "mean       0.500242\n",
       "std        0.289636\n",
       "min        0.000005\n",
       "25%        0.247143\n",
       "50%        0.502883\n",
       "75%        0.751589\n",
       "max        0.999950"
      ]
     },
     "execution_count": 9,
     "metadata": {},
     "output_type": "execute_result"
    }
   ],
   "source": [
    "import pandas as pd\n",
    "\n",
    "df = pd.DataFrame(normalArray)\n",
    "df.describe()"
   ]
  },
  {
   "cell_type": "markdown",
   "metadata": {},
   "source": [
    "As expected for a uniform distribution, the first quartile has a value that is approximately = 0.25 and the third quartile is approximately = to 0.75."
   ]
  },
  {
   "cell_type": "markdown",
   "metadata": {},
   "source": [
    "### np.random.randn()\n",
    "\n",
    "The np.random.randn() function is similar to the np.random.randn() function in that it produces an array of a size that is determined by the parameters that are passed to the function. However, the array created is composed of random samples that follow a Gaussian distribution with mean 0 and variance 1. Reference - https://docs.scipy.org/doc/numpy-1.13.0/reference/generated/numpy.random.randn.html#numpy.random.randn\n",
    "\n",
    "As the standard deviation is equal to the square root of the variance then the standard deviation will also be equal to 1 as the square root of 1 is also 1.\n",
    "\n",
    "We can visualise this below with a histogram:\n"
   ]
  },
  {
   "cell_type": "code",
   "execution_count": 10,
   "metadata": {},
   "outputs": [
    {
     "data": {
      "image/png": "[encoded data removed]",
      "text/plain": [
       "<matplotlib.figure.Figure at 0x200b401ab70>"
      ]
     },
     "metadata": {},
     "output_type": "display_data"
    }
   ],
   "source": [
    "import pandas as pd\n",
    "import matplotlib.pyplot as plt\n",
    "\n",
    "normalArray = np.random.randn(10000)\n",
    "\n",
    "plt.hist(normalArray, bins = 50)\n",
    "plt.show()"
   ]
  },
  {
   "cell_type": "markdown",
   "metadata": {},
   "source": [
    "The distribution for this is much different from the uniform distribution above. The peak of the distributions are seen at the mean with less values seen further away from the mean. This distribution is commonly called the Bell Curve - Link https://www.investopedia.com/terms/b/bell-curve.asp"
   ]
  },
  {
   "cell_type": "code",
   "execution_count": 11,
   "metadata": {},
   "outputs": [
    {
     "data": {
      "text/html": [
       "<div>\n",
       "<style>\n",
       "    .dataframe thead tr:only-child th {\n",
       "        text-align: right;\n",
       "    }\n",
       "\n",
       "    .dataframe thead th {\n",
       "        text-align: left;\n",
       "    }\n",
       "\n",
       "    .dataframe tbody tr th {\n",
       "        vertical-align: top;\n",
       "    }\n",
       "</style>\n",
       "<table border=\"1\" class=\"dataframe\">\n",
       "  <thead>\n",
       "    <tr style=\"text-align: right;\">\n",
       "      <th></th>\n",
       "      <th>0</th>\n",
       "    </tr>\n",
       "  </thead>\n",
       "  <tbody>\n",
       "    <tr>\n",
       "      <th>count</th>\n",
       "      <td>10000.000000</td>\n",
       "    </tr>\n",
       "    <tr>\n",
       "      <th>mean</th>\n",
       "      <td>-0.007944</td>\n",
       "    </tr>\n",
       "    <tr>\n",
       "      <th>std</th>\n",
       "      <td>0.995983</td>\n",
       "    </tr>\n",
       "    <tr>\n",
       "      <th>min</th>\n",
       "      <td>-4.482066</td>\n",
       "    </tr>\n",
       "    <tr>\n",
       "      <th>25%</th>\n",
       "      <td>-0.677976</td>\n",
       "    </tr>\n",
       "    <tr>\n",
       "      <th>50%</th>\n",
       "      <td>-0.005368</td>\n",
       "    </tr>\n",
       "    <tr>\n",
       "      <th>75%</th>\n",
       "      <td>0.653942</td>\n",
       "    </tr>\n",
       "    <tr>\n",
       "      <th>max</th>\n",
       "      <td>3.793002</td>\n",
       "    </tr>\n",
       "  </tbody>\n",
       "</table>\n",
       "</div>"
      ],
      "text/plain": [
       "                  0\n",
       "count  10000.000000\n",
       "mean      -0.007944\n",
       "std        0.995983\n",
       "min       -4.482066\n",
       "25%       -0.677976\n",
       "50%       -0.005368\n",
       "75%        0.653942\n",
       "max        3.793002"
      ]
     },
     "execution_count": 11,
     "metadata": {},
     "output_type": "execute_result"
    }
   ],
   "source": [
    "df = pd.DataFrame(normalArray)\n",
    "df.describe()"
   ]
  },
  {
   "cell_type": "markdown",
   "metadata": {},
   "source": [
    "The descritive statistics for the array created by np.random.randn() above show that the standard deviation is approximatley = to 1. We can see also that the min and max values are -3.6 and 3.8 correct to 1 d.p., respectively."
   ]
  },
  {
   "cell_type": "markdown",
   "metadata": {},
   "source": [
    "### np.random.randint\n",
    "\n",
    "The np.random.randint function from low (inclusive) to high (execlusive).  Reference - https://docs.scipy.org/doc/numpy-1.15.1/reference/generated/numpy.random.randint.html\n",
    "\n",
    "\n",
    "Passing a single parameter to the function gives us a random integer from 0 to the number passed (exclusive)"
   ]
  },
  {
   "cell_type": "code",
   "execution_count": 12,
   "metadata": {},
   "outputs": [
    {
     "data": {
      "text/plain": [
       "6"
      ]
     },
     "execution_count": 12,
     "metadata": {},
     "output_type": "execute_result"
    }
   ],
   "source": [
    "np.random.randint(10)"
   ]
  },
  {
   "cell_type": "markdown",
   "metadata": {},
   "source": [
    "We can set a the low and high parameters as follows:"
   ]
  },
  {
   "cell_type": "code",
   "execution_count": 13,
   "metadata": {},
   "outputs": [
    {
     "data": {
      "text/plain": [
       "94"
      ]
     },
     "execution_count": 13,
     "metadata": {},
     "output_type": "execute_result"
    }
   ],
   "source": [
    "np.random.randint(90, high=100)"
   ]
  },
  {
   "cell_type": "markdown",
   "metadata": {},
   "source": [
    "To create a 1-D array of size we do the following:"
   ]
  },
  {
   "cell_type": "code",
   "execution_count": 14,
   "metadata": {},
   "outputs": [
    {
     "data": {
      "text/plain": [
       "array([14, 11, 13, 16, 13, 18, 19, 16, 15, 18])"
      ]
     },
     "execution_count": 14,
     "metadata": {},
     "output_type": "execute_result"
    }
   ],
   "source": [
    "np.random.randint(10, high=20, size=10)"
   ]
  },
  {
   "cell_type": "markdown",
   "metadata": {},
   "source": [
    "We can also create multi-dimensional arrays. To create a 2-D array of size 2 * 10:"
   ]
  },
  {
   "cell_type": "code",
   "execution_count": 15,
   "metadata": {},
   "outputs": [
    {
     "data": {
      "text/plain": [
       "array([[13, 15, 12, 18, 14, 11, 12, 14, 16, 12],\n",
       "       [13, 19, 14, 11, 10, 11, 18, 15, 13, 17]])"
      ]
     },
     "execution_count": 15,
     "metadata": {},
     "output_type": "execute_result"
    }
   ],
   "source": [
    "np.random.randint(10, high=20, size=(2, 10))"
   ]
  },
  {
   "cell_type": "markdown",
   "metadata": {},
   "source": [
    "## Permutations\n",
    "\n",
    "The section contains the np.random.shuffle and the np.random.permutation functions."
   ]
  },
  {
   "cell_type": "markdown",
   "metadata": {},
   "source": [
    "### np.random.shuffle()\n",
    "\n",
    "The np.random.shuffle() function can modify a sequence in place by shuffling its contents - Reference https://docs.scipy.org/doc/numpy-1.15.1/reference/generated/numpy.random.shuffle.html#numpy.random.shuffle\n",
    "\n",
    "We can see with the next example, that the np.random.shuffle function changes the original array"
   ]
  },
  {
   "cell_type": "code",
   "execution_count": 16,
   "metadata": {},
   "outputs": [
    {
     "data": {
      "text/plain": [
       "[5, 3, 4, 2, 1]"
      ]
     },
     "execution_count": 16,
     "metadata": {},
     "output_type": "execute_result"
    }
   ],
   "source": [
    "array = [1, 2, 3, 4, 5]\n",
    "np.random.shuffle(array)\n",
    "array"
   ]
  },
  {
   "cell_type": "markdown",
   "metadata": {},
   "source": [
    "With a multi-dimensional array, only the first axis of the array is shuffled:"
   ]
  },
  {
   "cell_type": "code",
   "execution_count": 17,
   "metadata": {},
   "outputs": [
    {
     "data": {
      "text/plain": [
       "[[1, 2, 3, 4, 5], [6, 7, 8, 9, 10], [11, 12, 13, 14, 15]]"
      ]
     },
     "execution_count": 17,
     "metadata": {},
     "output_type": "execute_result"
    }
   ],
   "source": [
    "array = [[1, 2, 3, 4, 5], [6, 7, 8, 9, 10], [11, 12, 13, 14, 15]]\n",
    "np.random.shuffle(array)\n",
    "array"
   ]
  },
  {
   "cell_type": "markdown",
   "metadata": {},
   "source": [
    "### np.random.permutation()\n",
    "The np.random.permutation function randomly permutates a sequence. Reference - https://docs.scipy.org/doc/numpy-1.15.1/reference/generated/numpy.random.permutation.html#numpy.random.permutation\n",
    "\n",
    "The np.random.permutation function produces a similar output to np.random.shuffle"
   ]
  },
  {
   "cell_type": "code",
   "execution_count": 18,
   "metadata": {},
   "outputs": [
    {
     "data": {
      "text/plain": [
       "array([5, 1, 3, 2, 4])"
      ]
     },
     "execution_count": 18,
     "metadata": {},
     "output_type": "execute_result"
    }
   ],
   "source": [
    "array = [1, 2, 3, 4, 5]\n",
    "np.random.permutation(array)"
   ]
  },
  {
   "cell_type": "markdown",
   "metadata": {},
   "source": [
    "However with the np.random.permutation function leaves the original array intact:"
   ]
  },
  {
   "cell_type": "code",
   "execution_count": 19,
   "metadata": {},
   "outputs": [
    {
     "data": {
      "text/plain": [
       "[1, 2, 3, 4, 5]"
      ]
     },
     "execution_count": 19,
     "metadata": {},
     "output_type": "execute_result"
    }
   ],
   "source": [
    "array"
   ]
  },
  {
   "cell_type": "markdown",
   "metadata": {},
   "source": [
    "Just like np.random.shuffle, for multi-dimensional arrays only the first axis is shuffled:"
   ]
  },
  {
   "cell_type": "code",
   "execution_count": 20,
   "metadata": {},
   "outputs": [
    {
     "data": {
      "text/plain": [
       "array([[11, 12, 13, 14, 15],\n",
       "       [ 6,  7,  8,  9, 10],\n",
       "       [ 1,  2,  3,  4,  5]])"
      ]
     },
     "execution_count": 20,
     "metadata": {},
     "output_type": "execute_result"
    }
   ],
   "source": [
    "array = [[1, 2, 3, 4, 5], [6, 7, 8, 9, 10], [11, 12, 13, 14, 15]]\n",
    "np.random.permutation(array)"
   ]
  },
  {
   "cell_type": "markdown",
   "metadata": {},
   "source": [
    "## Distributions\n",
    "\n",
    "Above two distributions were created using the np.random.rand and the np.random.randn functions to give the uniform and normal distributions, respectively. However, an easier way to create these functions is by using np.random.uniform and np.radom.normal, respectively. The distributions section of the official documentation page on np.random ( link - https://docs.scipy.org/doc/numpy-1.15.1/reference/routines.random.html) contains a wide variety of distributions. I will provide a handful of examples here.\n",
    "\n",
    "### Exponential Distribution\n",
    "\n",
    "The exponential distribution is often used to model the time elapsed between events ( reference - https://www.probabilitycourse.com/chapter4/4_2_2_exponential.php), such as the time between page requests to Wikipedia ( reference - https://docs.scipy.org/doc/numpy-1.15.1/reference/generated/numpy.random.exponential.html#r3cbd6af2d0d3-2)\n",
    "\n",
    "The np.random.exponential function takes two parameters: the scale and size."
   ]
  },
  {
   "cell_type": "code",
   "execution_count": 21,
   "metadata": {
    "collapsed": true
   },
   "outputs": [],
   "source": [
    "import numpy as np\n",
    "import matplotlib.pyplot as plt"
   ]
  },
  {
   "cell_type": "code",
   "execution_count": 22,
   "metadata": {},
   "outputs": [
    {
     "data": {
      "image/png": "[encoded data removed]",
      "text/plain": [
       "<matplotlib.figure.Figure at 0x200b3eff0b8>"
      ]
     },
     "metadata": {},
     "output_type": "display_data"
    }
   ],
   "source": [
    "x = np.random.exponential(1, 10000)\n",
    "plt.hist(x, bins= 50)\n",
    "plt.show()"
   ]
  },
  {
   "cell_type": "code",
   "execution_count": 23,
   "metadata": {},
   "outputs": [
    {
     "name": "stdout",
     "output_type": "stream",
     "text": [
      "y is: \n",
      " [  5.86325930e+01   8.95961205e+00   8.61219982e+00   6.21566711e-02\n",
      "   1.95529518e+01   2.51898009e+01   7.65355458e+00   9.29567504e+00\n",
      "   1.45726875e+01   1.17488247e+01   1.25323257e+01   1.13273949e+01\n",
      "   2.36406117e+01   8.41354473e+00   8.31097251e+00   5.62055871e+00\n",
      "   8.49423335e-01   5.29151565e+00   1.40446012e+01   4.04637633e+00\n",
      "   9.66557120e+00   1.23386438e+00   1.13606754e+01   8.39533373e+00\n",
      "   1.33337987e+00   9.71129435e-01   5.03444188e+00   5.83487760e+00\n",
      "   1.18085163e+01   4.19882309e+00   6.31476417e+00   1.38658109e+01\n",
      "   5.02076734e+00   5.01137418e+00   6.21268229e+00   6.50335441e+00\n",
      "   2.95801900e+00   1.64812505e+00   1.80542018e+01   4.72670332e+00\n",
      "   2.29267379e+01   8.80304301e+00   2.41825749e+00   2.10597427e+01\n",
      "   1.11333000e+01   1.56065974e+00   1.05711012e+01   8.04683028e+00\n",
      "   1.93744162e+00   9.55887967e+00   4.55126205e+01   5.87410913e+00\n",
      "   9.41026508e+00   1.80196592e+01   2.18620711e+01   9.50412189e+00\n",
      "   3.32858624e-01   8.59193235e+00   2.93013283e+01   6.90748879e+00\n",
      "   1.20211136e+00   9.80722479e+00   1.81134985e+01   3.84477640e-01\n",
      "   3.32990119e-01   1.17512309e+01   2.54559528e+01   1.58355527e+01\n",
      "   1.04269180e+01   7.54891790e+00   9.55939217e+00   4.40669299e+00\n",
      "   6.51944604e-03   2.56666374e+01   1.84494137e+00   5.32561479e-01\n",
      "   5.61102799e+00   2.60145786e+01   1.11919930e+01   2.04097715e+00\n",
      "   2.17522199e+01   2.26877815e+01   2.98052424e+00   4.05623915e+00\n",
      "   4.10841438e+00   1.43985026e+00   9.23679494e+00   2.42807172e+01\n",
      "   4.53934892e+00   3.49670248e+00   2.79991003e+01   5.46018456e+00\n",
      "   1.18332702e+01   2.51383104e+01   1.29057988e+01   5.70958746e+00\n",
      "   2.61840418e+01   2.26263872e+01   3.13547730e+00   2.83347013e+00]\n",
      "z is: \n",
      " 1071.98066212\n"
     ]
    }
   ],
   "source": [
    "y = np.random.exponential(10, 100)\n",
    "\n",
    "z = np.sum(y)\n",
    "\n",
    "print(\"y is: \\n\", y)\n",
    "print(\"z is: \\n\", z)"
   ]
  },
  {
   "cell_type": "code",
   "execution_count": 24,
   "metadata": {},
   "outputs": [
    {
     "name": "stdout",
     "output_type": "stream",
     "text": [
      "The size is:\n",
      " 100\n"
     ]
    }
   ],
   "source": [
    "size = np.size(y)\n",
    "print(\"The size is:\\n\", size)"
   ]
  },
  {
   "cell_type": "code",
   "execution_count": 25,
   "metadata": {},
   "outputs": [
    {
     "name": "stdout",
     "output_type": "stream",
     "text": [
      "The average value is:\n",
      " 10.7198066212\n"
     ]
    }
   ],
   "source": [
    "average = z / size\n",
    "print(\"The average value is:\\n\", average)"
   ]
  },
  {
   "cell_type": "markdown",
   "metadata": {},
   "source": [
    "np.random.exponential takes two arguments. The first will be what the average value is approimately equal to. The second number is the size of the array (the number of elements in it). The sum of all elements returned is approximately equal to the two arguements passed."
   ]
  },
  {
   "cell_type": "markdown",
   "metadata": {},
   "source": [
    "### Laplace Distribution\n",
    "\n",
    "The laplace distribution is similar to the normal distribution except that it has a higher peak and fatter tails.\n",
    "(Reference - https://www.statisticshowto.datasciencecentral.com/laplace-distribution-double-exponential/)\n",
    "\n",
    "The laplace distribution can be used to model extreme events such as annual maximum one-day rainfalls and river discharges. (Reference - https://en.wikipedia.org/wiki/Laplace_distribution#Applications).\n",
    "\n",
    "The np.random.laplace function take 3 parameters: location (peak of the distribution), scale (the exponential decay) and the size."
   ]
  },
  {
   "cell_type": "code",
   "execution_count": 26,
   "metadata": {},
   "outputs": [
    {
     "data": {
      "image/png": "[encoded data removed]",
      "text/plain": [
       "<matplotlib.figure.Figure at 0x200b3eeb7b8>"
      ]
     },
     "metadata": {},
     "output_type": "display_data"
    }
   ],
   "source": [
    "laplace = np.random.laplace(1000, 1, 1000000)\n",
    "plt.hist(laplace, bins=100)\n",
    "plt.show()"
   ]
  },
  {
   "cell_type": "code",
   "execution_count": 27,
   "metadata": {},
   "outputs": [
    {
     "name": "stdout",
     "output_type": "stream",
     "text": [
      "Laplace is:\n",
      " [ 1001.02686586   999.11848435   999.09773629 ...,   999.9908316\n",
      "   999.43716919   999.66650927]\n"
     ]
    }
   ],
   "source": [
    "print(\"Laplace is:\\n\", laplace)"
   ]
  },
  {
   "cell_type": "code",
   "execution_count": 28,
   "metadata": {},
   "outputs": [
    {
     "name": "stdout",
     "output_type": "stream",
     "text": [
      "The sum of the laplace array is:\n",
      " 1000002529.72\n"
     ]
    }
   ],
   "source": [
    "sumOfLaplace = np.sum(laplace)\n",
    "print(\"The sum of the laplace array is:\\n\", sumOfLaplace)"
   ]
  },
  {
   "cell_type": "markdown",
   "metadata": {},
   "source": [
    "The sum of the laplace array appears to be equal to the location * the size (when the scale equals 1) "
   ]
  },
  {
   "cell_type": "code",
   "execution_count": 29,
   "metadata": {},
   "outputs": [
    {
     "data": {
      "text/plain": [
       "1000000"
      ]
     },
     "execution_count": 29,
     "metadata": {},
     "output_type": "execute_result"
    }
   ],
   "source": [
    "np.size(laplace)"
   ]
  },
  {
   "cell_type": "markdown",
   "metadata": {},
   "source": [
    "### Rayleigh Distribution\n",
    "\n",
    "The Rayleigh distribution is commonly used in MRI imaging to estimate the noise variance background data. (Reference - https://en.wikipedia.org/wiki/Rayleigh_distribution#Applications)\n",
    "\n",
    "The np.random.rayleigh function takes two parameters: the scale ( this is also equal to the peak of the distribution) and the size."
   ]
  },
  {
   "cell_type": "code",
   "execution_count": 30,
   "metadata": {},
   "outputs": [
    {
     "data": {
      "image/png": "[encoded data removed]",
      "text/plain": [
       "<matplotlib.figure.Figure at 0x200b402d630>"
      ]
     },
     "metadata": {},
     "output_type": "display_data"
    }
   ],
   "source": [
    "rayleigh = np.random.rayleigh(3, 1000000)\n",
    "plt.hist(rayleigh, bins = 100)\n",
    "plt.show()\n"
   ]
  },
  {
   "cell_type": "markdown",
   "metadata": {},
   "source": [
    "### Poisson Distribution\n",
    "\n",
    "The Poisson distribution is commonly used in many applications such as insurance to model the number of losses or claims in a given period and in biology to model the number of mutations on a strand of DNA of given length. (Reference - https://en.wikipedia.org/wiki/Poisson_distribution#Occurrence)\n",
    "\n",
    "The np.random.poisson function takes two parameters: the lam ( this is the expected interval) and the size.\n"
   ]
  },
  {
   "cell_type": "code",
   "execution_count": 31,
   "metadata": {},
   "outputs": [
    {
     "data": {
      "image/png": "[encoded data removed]",
      "text/plain": [
       "<matplotlib.figure.Figure at 0x200b6208cc0>"
      ]
     },
     "metadata": {},
     "output_type": "display_data"
    }
   ],
   "source": [
    "poisson = np.random.poisson(10, 1000000)\n",
    "\n",
    "plt.hist(poisson, bins=30)\n",
    "\n",
    "plt.show()\n"
   ]
  },
  {
   "cell_type": "code",
   "execution_count": 32,
   "metadata": {},
   "outputs": [
    {
     "data": {
      "text/html": [
       "<div>\n",
       "<style>\n",
       "    .dataframe thead tr:only-child th {\n",
       "        text-align: right;\n",
       "    }\n",
       "\n",
       "    .dataframe thead th {\n",
       "        text-align: left;\n",
       "    }\n",
       "\n",
       "    .dataframe tbody tr th {\n",
       "        vertical-align: top;\n",
       "    }\n",
       "</style>\n",
       "<table border=\"1\" class=\"dataframe\">\n",
       "  <thead>\n",
       "    <tr style=\"text-align: right;\">\n",
       "      <th></th>\n",
       "      <th>0</th>\n",
       "    </tr>\n",
       "  </thead>\n",
       "  <tbody>\n",
       "    <tr>\n",
       "      <th>count</th>\n",
       "      <td>1000000.000000</td>\n",
       "    </tr>\n",
       "    <tr>\n",
       "      <th>mean</th>\n",
       "      <td>10.000502</td>\n",
       "    </tr>\n",
       "    <tr>\n",
       "      <th>std</th>\n",
       "      <td>3.161903</td>\n",
       "    </tr>\n",
       "    <tr>\n",
       "      <th>min</th>\n",
       "      <td>0.000000</td>\n",
       "    </tr>\n",
       "    <tr>\n",
       "      <th>25%</th>\n",
       "      <td>8.000000</td>\n",
       "    </tr>\n",
       "    <tr>\n",
       "      <th>50%</th>\n",
       "      <td>10.000000</td>\n",
       "    </tr>\n",
       "    <tr>\n",
       "      <th>75%</th>\n",
       "      <td>12.000000</td>\n",
       "    </tr>\n",
       "    <tr>\n",
       "      <th>max</th>\n",
       "      <td>29.000000</td>\n",
       "    </tr>\n",
       "  </tbody>\n",
       "</table>\n",
       "</div>"
      ],
      "text/plain": [
       "                    0\n",
       "count  1000000.000000\n",
       "mean        10.000502\n",
       "std          3.161903\n",
       "min          0.000000\n",
       "25%          8.000000\n",
       "50%         10.000000\n",
       "75%         12.000000\n",
       "max         29.000000"
      ]
     },
     "execution_count": 32,
     "metadata": {},
     "output_type": "execute_result"
    }
   ],
   "source": [
    "import pandas as pd\n",
    "df = pd.DataFrame(poisson)\n",
    "\n",
    "df.describe()"
   ]
  },
  {
   "cell_type": "markdown",
   "metadata": {},
   "source": [
    "We can see from the descriptive statistics that the median value is equal to the lam parameter."
   ]
  },
  {
   "cell_type": "markdown",
   "metadata": {},
   "source": [
    "### Gaussian Distribution\n",
    "\n",
    "The Gaussian distribution is commonly used to represent IQ test scores. ( Reference - https://en.wikipedia.org/wiki/Normal_distribution#Occurrence_and_applications)\n",
    "\n",
    "The np.random.normal function takes 3 parameters: the location (the peak of the distribution) , scale (this is equal to the standard deviation) and size.\n",
    "\n",
    "IQ test scores have a location of 100 and a standard deviation of 15. (Reference - https://www.csus.edu/indiv/b/brocks/Courses/EDS%20250/EDS%20250/Handouts/11/Descrptive%20Statistics%20and%20the%20Normal%20Curve.pdf) We can show what this would look like with the np.random.normal function:"
   ]
  },
  {
   "cell_type": "code",
   "execution_count": 33,
   "metadata": {},
   "outputs": [
    {
     "data": {
      "image/png": "[encoded data removed]",
      "text/plain": [
       "<matplotlib.figure.Figure at 0x200b3fe3128>"
      ]
     },
     "metadata": {},
     "output_type": "display_data"
    }
   ],
   "source": [
    "normal = np.random.normal(100, 15, 100000)\n",
    "plt.hist(normal, bins=100)\n",
    "plt.show()"
   ]
  },
  {
   "cell_type": "markdown",
   "metadata": {},
   "source": [
    "## Seeds\n",
    "\n",
    "### np.random.RandomState"
   ]
  },
  {
   "cell_type": "code",
   "execution_count": 34,
   "metadata": {},
   "outputs": [
    {
     "data": {
      "text/plain": [
       "array([ 106.6184123 ,   95.03694772,  136.46156781,   96.21861806,\n",
       "        101.64414762,  123.73721676,   86.36151393,   91.12545013,\n",
       "        102.81404839,   95.05195063])"
      ]
     },
     "execution_count": 34,
     "metadata": {},
     "output_type": "execute_result"
    }
   ],
   "source": [
    "np.random.RandomState(seed= 5).normal(100, 15, 10)"
   ]
  },
  {
   "cell_type": "code",
   "execution_count": 35,
   "metadata": {},
   "outputs": [
    {
     "data": {
      "text/plain": [
       "True"
      ]
     },
     "execution_count": 35,
     "metadata": {},
     "output_type": "execute_result"
    }
   ],
   "source": [
    "normalSeed1 = np.random.RandomState(seed= 5).normal(100, 15, 1000000)\n",
    "normalSeed2 = np.random.RandomState(seed= 5).normal(100, 15, 1000000)\n",
    "\n",
    "np.array_equal(normalSeed1, normalSeed2)\n"
   ]
  },
  {
   "cell_type": "code",
   "execution_count": 36,
   "metadata": {},
   "outputs": [
    {
     "data": {
      "text/plain": [
       "False"
      ]
     },
     "execution_count": 36,
     "metadata": {},
     "output_type": "execute_result"
    }
   ],
   "source": [
    "normal1 = np.random.normal(100, 15, 1000000)\n",
    "normal2 = np.random.normal(100, 15, 1000000)\n",
    "\n",
    "np.array_equal(normal1, normal2)\n",
    "\n"
   ]
  },
  {
   "cell_type": "markdown",
   "metadata": {},
   "source": [
    "### np.random.seed"
   ]
  },
  {
   "cell_type": "code",
   "execution_count": 37,
   "metadata": {},
   "outputs": [
    {
     "name": "stdout",
     "output_type": "stream",
     "text": [
      "[ 106.6184123    95.03694772  136.46156781   96.21861806  101.64414762\n",
      "  123.73721676   86.36151393   91.12545013  102.81404839   95.05195063]\n",
      "[  82.10853081   96.92685234   94.61756579  109.05207404   75.02817206\n",
      "   89.49731443  117.27086514  127.85996511   77.33230663  109.67271266]\n",
      "[ 106.6184123    95.03694772  136.46156781   96.21861806  101.64414762\n",
      "  123.73721676   86.36151393   91.12545013  102.81404839   95.05195063]\n"
     ]
    }
   ],
   "source": [
    "np.random.seed(5)\n",
    "normal1 = np.random.normal(100, 15, 10)\n",
    "print(normal1)\n",
    "\n",
    "normal1 = np.random.normal(100, 15, 10)\n",
    "print(normal1)\n",
    "\n",
    "np.random.seed(5)\n",
    "normal1 = np.random.normal(100, 15, 10)\n",
    "print(normal1)"
   ]
  },
  {
   "cell_type": "markdown",
   "metadata": {},
   "source": [
    "## References"
   ]
  },
  {
   "cell_type": "code",
   "execution_count": null,
   "metadata": {
    "collapsed": true
   },
   "outputs": [],
   "source": []
  }
 ],
 "metadata": {
  "kernelspec": {
   "display_name": "Python 3",
   "language": "python",
   "name": "python3"
  },
  "language_info": {
   "codemirror_mode": {
    "name": "ipython",
    "version": 3
   },
   "file_extension": ".py",
   "mimetype": "text/x-python",
   "name": "python",
   "nbconvert_exporter": "python",
   "pygments_lexer": "ipython3",
   "version": "3.6.3"
  }
 },
 "nbformat": 4,
 "nbformat_minor": 2
}
