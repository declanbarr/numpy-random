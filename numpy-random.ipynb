{
 "cells": [
  {
   "cell_type": "markdown",
   "metadata": {},
   "source": [
    "# The numpy.random package"
   ]
  },
  {
   "cell_type": "markdown",
   "metadata": {
    "collapsed": true
   },
   "source": [
    "## Purpose of numpy"
   ]
  },
  {
   "cell_type": "markdown",
   "metadata": {},
   "source": [
    "## Simple Random Data"
   ]
  },
  {
   "cell_type": "markdown",
   "metadata": {},
   "source": [
    "## Permutations"
   ]
  },
  {
   "cell_type": "markdown",
   "metadata": {},
   "source": [
    "## Distributions\n",
    "\n",
    "### Exponential Distribution"
   ]
  },
  {
   "cell_type": "code",
   "execution_count": 7,
   "metadata": {
    "collapsed": true
   },
   "outputs": [],
   "source": [
    "import numpy as np\n",
    "import matplotlib.pyplot as plt"
   ]
  },
  {
   "cell_type": "code",
   "execution_count": 8,
   "metadata": {},
   "outputs": [
    {
     "data": {
      "image/png": "[encoded data removed]",
      "text/plain": [
       "<matplotlib.figure.Figure at 0x27ef2ba4128>"
      ]
     },
     "metadata": {},
     "output_type": "display_data"
    }
   ],
   "source": [
    "x = np.random.exponential(1, 10000)\n",
    "plt.hist(x, bins= 50)\n",
    "plt.show()"
   ]
  },
  {
   "cell_type": "code",
   "execution_count": 9,
   "metadata": {},
   "outputs": [
    {
     "name": "stdout",
     "output_type": "stream",
     "text": [
      "y is: \n",
      " [  7.17717295e-01   9.67062373e+00   5.51926051e+00   1.48162776e+01\n",
      "   4.42963974e+00   1.19244690e+01   2.85617193e+01   1.89684169e+00\n",
      "   8.79718431e+00   1.23881102e+00   1.49371693e+01   2.20517347e+01\n",
      "   8.56646176e-01   1.88384779e+00   1.45983119e+01   4.50418525e+00\n",
      "   1.30370360e+01   1.97437436e+00   1.97457013e+01   8.76615439e+00\n",
      "   3.44163273e+01   7.77154522e+00   9.13901461e+00   1.63202357e+01\n",
      "   1.49676910e+01   4.93248546e+00   9.11734514e-03   4.89893152e+00\n",
      "   1.36362860e+01   9.01207146e-01   7.74400069e+00   1.74700004e+00\n",
      "   4.68794867e+00   2.64840594e+00   1.72654284e+01   2.48915171e+01\n",
      "   9.32906821e+00   1.51862830e+00   1.22601103e+01   2.90967008e+00\n",
      "   3.12575856e+00   7.36045771e+00   1.71963230e+01   2.24694463e+00\n",
      "   3.39361915e+00   1.80418746e+01   5.49813938e+00   1.00705160e+01\n",
      "   3.62584798e+00   9.19673304e-01   7.43282714e+00   5.51322257e+00\n",
      "   5.91414372e-01   1.52961050e+01   8.91581500e+00   4.91160069e+00\n",
      "   3.14706813e+00   7.83604341e+00   3.16442769e+00   2.08023576e+00\n",
      "   5.59638659e+00   4.45528885e+00   7.24032787e+00   6.53000895e+00\n",
      "   1.77792086e+00   1.70514707e+00   3.22805331e+00   1.10633656e+01\n",
      "   2.84885601e+00   5.96775212e+00   1.58112765e+00   3.23872032e+00\n",
      "   1.80066746e+01   4.81028395e+00   8.74933491e+00   7.06371107e+00\n",
      "   1.84385710e-01   9.60404449e-01   9.10656611e-02   5.80629107e-01\n",
      "   2.87710517e+01   2.10099968e+00   3.33783756e+00   2.12940369e+01\n",
      "   2.28764027e+00   9.32653614e+00   1.22719763e+01   1.62644568e+01\n",
      "   2.23549166e+00   9.50690078e-01   4.74267435e+00   1.99389164e+01\n",
      "   1.42204016e+01   1.48743782e+00   9.39042239e+00   1.51625316e+01\n",
      "   4.53690892e+00   8.66497791e+00   4.41244423e+00   5.02461047e+00]\n",
      "z is: \n",
      " 794.391725949\n"
     ]
    }
   ],
   "source": [
    "y = np.random.exponential(10, 100)\n",
    "\n",
    "z = np.sum(y)\n",
    "\n",
    "print(\"y is: \\n\", y)\n",
    "print(\"z is: \\n\", z)"
   ]
  },
  {
   "cell_type": "code",
   "execution_count": 10,
   "metadata": {},
   "outputs": [
    {
     "name": "stdout",
     "output_type": "stream",
     "text": [
      "The size is:\n",
      " 100\n"
     ]
    }
   ],
   "source": [
    "size = np.size(y)\n",
    "print(\"The size is:\\n\", size)"
   ]
  },
  {
   "cell_type": "code",
   "execution_count": 11,
   "metadata": {},
   "outputs": [
    {
     "name": "stdout",
     "output_type": "stream",
     "text": [
      "The average value is:\n",
      " 7.94391725949\n"
     ]
    }
   ],
   "source": [
    "average = z / size\n",
    "print(\"The average value is:\\n\", average)"
   ]
  },
  {
   "cell_type": "markdown",
   "metadata": {},
   "source": [
    "np.random.exponential takes two arguments. The first will be what the average value is approimately equal to. The second number is the size of the array (the number of elements in it). The sum of all elements returned is approximately equal to the two arguements passed."
   ]
  },
  {
   "cell_type": "markdown",
   "metadata": {},
   "source": [
    "### Laplace Distribution"
   ]
  },
  {
   "cell_type": "code",
   "execution_count": 79,
   "metadata": {},
   "outputs": [
    {
     "data": {
      "image/png": "[encoded data removed]",
      "text/plain": [
       "<matplotlib.figure.Figure at 0x27ef462fcc0>"
      ]
     },
     "metadata": {},
     "output_type": "display_data"
    }
   ],
   "source": [
    "laplace = np.random.laplace(1000, 1, 1000)\n",
    "plt.hist(laplace, bins=100)\n",
    "plt.show()"
   ]
  },
  {
   "cell_type": "code",
   "execution_count": 30,
   "metadata": {},
   "outputs": [
    {
     "name": "stdout",
     "output_type": "stream",
     "text": [
      "Laplace is:\n",
      " [ -4.68051524e-01  -1.64994746e+00  -3.17410255e-01   5.47082885e-01\n",
      "   4.60872625e-01   4.18816280e-01  -1.12012687e+00   4.40612027e-01\n",
      "   8.59593198e-01   7.76777597e-01   5.08821033e-01  -4.11992973e-01\n",
      "  -7.27440362e-01  -1.03556338e-01   2.48949781e-01  -2.28700403e-01\n",
      "   8.08715061e-01  -4.04231503e+00   5.75096723e-01   1.08625860e+00\n",
      "   4.97459709e-02  -2.14868343e-01  -1.52578492e+00  -1.02895830e+00\n",
      "  -1.46901054e-01   1.84616022e-01  -1.44486112e+00   1.25356584e+00\n",
      "   4.21661898e-01  -1.25032343e+00  -8.54924341e-01   1.63466473e-01\n",
      "   2.03981545e+00   1.46717595e-01   1.07028959e+00  -3.77049465e-01\n",
      "  -9.04117905e-02   4.05741678e-01  -1.23239513e+00  -1.00671550e+00\n",
      "   5.55629465e+00   2.44520888e-01  -5.03441998e-01  -3.91158485e-01\n",
      "  -3.60542342e+00   2.05415976e-01   1.85112139e-01  -1.18838783e-02\n",
      "   2.36505187e-02  -1.00717003e+00   7.65822032e-01   7.07325842e-01\n",
      "   8.51344474e-02  -7.76382555e-01   4.85355095e-01  -5.71409213e-02\n",
      "  -2.65612569e+00  -7.19218476e-02   1.38440800e+00   1.42658919e+00\n",
      "  -7.92781604e-02   2.30892692e+00   5.28798260e-01  -3.13784390e+00\n",
      "  -1.25461888e+00  -3.48251949e-01  -1.14013378e+00  -1.76011958e+00\n",
      "   1.10096782e+00   6.79857075e-01  -2.23615576e+00  -1.55631275e+00\n",
      "   2.51084373e+00   1.08833444e+00  -1.63351859e+00  -9.49061640e-01\n",
      "   1.96232471e-01   9.72184342e-01  -2.03179178e+00  -3.39828069e-01\n",
      "  -3.88329734e-01   3.33413829e-01  -4.29213637e-01   1.52058060e+00\n",
      "   1.38542771e+00  -1.24268122e+00  -1.95447226e+00  -2.07787549e-01\n",
      "   5.57384723e-01  -8.09719958e-01   9.94263418e-01   1.91035277e-01\n",
      "   9.69216235e-01   1.00410144e+00   2.58308169e+00   8.91124155e-01\n",
      "   3.92694762e+00   8.31321366e-02   2.17648471e+00  -3.33077097e+00\n",
      "   6.94808411e-01  -1.88478251e-01   7.91440855e-01  -1.61093968e+00\n",
      "   7.14070282e-01  -1.34596531e+00   4.71914854e-01  -1.27207991e+00\n",
      "  -2.81803551e-02  -2.11731556e-01   2.30617484e-01  -3.04215648e+00\n",
      "  -2.98325464e-01  -3.41306236e+00  -2.16103764e-01   1.85564385e+00\n",
      "  -1.94976465e+00   1.11540470e+00  -8.57185204e-02   9.65512116e-01\n",
      "  -3.79640104e-01  -1.25823032e+00  -2.41671059e-01   1.14944684e-01\n",
      "   3.51853980e-01   5.91299387e-01   4.18314344e-01   1.09712490e-01\n",
      "   1.67359488e+00  -2.92722328e-01   4.74908768e-01  -2.78819534e-01\n",
      "  -7.85344624e-01  -1.38390953e+00   1.12750308e-01  -1.08108307e+00\n",
      "   3.01968910e+00  -2.18988795e-01   4.72616161e-02   1.22708350e-01\n",
      "   5.52129418e+00   1.13618680e-01   2.14431372e+00  -3.47248445e+00\n",
      "  -1.11652850e+00   2.56207073e+00  -7.76158687e-01   4.59349543e-01\n",
      "   1.51246914e-02   3.19562402e-01  -1.20508326e+00   2.61542573e-01\n",
      "  -1.44178037e-01  -1.29592280e-01   5.90903854e-01   1.02821815e+00\n",
      "  -1.54644152e+00  -2.12720457e-01  -2.36548153e-01   4.12165709e-01\n",
      "  -3.35182944e+00   8.46329993e-01   4.63660514e-01   6.12729548e-01\n",
      "   2.38005816e-01   3.47972110e-01  -4.02249856e-01   7.50107920e-01\n",
      "   1.08691933e-01  -3.50042986e-01  -4.02779707e+00  -1.25148015e-01\n",
      "   1.05026023e+00  -6.40504299e-01  -1.87956580e-01   3.02345849e-02\n",
      "  -5.06302525e+00   3.44470087e-02   1.43481411e+00   1.63920065e-01\n",
      "   5.62413456e-01   2.58894852e-01   4.92013369e-01   6.28034143e-01\n",
      "  -4.99352689e-01   1.30469919e+00   2.01317982e-01   2.66651779e+00\n",
      "  -1.25542955e-01  -9.60443935e-01  -4.73193987e-02   1.27753298e+00\n",
      "   1.92758560e-01  -7.71056056e-01  -1.65658399e-01  -3.29343292e-01\n",
      "  -8.51262997e-01   8.96685293e-02  -1.60799535e+00  -2.15532056e-01\n",
      "   5.41967301e-01  -2.83658407e+00  -8.82500609e-01  -1.64608750e+00\n",
      "  -1.67171893e+00  -1.53001583e+00   5.09080472e-01   1.25859603e+00\n",
      "  -8.73362811e-01  -1.17700740e-01   2.58442068e-01  -5.59894972e-01\n",
      "   3.61718458e-01  -2.75283850e-02  -6.35018987e-01  -1.04440899e-01\n",
      "   2.34089407e+00  -2.78929264e-01  -8.67731554e-01   1.85963313e+00\n",
      "  -3.63001866e+00   4.95505788e+00   1.02490919e+00   1.51479228e-01\n",
      "  -8.10451434e-01   3.24685501e+00  -1.38294409e+00   4.43516492e+00\n",
      "  -1.15260354e-01  -6.05557114e-01  -9.29760779e-01  -5.44794861e-01\n",
      "   9.95869862e-01   2.77919737e+00   9.91693217e-01   3.00791086e+00\n",
      "  -9.35155496e-01  -2.40496930e+00  -3.24985546e-01  -2.62276820e-01\n",
      "  -7.75882495e-01  -5.35009602e-01  -1.37186123e+00   2.18215230e-01\n",
      "  -1.23671380e+00  -8.63606143e-01   1.05650210e+00  -9.92159948e-01\n",
      "  -6.96865166e-01  -1.10148789e+00   1.66375863e+00   2.99638966e-01\n",
      "  -1.99696597e+00  -2.84812809e-01   4.71728854e-01   1.90610237e-01\n",
      "  -2.96809565e-01  -3.78828066e-01   4.57430037e-01  -1.27243406e+00\n",
      "  -1.09620348e+00   5.90298199e-01  -4.92865488e-01   5.15522531e-01\n",
      "  -2.23780441e+00   6.04694941e-01  -7.41485634e-01  -1.18177105e+00\n",
      "   3.31303079e-01  -8.01158846e-02   8.90719365e-01   1.01883896e+00\n",
      "   7.46004840e-01  -1.07957680e-01  -7.48155984e-01   2.97144546e-01\n",
      "  -2.57912347e-01   1.12497893e+00  -2.31347595e-01  -4.74599448e-02\n",
      "  -1.18141062e-01  -1.71912413e-01  -1.60660931e-01  -1.81786689e+00\n",
      "   2.01204967e-01  -3.61165576e+00   4.74553301e-01   5.70034501e-01\n",
      "  -5.11447212e-01  -2.02304018e+00  -2.36924311e+00  -2.11402150e+00\n",
      "   1.21528189e+00   6.97943063e-01  -1.52639340e+00  -1.04642702e+00\n",
      "  -1.70706465e+00  -2.42949952e-02  -6.27989528e-01  -6.46237330e-01\n",
      "  -1.43135281e+00  -4.49748859e+00  -4.01412997e-01  -6.37227163e-01\n",
      "   1.44673740e+00  -5.32225327e-01  -1.17723941e+00  -1.40180748e-02\n",
      "  -1.75417671e-01   1.93849659e+00  -2.82864966e-01  -4.82412182e+00\n",
      "   1.55380698e-01   3.43104149e-01  -1.73202207e-01   4.79085511e-01\n",
      "  -3.92298354e+00  -1.41501897e+00   9.84494259e-01  -3.93636135e-01\n",
      "  -1.23192247e+00   4.34398897e+00  -4.20488381e+00  -3.24571238e+00\n",
      "  -1.51666933e+00  -1.88831893e-01   1.33938010e+00  -9.76359026e-01\n",
      "  -9.38067835e-01   3.02730949e-01   8.98496816e-02  -3.91616173e-01\n",
      "  -1.13169790e+00  -9.93286915e-03  -8.39179615e-01   1.41616288e+00\n",
      "  -7.20509791e-01  -1.19607476e+00  -2.62724480e-01   2.65663388e-01\n",
      "   4.58923365e+00   1.68857253e+00   7.19523591e-01  -3.34093040e+00\n",
      "   7.23325670e-01   3.46838015e-01   5.26387348e-01   2.41477930e-01\n",
      "   1.17732147e+00   4.68839144e-01   3.35465305e+00   6.34499028e-02\n",
      "   4.14381745e-04   5.89479214e-01  -3.04583194e-01   9.08484247e-02\n",
      "   2.73693393e-01   1.25542606e-01   1.67134078e+00   7.61680700e-01\n",
      "   2.34797039e-02   8.14500684e-01  -2.85451229e-01   4.85786142e-01\n",
      "   3.27805565e-01  -1.30260502e+00  -1.93071076e-01   3.21607316e-02\n",
      "  -5.51416001e-01   2.62302025e+00   2.60567384e+00   2.71389680e-01\n",
      "  -1.06967645e-01  -8.34736533e-02   1.13170302e-02  -2.01895826e-01\n",
      "  -2.43404771e+00   5.48965447e-01   9.62396071e-01  -3.37410830e-01\n",
      "  -1.20043032e-01   1.42135093e+00   3.94865647e-02   9.71115778e-01\n",
      "   5.63750392e-01  -3.03034112e-01   6.67757827e-04  -2.59761587e-02\n",
      "   3.08441614e-01  -1.07270667e+00  -2.27645918e+00   2.58553336e-02\n",
      "  -1.32868899e+00   1.14347228e+00  -6.37353004e-01  -1.79141389e-01\n",
      "   2.71416599e-01  -5.58065739e-01   2.10636849e+00  -1.11951507e+00\n",
      "   1.03103337e+00   3.06049295e+00   2.17241048e-01   8.43194165e-01\n",
      "   1.01907281e+00  -7.79645209e-01   5.87485532e-01  -1.93257028e-01\n",
      "  -5.55397487e-01  -4.83882357e-01  -5.67563851e-01  -6.30900094e-01\n",
      "  -1.41279674e+00   9.85991814e-02   3.50265466e-02  -2.16234975e+00\n",
      "   3.39253744e-01   9.73909050e-01  -5.49624518e-01  -1.82806976e+00\n",
      "  -5.55026584e-01   3.56800936e-01  -5.41834803e-01   7.30753477e-01\n",
      "  -2.27131691e-01  -2.14247599e+00  -3.74134597e-01   2.14810624e+00\n",
      "   4.97374674e-01  -1.34992075e+00   6.00402209e-01   3.94964887e-01\n",
      "  -7.42713677e-01  -1.55025299e-02  -1.83056575e+00  -2.01379612e-01\n",
      "  -1.14025503e-01  -2.14503810e+00  -3.82544420e-01  -6.37158975e-01\n",
      "  -4.46685720e-01  -4.17564119e-01   6.89111994e-01  -1.41481930e+00\n",
      "  -8.94267392e-02   2.79129258e-01  -1.38887069e+00   1.17393141e-01\n",
      "   1.45114360e-01  -3.44365491e-01  -3.34502306e-02   4.36238870e+00\n",
      "  -1.51481736e+00   1.83163400e+00  -2.93177114e-01   7.49603345e-02\n",
      "  -2.62397430e-01  -2.91786272e-01  -1.19206384e-01  -1.49252966e+00\n",
      "  -1.08669119e+00   7.79908954e-01  -6.89353190e-02  -2.45084512e+00\n",
      "  -4.92591304e-01   2.43907011e+00   7.68606898e-01   1.87602321e+00\n",
      "  -4.61562420e+00   7.65989462e-01  -3.67624844e-01  -2.28407525e-01\n",
      "  -1.42599963e+00   4.57504188e-01  -2.15504093e+00   7.71193587e-01\n",
      "  -1.13870954e-01   4.72273409e-01  -2.15886750e+00  -9.19794537e-01\n",
      "   1.65800658e+00   3.03273350e+00  -2.97570877e+00  -1.09977194e+00\n",
      "   1.77743249e+00   5.42340336e-01   1.75613194e-01   8.70819441e-02\n",
      "  -1.67796158e-01   5.47347114e-01   6.29794381e-01   2.58853728e-01\n",
      "  -1.67449905e+00  -1.79471383e-01  -1.29145768e+00  -3.37377935e+00\n",
      "  -7.69429691e-01   5.75308811e-02   2.71792597e-01  -9.02382902e-01\n",
      "  -7.94136990e-01  -2.80479986e-01   9.31690924e-02  -1.53680957e+00\n",
      "   3.21738520e-01  -2.43390328e+00  -1.79523200e+00   3.08458110e-01\n",
      "  -3.48026510e-01   2.50838540e-02  -3.84244449e-01  -1.34869859e+00\n",
      "  -2.79510855e-01  -1.27303465e+00  -1.50412136e+00  -2.84811808e-01\n",
      "   5.45481559e-01   9.16355407e-01   5.66282408e-02  -5.13446302e-01\n",
      "  -1.76110033e+00  -9.25746332e-02  -3.89430552e+00  -4.51335122e-02\n",
      "   3.78259497e-02   2.66746359e-01   1.73488920e-02  -2.52535742e-01\n",
      "   5.39336100e-01   1.95359528e+00  -2.67952525e+00   5.21964232e-01\n",
      "  -9.71695490e-03   8.08793963e-01  -1.81359947e-01   2.17769488e+00\n",
      "   1.12287236e+00  -1.90602414e+00   1.05872007e+00   6.72247307e-02\n",
      "  -3.77295614e-01   4.50462501e-01  -3.23095972e+00   1.11900988e+00\n",
      "   1.78998111e+00  -1.10443026e+00  -6.97239652e-02  -1.93983022e+00\n",
      "  -2.14949333e+00  -1.27921151e+00  -5.15487729e-01  -2.10695776e+00\n",
      "   4.72598538e+00   2.43994762e+00   1.84704901e+00  -1.94280207e-01\n",
      "   1.06959053e+00   1.31511075e+00   1.66698914e+00  -1.71192564e+00\n",
      "  -2.78860552e+00  -1.93857933e-01   1.96331912e+00  -1.18502392e+00\n",
      "  -4.93036121e-01   1.66446630e+00   3.92203972e+00   9.39226952e-01\n",
      "   2.78663351e+00   1.69036117e-01   8.74880816e-02  -6.06209184e-01\n",
      "  -2.26665820e+00   2.18295737e+00  -3.73045685e-01  -4.84009304e-02\n",
      "  -4.12291612e-01  -9.59550562e-02   2.97803210e-01  -1.16400966e+00\n",
      "  -1.99784337e+00   1.72945436e-01   8.95794903e-02  -5.94396252e-01\n",
      "  -9.74258020e-01   1.66305598e-01   8.82970869e-01  -2.44100809e-01\n",
      "   8.06357336e-01   9.98641327e-02  -5.46547831e-03  -2.32591133e-02\n",
      "   1.27052914e+00  -7.78633768e-02   1.94317646e-02   2.42854358e+00\n",
      "   1.85787921e+00  -2.44251812e+00  -3.88362225e+00   1.03486876e+00\n",
      "  -1.00611467e+00  -2.07987070e-01  -2.94480800e+00  -3.46125215e+00\n",
      "   3.21025952e-01  -1.52747794e-01  -1.76685222e+00   3.13208767e-01\n",
      "  -1.57334006e+00   9.24156860e-02   3.82056371e-01  -1.26332577e+00\n",
      "   4.29479324e-01   8.20376124e-01  -1.53527691e+00  -7.28235753e-01\n",
      "   5.31557540e-01   7.52977829e-01  -1.43181947e+00   8.63274451e-01\n",
      "  -6.01472467e-01  -2.75375925e+00   1.46746452e+00  -3.95646896e+00\n",
      "  -2.52146916e-01   3.06300056e-01  -7.43454550e-01   1.93668915e-01\n",
      "   2.97490667e+00   1.76693432e+00  -2.80763062e-01   2.11378158e+00\n",
      "   1.43495220e+00   9.66041184e-02  -1.67031113e-01   5.80597493e-01\n",
      "   6.06363449e-01   1.84958158e+00   4.39073031e-01  -2.46450445e+00\n",
      "   1.26152937e-01  -5.66180846e-01   1.41974726e+00  -2.92576472e+00\n",
      "   1.85584667e+00   4.35117476e-01  -1.36681463e+00  -1.09648079e+00\n",
      "   1.86454374e-01  -9.52093476e-01   2.32606658e+00   5.36213299e-01\n",
      "   4.33079433e-01   9.91963215e-01  -5.24759130e+00  -9.03757621e-01\n",
      "  -5.43655348e-02  -3.22590495e+00  -1.12332226e+00  -7.34815470e-02\n",
      "  -2.06896916e+00  -1.91061627e+00   2.20550240e+00  -3.92266903e-02\n",
      "  -2.29185900e-01  -1.35004557e+00  -1.50875773e-01   1.45650061e+00\n",
      "   1.81144160e+00   4.82981234e-02   2.48759603e+00   1.29939621e+00\n",
      "   2.68379123e+00   2.06177956e-01   1.03113438e-01   1.76530199e+00\n",
      "   3.08655105e-01   8.69161526e-01   1.43328422e-01   6.48961965e-02\n",
      "   3.18302848e+00   5.69954211e+00  -1.08194800e-01  -7.45280397e-01\n",
      "   1.04253827e+00   7.85161114e-01   6.54842333e-01   3.59840516e-01\n",
      "   1.05596219e+00   5.00785757e-02   2.94309779e+00   2.16055654e-01\n",
      "  -1.32150315e+00   1.04583637e+00  -1.34482690e-01   2.20964865e-01\n",
      "   7.32707693e-01   6.22965084e-01   5.69919443e+00   1.48964421e-01\n",
      "   2.09577973e+00  -1.42255851e-02  -9.60534318e-02  -2.89534492e+00\n",
      "   8.54261831e-01  -3.39767399e-01  -1.95818642e+00   6.12543504e-01\n",
      "   1.64814292e-01   1.08735622e-01   5.22718138e-01   1.67429817e-01\n",
      "  -8.90375516e-01  -3.04421487e-02  -2.69917796e-01   1.00569648e+00\n",
      "   7.75883798e-01  -1.76345162e+00   3.69806880e+00   2.25402433e-01\n",
      "  -8.13656286e-01  -6.01528324e-02  -4.14056557e-03   1.42354179e-01\n",
      "  -4.09834773e-01  -2.84594797e-01   2.21522759e+00  -3.70204292e+00\n",
      "   4.81016954e-01  -2.46578586e+00   1.66026366e+00   3.05063038e-01\n",
      "   7.63427598e-01   9.87296360e-01   6.00171335e-01   4.21564936e-01\n",
      "   1.08803684e+00   7.89200477e-01   1.16827692e+00   1.35023861e-01\n",
      "   1.84664800e+00   1.97781467e+00  -4.50209345e-02  -1.33313709e+00\n",
      "   5.47035826e-01   1.88381582e-01  -5.68736881e-01   2.67466734e+00\n",
      "   6.60795029e-01  -5.24977239e-02   4.26862197e-01  -9.30925924e-01\n",
      "  -2.67125876e+00   1.78988467e-02  -5.24181432e-01   3.19836227e-01\n",
      "   6.54876121e-01  -1.56815779e+00  -4.95300545e-01  -2.55258871e-01\n",
      "   1.43901807e+00  -1.93170351e-01   5.03161585e-01   1.68388645e+00\n",
      "  -1.27863530e+00   1.75945079e+00   1.92308632e-01  -1.56485812e+00\n",
      "  -1.07680671e+00  -1.11430263e+00  -6.75715771e-01   1.75822075e-02\n",
      "   5.45026343e-01   1.66217254e-02  -9.18649395e-02   8.62260000e-02\n",
      "   1.78266180e+00  -8.32233501e-01   3.10369563e-01  -8.37701760e-01\n",
      "   1.44377027e+00   1.55448331e+00  -1.40350508e+00  -2.34429068e+00\n",
      "   1.86979660e+00   1.85319296e+00   5.13209238e-01  -3.45063719e-01\n",
      "  -9.11470019e-01   7.97808911e-01  -1.69967288e+00  -1.92760629e-01\n",
      "   1.34028992e+00  -1.41918509e+00   2.11727552e-01  -1.75524900e+00\n",
      "  -1.51062885e-02  -5.06672528e-02   6.98760575e-01   1.69146397e+00\n",
      "   3.10905423e+00   2.76793881e-01   1.10217599e-01   5.21026786e-01\n",
      "  -6.04796610e-01   1.04376337e+00   1.82414890e+00   4.29427627e-01\n",
      "   1.90333365e+00   9.37999651e-02   1.74659128e+00   3.28061919e-02\n",
      "  -1.06347422e+00   1.54173092e+00   2.74915526e+00  -2.94252328e+00\n",
      "  -3.31106077e-02  -1.22063185e+00  -1.89489894e+00   3.24681052e+00\n",
      "  -2.83218725e-01   8.54009992e-01  -1.00200382e+00   3.97051174e-01\n",
      "   9.08024585e-01   3.40645038e-01   3.62764005e+00  -4.13855639e-01\n",
      "  -1.32694205e+00   9.12759971e-01  -2.56314088e-01  -3.90947927e-01\n",
      "   1.67381435e+00  -2.47135411e+00   3.81145587e-01  -2.19834901e+00\n",
      "  -2.18356214e-02   2.25535222e+00   5.14130773e-01   5.58446098e-02\n",
      "  -3.24604438e-01  -9.11242978e-01   4.19166161e-01  -4.02594788e+00\n",
      "  -6.17471014e-01   1.11314914e-01  -2.85681233e+00  -7.32685067e-01\n",
      "   5.85001012e-01  -5.24615035e-01  -9.14408819e-01  -5.48313775e-01\n",
      "   1.27111472e+00  -2.23394296e-01   4.28025190e-03  -2.95241830e+00\n",
      "   2.75997092e-01   5.41541340e-01  -4.96138662e-01  -1.09069900e+00\n",
      "   2.44101852e+00  -1.24169791e+00   3.40046322e+00   4.38253222e+00\n",
      "   1.27397545e+00  -5.56124680e-01   2.97055855e+00  -2.63303503e+00\n",
      "  -6.13599078e-01  -8.13801150e-01  -8.51177390e-01  -3.80709663e-01\n",
      "  -8.88387763e-01  -6.92183888e-02  -5.78383799e-01   3.70654148e+00\n",
      "   5.62504134e-01   5.37971521e-01   1.31433021e+00  -4.44740071e-01\n",
      "  -9.22128614e-01  -1.54651852e+00  -8.35544808e-01   2.58636569e-01\n",
      "   8.57598913e-01  -4.95865078e-02   1.65769006e+00   8.76149156e-01\n",
      "   1.48524945e+00   7.05628617e+00   1.52257493e+00  -2.04878246e+00\n",
      "  -2.52178410e-01   9.86406915e-01   8.78882596e-01   8.46148279e-01\n",
      "   5.01582920e-01   9.02244146e-01  -8.65962931e-01  -2.49829813e-01\n",
      "  -2.96303954e-01  -2.19679405e-01  -1.86323814e+00   8.97336769e-01\n",
      "   2.14161505e-01  -7.13349174e-01   2.58708495e-01  -3.63003280e+00\n",
      "  -1.85515335e-01   4.47740481e-01  -1.81646676e+00  -8.29363702e-01\n",
      "  -1.51425004e-02   2.92873129e-01  -2.58899187e-01  -4.79086781e-01\n",
      "   1.43894294e-01  -1.01422457e+00  -1.38885957e-01   5.92376218e-01\n",
      "  -9.21195766e-01  -2.73983301e+00  -1.93138606e-01  -5.59250972e-02\n",
      "   1.98329553e-01  -9.84236455e-01  -1.06483681e+00   4.15134577e-02\n",
      "  -6.38602349e-02   8.45210866e-01  -5.68913925e-01  -5.18097254e-01\n",
      "  -2.37979611e-02   3.79934792e-01   1.93742610e+00  -8.44819248e-01\n",
      "   4.67022055e-01   1.56582187e-01  -2.37142952e+00  -1.30716344e+00\n",
      "   9.43762149e-01   2.70025605e-01  -6.95134613e-01  -6.10614149e-01\n",
      "   7.45307563e-01  -1.41491621e+00   2.91884711e+00   5.72529494e-01\n",
      "   1.25774348e+00  -1.34771875e+00   3.56737591e-01  -1.69895694e+00\n",
      "  -7.19873629e-01  -1.27740770e+00   3.19900255e-01  -9.13050484e-01\n",
      "  -1.26979840e+00  -6.59186279e-01   4.76134978e-01  -2.16915837e-01\n",
      "  -8.16936662e-01   2.43324426e+00   1.86998564e-01   3.08091023e-01\n",
      "   2.95800698e+00  -3.75865921e-01  -1.09807962e+00   9.63345154e-01\n",
      "  -6.88709460e-01  -1.50602771e+00   4.02585927e-01  -1.12440140e+00\n",
      "   4.73491921e-01   4.73102596e-01   1.41166545e+00  -3.47105505e+00\n",
      "   6.12969365e-02  -1.45597844e+00  -2.44893990e-01  -2.35088418e+00\n",
      "  -9.16890170e-02  -2.29081945e+00  -6.50457713e-01   1.60255164e-01\n",
      "   1.41272803e+00   5.50444273e-01   2.69499019e+00   4.53578263e-01\n",
      "  -1.59592243e+00   6.74962354e-01   3.42792767e+00  -1.81379730e-02\n",
      "   7.69894371e-01  -1.48393509e+00   1.11328315e+00   3.82331431e-01\n",
      "   1.97296981e+00  -3.86037548e-01   6.05282019e-01  -2.64687257e+00]\n"
     ]
    }
   ],
   "source": [
    "print(\"Laplace is:\\n\", laplace)"
   ]
  },
  {
   "cell_type": "code",
   "execution_count": 80,
   "metadata": {},
   "outputs": [
    {
     "name": "stdout",
     "output_type": "stream",
     "text": [
      "The sum of the laplace array is:\n",
      " 999995.00783\n"
     ]
    }
   ],
   "source": [
    "sumOfLaplace = np.sum(laplace)\n",
    "print(\"The sum of the laplace array is:\\n\", sumOfLaplace)"
   ]
  },
  {
   "cell_type": "markdown",
   "metadata": {},
   "source": [
    "The sum of the laplace array appears to be equal to the location * the size (when the scale equals 1) "
   ]
  },
  {
   "cell_type": "code",
   "execution_count": 35,
   "metadata": {},
   "outputs": [
    {
     "data": {
      "text/plain": [
       "1000"
      ]
     },
     "execution_count": 35,
     "metadata": {},
     "output_type": "execute_result"
    }
   ],
   "source": [
    "np.size(laplace)"
   ]
  },
  {
   "cell_type": "markdown",
   "metadata": {},
   "source": [
    "## Seeds"
   ]
  }
 ],
 "metadata": {
  "kernelspec": {
   "display_name": "Python 3",
   "language": "python",
   "name": "python3"
  },
  "language_info": {
   "codemirror_mode": {
    "name": "ipython",
    "version": 3
   },
   "file_extension": ".py",
   "mimetype": "text/x-python",
   "name": "python",
   "nbconvert_exporter": "python",
   "pygments_lexer": "ipython3",
   "version": "3.6.3"
  }
 },
 "nbformat": 4,
 "nbformat_minor": 2
}
