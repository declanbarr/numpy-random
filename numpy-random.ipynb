{
 "cells": [
  {
   "cell_type": "markdown",
   "metadata": {},
   "source": [
    "# The numpy.random package"
   ]
  },
  {
   "cell_type": "markdown",
   "metadata": {
    "collapsed": true
   },
   "source": [
    "## Purpose of numpy"
   ]
  },
  {
   "cell_type": "markdown",
   "metadata": {},
   "source": [
    "## Simple Random Data"
   ]
  },
  {
   "cell_type": "markdown",
   "metadata": {},
   "source": [
    "### numpy.random.choice"
   ]
  },
  {
   "cell_type": "code",
   "execution_count": 1,
   "metadata": {},
   "outputs": [
    {
     "data": {
      "text/plain": [
       "array(['rabbit'],\n",
       "      dtype='<U6')"
      ]
     },
     "execution_count": 1,
     "metadata": {},
     "output_type": "execute_result"
    }
   ],
   "source": [
    "import numpy as np\n",
    "\n",
    "animals = ['cat', 'dog', 'rabbit', 'horse', 'cow']\n",
    "\n",
    "np.random.choice(animals, size = 1)"
   ]
  },
  {
   "cell_type": "code",
   "execution_count": 2,
   "metadata": {},
   "outputs": [
    {
     "data": {
      "text/plain": [
       "array(['dog', 'rabbit', 'cow', 'cat', 'rabbit'],\n",
       "      dtype='<U6')"
      ]
     },
     "execution_count": 2,
     "metadata": {},
     "output_type": "execute_result"
    }
   ],
   "source": [
    "np.random.choice(animals, size = 5)"
   ]
  },
  {
   "cell_type": "code",
   "execution_count": 3,
   "metadata": {},
   "outputs": [
    {
     "data": {
      "text/plain": [
       "array(['rabbit', 'cow', 'cat', 'dog', 'horse'],\n",
       "      dtype='<U6')"
      ]
     },
     "execution_count": 3,
     "metadata": {},
     "output_type": "execute_result"
    }
   ],
   "source": [
    "np.random.choice(animals, size = 5, replace = False)"
   ]
  },
  {
   "cell_type": "code",
   "execution_count": 4,
   "metadata": {},
   "outputs": [
    {
     "data": {
      "text/plain": [
       "array(['cow', 'rabbit', 'cat', 'rabbit', 'rabbit', 'cow', 'rabbit',\n",
       "       'horse', 'cat', 'cow'],\n",
       "      dtype='<U6')"
      ]
     },
     "execution_count": 4,
     "metadata": {},
     "output_type": "execute_result"
    }
   ],
   "source": [
    "np.random.choice(animals, size = 10, p=[0.1, 0.1, 0.1, 0.1, 0.6])"
   ]
  },
  {
   "cell_type": "markdown",
   "metadata": {},
   "source": [
    "### np.random.rand()"
   ]
  },
  {
   "cell_type": "code",
   "execution_count": 20,
   "metadata": {},
   "outputs": [
    {
     "data": {
      "text/plain": [
       "array([ 0.94904834,  0.20166759,  0.12979395,  0.76955431,  0.81577107,\n",
       "        0.06142512,  0.77917099,  0.26619771,  0.86125272,  0.88578107])"
      ]
     },
     "execution_count": 20,
     "metadata": {},
     "output_type": "execute_result"
    }
   ],
   "source": [
    "np.random.rand(10)"
   ]
  },
  {
   "cell_type": "code",
   "execution_count": 21,
   "metadata": {},
   "outputs": [
    {
     "data": {
      "text/plain": [
       "array([[ 0.9357108 ,  0.8446203 ],\n",
       "       [ 0.60571939,  0.72949937],\n",
       "       [ 0.41917785,  0.51527513],\n",
       "       [ 0.99679853,  0.76011636],\n",
       "       [ 0.84413861,  0.7125026 ],\n",
       "       [ 0.9990132 ,  0.39418566],\n",
       "       [ 0.24648928,  0.94342753],\n",
       "       [ 0.09757224,  0.00280235],\n",
       "       [ 0.8725091 ,  0.45549021],\n",
       "       [ 0.45436195,  0.57145051]])"
      ]
     },
     "execution_count": 21,
     "metadata": {},
     "output_type": "execute_result"
    }
   ],
   "source": [
    "np.random.rand(10, 2)"
   ]
  },
  {
   "cell_type": "code",
   "execution_count": 22,
   "metadata": {},
   "outputs": [
    {
     "data": {
      "text/plain": [
       "array([[[ 0.48845865,  0.3730837 ,  0.63699166],\n",
       "        [ 0.56542277,  0.57875149,  0.20522518]],\n",
       "\n",
       "       [[ 0.86287227,  0.19659689,  0.61488344],\n",
       "        [ 0.84689158,  0.31507897,  0.66516161]],\n",
       "\n",
       "       [[ 0.07276894,  0.44672604,  0.65479948],\n",
       "        [ 0.06518803,  0.19495443,  0.96261855]],\n",
       "\n",
       "       [[ 0.35141962,  0.46316883,  0.96661845],\n",
       "        [ 0.88414817,  0.07779418,  0.04017402]],\n",
       "\n",
       "       [[ 0.38288035,  0.741254  ,  0.73722646],\n",
       "        [ 0.18048587,  0.37074351,  0.26613245]],\n",
       "\n",
       "       [[ 0.93395458,  0.63577393,  0.82453428],\n",
       "        [ 0.71988086,  0.36356722,  0.76478063]],\n",
       "\n",
       "       [[ 0.32381029,  0.19018996,  0.6572761 ],\n",
       "        [ 0.38259042,  0.66718972,  0.92913581]],\n",
       "\n",
       "       [[ 0.58293009,  0.33487917,  0.09548349],\n",
       "        [ 0.61308338,  0.19027271,  0.19931443]],\n",
       "\n",
       "       [[ 0.94421059,  0.37567736,  0.25017894],\n",
       "        [ 0.70742273,  0.87649267,  0.20479056]],\n",
       "\n",
       "       [[ 0.90226854,  0.53538601,  0.33580644],\n",
       "        [ 0.52272895,  0.06499096,  0.50090458]]])"
      ]
     },
     "execution_count": 22,
     "metadata": {},
     "output_type": "execute_result"
    }
   ],
   "source": [
    "np.random.rand(10, 2, 3)"
   ]
  },
  {
   "cell_type": "markdown",
   "metadata": {},
   "source": [
    "## Permutations"
   ]
  },
  {
   "cell_type": "markdown",
   "metadata": {},
   "source": [
    "## Distributions\n",
    "\n",
    "### Exponential Distribution"
   ]
  },
  {
   "cell_type": "code",
   "execution_count": 6,
   "metadata": {
    "collapsed": true
   },
   "outputs": [],
   "source": [
    "import numpy as np\n",
    "import matplotlib.pyplot as plt"
   ]
  },
  {
   "cell_type": "code",
   "execution_count": 7,
   "metadata": {},
   "outputs": [
    {
     "data": {
      "image/png": "[encoded data removed]",
      "text/plain": [
       "<matplotlib.figure.Figure at 0x1be0f590d30>"
      ]
     },
     "metadata": {},
     "output_type": "display_data"
    }
   ],
   "source": [
    "x = np.random.exponential(1, 10000)\n",
    "plt.hist(x, bins= 50)\n",
    "plt.show()"
   ]
  },
  {
   "cell_type": "code",
   "execution_count": 8,
   "metadata": {},
   "outputs": [
    {
     "name": "stdout",
     "output_type": "stream",
     "text": [
      "y is: \n",
      " [  4.22359467e-01   1.94232110e+00   4.52282516e+00   1.48209517e+01\n",
      "   3.98643556e+01   1.41504580e+01   2.32652622e+00   9.72781435e+00\n",
      "   8.34048836e-01   2.48670390e+00   1.05740802e+00   3.46378085e+00\n",
      "   3.62432167e+00   2.96148344e-01   1.98386114e+01   3.03077693e+00\n",
      "   2.92187122e+00   3.32647949e+01   7.82605183e+00   8.75463299e+00\n",
      "   1.46103555e+01   3.99048092e+00   7.13223907e+00   4.91854029e+00\n",
      "   2.94023056e+00   9.75196949e+00   1.61887835e+00   1.67112916e+01\n",
      "   2.13953069e+00   1.55667392e+00   1.34008893e+01   1.14665496e+01\n",
      "   5.55808680e+00   2.61782645e+01   3.33167110e+00   8.76678064e-01\n",
      "   9.25953707e+00   1.36826892e+01   4.28589995e+01   7.88036409e+00\n",
      "   3.29250439e+01   1.43851935e+01   2.02292167e+01   3.97229934e-01\n",
      "   1.65717629e+00   1.78178259e+01   2.65350964e+00   1.14698009e+01\n",
      "   9.36540699e+00   7.51713400e+00   2.04525680e+00   1.07775658e+01\n",
      "   1.83681686e+01   3.92448548e-01   1.44865361e+01   2.61198780e+01\n",
      "   1.24003923e+01   2.37091939e+01   2.23527656e+00   4.37070674e+00\n",
      "   7.02364629e+00   2.03850409e+01   4.46861319e+00   5.74742050e+00\n",
      "   1.78114705e+01   2.10294597e+00   1.17850971e+01   7.90806060e+00\n",
      "   4.12088294e+00   6.69259336e+00   2.31092064e+00   1.55963091e+01\n",
      "   1.05611788e+01   1.73896970e+01   6.39156631e+00   3.60001422e+01\n",
      "   1.21097095e+01   1.55196129e+01   1.92456503e+01   1.95991990e+01\n",
      "   1.98977007e+01   1.94359245e+01   5.70987346e+00   5.87930206e+00\n",
      "   1.61103475e+00   1.65735832e+01   2.00125962e+00   6.86232304e+00\n",
      "   6.55455660e+00   3.25964447e+00   5.52111115e-01   5.54865820e+00\n",
      "   4.77719188e-01   2.08671657e+01   1.89921729e+01   4.43496161e+00\n",
      "   7.01531648e-01   3.07435868e-02   1.45331051e+00   6.16031964e+00]\n",
      "z is: \n",
      " 998.137297225\n"
     ]
    }
   ],
   "source": [
    "y = np.random.exponential(10, 100)\n",
    "\n",
    "z = np.sum(y)\n",
    "\n",
    "print(\"y is: \\n\", y)\n",
    "print(\"z is: \\n\", z)"
   ]
  },
  {
   "cell_type": "code",
   "execution_count": 9,
   "metadata": {},
   "outputs": [
    {
     "name": "stdout",
     "output_type": "stream",
     "text": [
      "The size is:\n",
      " 100\n"
     ]
    }
   ],
   "source": [
    "size = np.size(y)\n",
    "print(\"The size is:\\n\", size)"
   ]
  },
  {
   "cell_type": "code",
   "execution_count": 10,
   "metadata": {},
   "outputs": [
    {
     "name": "stdout",
     "output_type": "stream",
     "text": [
      "The average value is:\n",
      " 9.98137297225\n"
     ]
    }
   ],
   "source": [
    "average = z / size\n",
    "print(\"The average value is:\\n\", average)"
   ]
  },
  {
   "cell_type": "markdown",
   "metadata": {},
   "source": [
    "np.random.exponential takes two arguments. The first will be what the average value is approimately equal to. The second number is the size of the array (the number of elements in it). The sum of all elements returned is approximately equal to the two arguements passed."
   ]
  },
  {
   "cell_type": "markdown",
   "metadata": {},
   "source": [
    "### Laplace Distribution"
   ]
  },
  {
   "cell_type": "code",
   "execution_count": 11,
   "metadata": {},
   "outputs": [
    {
     "data": {
      "image/png": "[encoded data removed]",
      "text/plain": [
       "<matplotlib.figure.Figure at 0x1be0f5aa518>"
      ]
     },
     "metadata": {},
     "output_type": "display_data"
    }
   ],
   "source": [
    "laplace = np.random.laplace(1000, 1, 1000000)\n",
    "plt.hist(laplace, bins=100)\n",
    "plt.show()"
   ]
  },
  {
   "cell_type": "code",
   "execution_count": 12,
   "metadata": {},
   "outputs": [
    {
     "name": "stdout",
     "output_type": "stream",
     "text": [
      "Laplace is:\n",
      " [ 1000.48592834   999.9005699   1001.12068126 ...,   999.93985275\n",
      "  1000.24365535  1001.96564418]\n"
     ]
    }
   ],
   "source": [
    "print(\"Laplace is:\\n\", laplace)"
   ]
  },
  {
   "cell_type": "code",
   "execution_count": 13,
   "metadata": {},
   "outputs": [
    {
     "name": "stdout",
     "output_type": "stream",
     "text": [
      "The sum of the laplace array is:\n",
      " 999999098.082\n"
     ]
    }
   ],
   "source": [
    "sumOfLaplace = np.sum(laplace)\n",
    "print(\"The sum of the laplace array is:\\n\", sumOfLaplace)"
   ]
  },
  {
   "cell_type": "markdown",
   "metadata": {},
   "source": [
    "The sum of the laplace array appears to be equal to the location * the size (when the scale equals 1) "
   ]
  },
  {
   "cell_type": "code",
   "execution_count": 14,
   "metadata": {},
   "outputs": [
    {
     "data": {
      "text/plain": [
       "1000000"
      ]
     },
     "execution_count": 14,
     "metadata": {},
     "output_type": "execute_result"
    }
   ],
   "source": [
    "np.size(laplace)"
   ]
  },
  {
   "cell_type": "markdown",
   "metadata": {},
   "source": [
    "### Rayleigh Distribution"
   ]
  },
  {
   "cell_type": "code",
   "execution_count": 15,
   "metadata": {},
   "outputs": [
    {
     "data": {
      "image/png": "[encoded data removed]",
      "text/plain": [
       "<matplotlib.figure.Figure at 0x1be10402b38>"
      ]
     },
     "metadata": {},
     "output_type": "display_data"
    }
   ],
   "source": [
    "rayleigh = np.random.rayleigh(3, 1000000)\n",
    "plt.hist(rayleigh, bins = 100)\n",
    "plt.show()\n"
   ]
  },
  {
   "cell_type": "markdown",
   "metadata": {},
   "source": [
    "The first parameter (scale) is equal to the peak of the distribution. "
   ]
  },
  {
   "cell_type": "markdown",
   "metadata": {},
   "source": [
    "### Poisson Distribution"
   ]
  },
  {
   "cell_type": "code",
   "execution_count": 16,
   "metadata": {},
   "outputs": [
    {
     "data": {
      "image/png": "[encoded data removed]",
      "text/plain": [
       "<matplotlib.figure.Figure at 0x1be10a30da0>"
      ]
     },
     "metadata": {},
     "output_type": "display_data"
    }
   ],
   "source": [
    "poisson = np.random.poisson(10, 1000000)\n",
    "\n",
    "plt.hist(poisson, bins=30)\n",
    "\n",
    "plt.show()\n"
   ]
  },
  {
   "cell_type": "code",
   "execution_count": 17,
   "metadata": {},
   "outputs": [
    {
     "data": {
      "text/html": [
       "<div>\n",
       "<style>\n",
       "    .dataframe thead tr:only-child th {\n",
       "        text-align: right;\n",
       "    }\n",
       "\n",
       "    .dataframe thead th {\n",
       "        text-align: left;\n",
       "    }\n",
       "\n",
       "    .dataframe tbody tr th {\n",
       "        vertical-align: top;\n",
       "    }\n",
       "</style>\n",
       "<table border=\"1\" class=\"dataframe\">\n",
       "  <thead>\n",
       "    <tr style=\"text-align: right;\">\n",
       "      <th></th>\n",
       "      <th>0</th>\n",
       "    </tr>\n",
       "  </thead>\n",
       "  <tbody>\n",
       "    <tr>\n",
       "      <th>count</th>\n",
       "      <td>1000000.000000</td>\n",
       "    </tr>\n",
       "    <tr>\n",
       "      <th>mean</th>\n",
       "      <td>9.997548</td>\n",
       "    </tr>\n",
       "    <tr>\n",
       "      <th>std</th>\n",
       "      <td>3.162011</td>\n",
       "    </tr>\n",
       "    <tr>\n",
       "      <th>min</th>\n",
       "      <td>0.000000</td>\n",
       "    </tr>\n",
       "    <tr>\n",
       "      <th>25%</th>\n",
       "      <td>8.000000</td>\n",
       "    </tr>\n",
       "    <tr>\n",
       "      <th>50%</th>\n",
       "      <td>10.000000</td>\n",
       "    </tr>\n",
       "    <tr>\n",
       "      <th>75%</th>\n",
       "      <td>12.000000</td>\n",
       "    </tr>\n",
       "    <tr>\n",
       "      <th>max</th>\n",
       "      <td>31.000000</td>\n",
       "    </tr>\n",
       "  </tbody>\n",
       "</table>\n",
       "</div>"
      ],
      "text/plain": [
       "                    0\n",
       "count  1000000.000000\n",
       "mean         9.997548\n",
       "std          3.162011\n",
       "min          0.000000\n",
       "25%          8.000000\n",
       "50%         10.000000\n",
       "75%         12.000000\n",
       "max         31.000000"
      ]
     },
     "execution_count": 17,
     "metadata": {},
     "output_type": "execute_result"
    }
   ],
   "source": [
    "import pandas as pd\n",
    "df = pd.DataFrame(poisson)\n",
    "\n",
    "df.describe()"
   ]
  },
  {
   "cell_type": "markdown",
   "metadata": {},
   "source": [
    "### Gaussian Distribution"
   ]
  },
  {
   "cell_type": "code",
   "execution_count": 18,
   "metadata": {},
   "outputs": [
    {
     "data": {
      "image/png": "[encoded data removed]",
      "text/plain": [
       "<matplotlib.figure.Figure at 0x1be13886ef0>"
      ]
     },
     "metadata": {},
     "output_type": "display_data"
    }
   ],
   "source": [
    "normal = np.random.normal(100, 15, 100000)\n",
    "plt.hist(normal, bins=100)\n",
    "plt.show()"
   ]
  },
  {
   "cell_type": "markdown",
   "metadata": {},
   "source": [
    "The above is an example of IQ test scores in the general population.\n",
    "\n",
    "[IQ scores and standard deviation](https://www.csus.edu/indiv/b/brocks/Courses/EDS%20250/EDS%20250/Handouts/11/Descrptive%20Statistics%20and%20the%20Normal%20Curve.pdf)"
   ]
  },
  {
   "cell_type": "markdown",
   "metadata": {},
   "source": [
    "## Seeds"
   ]
  }
 ],
 "metadata": {
  "kernelspec": {
   "display_name": "Python 3",
   "language": "python",
   "name": "python3"
  },
  "language_info": {
   "codemirror_mode": {
    "name": "ipython",
    "version": 3
   },
   "file_extension": ".py",
   "mimetype": "text/x-python",
   "name": "python",
   "nbconvert_exporter": "python",
   "pygments_lexer": "ipython3",
   "version": "3.6.3"
  }
 },
 "nbformat": 4,
 "nbformat_minor": 2
}
