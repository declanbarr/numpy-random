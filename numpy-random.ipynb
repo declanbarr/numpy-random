{
 "cells": [
  {
   "cell_type": "markdown",
   "metadata": {},
   "source": [
    "# The numpy.random package"
   ]
  },
  {
   "cell_type": "markdown",
   "metadata": {
    "collapsed": true
   },
   "source": [
    "## Purpose of numpy"
   ]
  },
  {
   "cell_type": "markdown",
   "metadata": {},
   "source": [
    "## Simple Random Data"
   ]
  },
  {
   "cell_type": "markdown",
   "metadata": {},
   "source": [
    "## Permutations"
   ]
  },
  {
   "cell_type": "markdown",
   "metadata": {},
   "source": [
    "## Distributions\n",
    "\n",
    "### Exponential Distribution"
   ]
  },
  {
   "cell_type": "code",
   "execution_count": 2,
   "metadata": {
    "collapsed": true
   },
   "outputs": [],
   "source": [
    "import numpy as np\n",
    "import matplotlib.pyplot as plt"
   ]
  },
  {
   "cell_type": "code",
   "execution_count": 39,
   "metadata": {},
   "outputs": [
    {
     "data": {
      "image/png": "[encoded data removed]",
      "text/plain": [
       "<matplotlib.figure.Figure at 0x24767b05a58>"
      ]
     },
     "metadata": {},
     "output_type": "display_data"
    }
   ],
   "source": [
    "x = np.random.exponential(1, 10000)\n",
    "plt.hist(x, bins= 50)\n",
    "plt.show()"
   ]
  },
  {
   "cell_type": "code",
   "execution_count": 47,
   "metadata": {},
   "outputs": [
    {
     "name": "stdout",
     "output_type": "stream",
     "text": [
      "y is: \n",
      " [  7.13552946  33.60476265   2.08288859  14.05758992   5.40012764\n",
      "   9.17472659  46.18773195  16.78607325   6.04990339   5.25489295\n",
      "  11.82636789   0.70945866   1.96314567   6.46756883   5.30978331\n",
      "  37.55904096   1.00378368   6.66443056  11.18988963   4.28134093\n",
      "  10.56026817   9.65609712   7.30155308   5.6731365   20.0341165\n",
      "   5.07355264   2.68534482   2.5353329   22.11123279   8.97063397\n",
      "   0.51075145  34.89288462   4.05918686  25.62896546   1.98614928\n",
      "   7.30014101  28.22569239   7.80509108   1.57696263   4.48787686\n",
      "   7.17167708   3.10317336   3.49547071   2.39847664   4.46651531\n",
      "   8.65994699   2.0693743   12.02931699  15.31295514  23.16611725\n",
      "  16.4717616   22.65758845  12.63583001  15.65230237   6.25524111\n",
      "   3.5948329    1.71316554   5.01542247  14.06166983   1.73086329\n",
      "   5.73079926  24.580166    20.57989706   0.68476862   6.8207232\n",
      "   9.21155532   3.17199595   9.24309415   4.68858623   4.69003201\n",
      "  22.13677859  40.75869721   1.1048664    0.72819564  14.12441053\n",
      "   2.73813931  13.02933686  11.17438573   4.39957941   1.1672319\n",
      "   8.6587888    2.12805627   3.09362887   0.07744378   5.74345328\n",
      "   6.38682513  14.20639655  32.64636317  16.94490075   9.66714541\n",
      "   7.10352262   0.63616176  19.91231596   4.79094857   4.10360275\n",
      "   6.40276278   1.96872244   0.81275459   6.2762267   21.13193888]\n",
      "z is: \n",
      " 998.90090639\n"
     ]
    }
   ],
   "source": [
    "y = np.random.exponential(10, 100)\n",
    "\n",
    "z = np.sum(y)\n",
    "\n",
    "print(\"y is: \\n\", y)\n",
    "print(\"z is: \\n\", z)"
   ]
  },
  {
   "cell_type": "code",
   "execution_count": 49,
   "metadata": {},
   "outputs": [
    {
     "name": "stdout",
     "output_type": "stream",
     "text": [
      "The size is:\n",
      " 100\n"
     ]
    }
   ],
   "source": [
    "size = np.size(y)\n",
    "print(\"The size is:\\n\", size)"
   ]
  },
  {
   "cell_type": "code",
   "execution_count": 50,
   "metadata": {},
   "outputs": [
    {
     "name": "stdout",
     "output_type": "stream",
     "text": [
      "The average value is:\n",
      " 9.9890090639\n"
     ]
    }
   ],
   "source": [
    "average = z / size\n",
    "print(\"The average value is:\\n\", average)"
   ]
  },
  {
   "cell_type": "markdown",
   "metadata": {},
   "source": [
    "np.random.exponential takes two arguments. The first will be what the average value is approimately equal to. The second number is the size of the array (the number of elements in it). The sum of all elements returned is approximately equal to the two arguements passed."
   ]
  },
  {
   "cell_type": "markdown",
   "metadata": {},
   "source": [
    "## Seeds"
   ]
  }
 ],
 "metadata": {
  "kernelspec": {
   "display_name": "Python 3",
   "language": "python",
   "name": "python3"
  },
  "language_info": {
   "codemirror_mode": {
    "name": "ipython",
    "version": 3
   },
   "file_extension": ".py",
   "mimetype": "text/x-python",
   "name": "python",
   "nbconvert_exporter": "python",
   "pygments_lexer": "ipython3",
   "version": "3.6.3"
  }
 },
 "nbformat": 4,
 "nbformat_minor": 2
}
