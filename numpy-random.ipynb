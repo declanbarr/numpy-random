{
 "cells": [
  {
   "cell_type": "markdown",
   "metadata": {},
   "source": [
    "# The numpy.random package"
   ]
  },
  {
   "cell_type": "markdown",
   "metadata": {
    "collapsed": true
   },
   "source": [
    "## Purpose of numpy"
   ]
  },
  {
   "cell_type": "markdown",
   "metadata": {},
   "source": [
    "## Simple Random Data"
   ]
  },
  {
   "cell_type": "markdown",
   "metadata": {},
   "source": [
    "### numpy.random.choice"
   ]
  },
  {
   "cell_type": "code",
   "execution_count": 1,
   "metadata": {},
   "outputs": [
    {
     "data": {
      "text/plain": [
       "array(['cat'],\n",
       "      dtype='<U6')"
      ]
     },
     "execution_count": 1,
     "metadata": {},
     "output_type": "execute_result"
    }
   ],
   "source": [
    "import numpy as np\n",
    "\n",
    "animals = ['cat', 'dog', 'rabbit', 'horse', 'cow']\n",
    "\n",
    "np.random.choice(animals, size = 1)"
   ]
  },
  {
   "cell_type": "code",
   "execution_count": 2,
   "metadata": {},
   "outputs": [
    {
     "data": {
      "text/plain": [
       "array(['cat', 'rabbit', 'cow', 'horse', 'cow'],\n",
       "      dtype='<U6')"
      ]
     },
     "execution_count": 2,
     "metadata": {},
     "output_type": "execute_result"
    }
   ],
   "source": [
    "np.random.choice(animals, size = 5)"
   ]
  },
  {
   "cell_type": "code",
   "execution_count": 4,
   "metadata": {},
   "outputs": [
    {
     "data": {
      "text/plain": [
       "array(['dog', 'horse', 'rabbit', 'cow', 'cat'],\n",
       "      dtype='<U6')"
      ]
     },
     "execution_count": 4,
     "metadata": {},
     "output_type": "execute_result"
    }
   ],
   "source": [
    "np.random.choice(animals, size = 5, replace = False)"
   ]
  },
  {
   "cell_type": "code",
   "execution_count": 7,
   "metadata": {},
   "outputs": [
    {
     "data": {
      "text/plain": [
       "array(['cow', 'cow', 'cow', 'horse', 'cow', 'horse', 'horse', 'cow', 'cat',\n",
       "       'cow'],\n",
       "      dtype='<U6')"
      ]
     },
     "execution_count": 7,
     "metadata": {},
     "output_type": "execute_result"
    }
   ],
   "source": [
    "np.random.choice(animals, size = 10, p=[0.1, 0.1, 0.1, 0.1, 0.6])"
   ]
  },
  {
   "cell_type": "markdown",
   "metadata": {},
   "source": [
    "## Permutations"
   ]
  },
  {
   "cell_type": "markdown",
   "metadata": {},
   "source": [
    "## Distributions\n",
    "\n",
    "### Exponential Distribution"
   ]
  },
  {
   "cell_type": "code",
   "execution_count": 1,
   "metadata": {
    "collapsed": true
   },
   "outputs": [],
   "source": [
    "import numpy as np\n",
    "import matplotlib.pyplot as plt"
   ]
  },
  {
   "cell_type": "code",
   "execution_count": 2,
   "metadata": {},
   "outputs": [
    {
     "data": {
      "image/png": "[encoded data removed]",
      "text/plain": [
       "<matplotlib.figure.Figure at 0x1fa3fad1cc0>"
      ]
     },
     "metadata": {},
     "output_type": "display_data"
    }
   ],
   "source": [
    "x = np.random.exponential(1, 10000)\n",
    "plt.hist(x, bins= 50)\n",
    "plt.show()"
   ]
  },
  {
   "cell_type": "code",
   "execution_count": 3,
   "metadata": {},
   "outputs": [
    {
     "name": "stdout",
     "output_type": "stream",
     "text": [
      "y is: \n",
      " [  2.41128001e+00   1.72119272e-01   5.18399672e+00   2.76404366e+01\n",
      "   1.72005467e+00   2.10790621e+00   5.23407596e+00   5.09102743e+00\n",
      "   4.18295873e+00   1.08796930e+01   1.68764546e+00   9.56907156e+00\n",
      "   8.95520668e+00   9.23991722e+00   1.53225038e+01   1.14722687e+01\n",
      "   1.40642247e+00   3.88890927e+00   1.13101726e+01   1.05125279e+01\n",
      "   4.50829002e+00   2.06978902e+00   8.74130665e+00   4.74258169e-01\n",
      "   2.52014327e+00   1.62191217e+01   1.22452141e+01   4.68623334e-01\n",
      "   3.14507839e+00   4.02714070e+00   3.34531648e-02   9.73938080e+00\n",
      "   2.69636596e+00   6.75324238e+00   2.16655358e+00   2.20145054e+01\n",
      "   3.01604810e+00   3.51304222e+01   8.64462590e+00   2.60212041e+00\n",
      "   2.59486882e+01   1.03298204e+00   3.49721393e+01   4.40422624e+00\n",
      "   2.34195035e+01   8.91616268e+00   4.97991527e+00   1.90016991e+00\n",
      "   2.25789214e+01   5.74175623e+00   1.03445181e+01   7.12617923e-01\n",
      "   1.81229372e+01   3.19312031e+00   1.26927689e+00   1.21401193e+00\n",
      "   1.49187321e+01   2.70722817e+01   5.75880391e+00   5.57583229e+00\n",
      "   4.97592281e+00   1.55719134e+00   3.98905607e+01   3.43938774e-02\n",
      "   1.77855891e+00   7.30907539e+00   2.16092863e+00   6.64299602e+00\n",
      "   6.03281491e+00   6.09380470e+00   2.26170206e-01   3.58730157e+01\n",
      "   5.53844380e+00   5.42482908e+00   4.69065538e+01   1.22074263e+00\n",
      "   5.66841114e-01   2.34449099e+01   2.03346519e+01   4.67150925e-01\n",
      "   1.22494471e+01   6.73870943e+00   3.46509160e+00   5.43054493e+00\n",
      "   3.55029383e+01   2.64650672e+00   1.42621016e+01   5.99929725e+00\n",
      "   1.76304134e+00   3.85529764e+00   4.92358990e+00   9.48889148e+00\n",
      "   1.37519543e+01   2.60781606e+00   4.02538739e+00   3.11461537e+01\n",
      "   1.42815549e+01   3.18500828e+00   2.35811367e+00   2.57130839e+01]\n",
      "z is: \n",
      " 937.154560181\n"
     ]
    }
   ],
   "source": [
    "y = np.random.exponential(10, 100)\n",
    "\n",
    "z = np.sum(y)\n",
    "\n",
    "print(\"y is: \\n\", y)\n",
    "print(\"z is: \\n\", z)"
   ]
  },
  {
   "cell_type": "code",
   "execution_count": 4,
   "metadata": {},
   "outputs": [
    {
     "name": "stdout",
     "output_type": "stream",
     "text": [
      "The size is:\n",
      " 100\n"
     ]
    }
   ],
   "source": [
    "size = np.size(y)\n",
    "print(\"The size is:\\n\", size)"
   ]
  },
  {
   "cell_type": "code",
   "execution_count": 5,
   "metadata": {},
   "outputs": [
    {
     "name": "stdout",
     "output_type": "stream",
     "text": [
      "The average value is:\n",
      " 9.37154560181\n"
     ]
    }
   ],
   "source": [
    "average = z / size\n",
    "print(\"The average value is:\\n\", average)"
   ]
  },
  {
   "cell_type": "markdown",
   "metadata": {},
   "source": [
    "np.random.exponential takes two arguments. The first will be what the average value is approimately equal to. The second number is the size of the array (the number of elements in it). The sum of all elements returned is approximately equal to the two arguements passed."
   ]
  },
  {
   "cell_type": "markdown",
   "metadata": {},
   "source": [
    "### Laplace Distribution"
   ]
  },
  {
   "cell_type": "code",
   "execution_count": 6,
   "metadata": {},
   "outputs": [
    {
     "data": {
      "image/png": "[encoded data removed]",
      "text/plain": [
       "<matplotlib.figure.Figure at 0x1fa40196d68>"
      ]
     },
     "metadata": {},
     "output_type": "display_data"
    }
   ],
   "source": [
    "laplace = np.random.laplace(1000, 1, 1000000)\n",
    "plt.hist(laplace, bins=100)\n",
    "plt.show()"
   ]
  },
  {
   "cell_type": "code",
   "execution_count": 7,
   "metadata": {},
   "outputs": [
    {
     "name": "stdout",
     "output_type": "stream",
     "text": [
      "Laplace is:\n",
      " [ 1000.56911802  1001.52639638  1000.19281965 ...,   998.6375605\n",
      "  1000.45081833   999.97925673]\n"
     ]
    }
   ],
   "source": [
    "print(\"Laplace is:\\n\", laplace)"
   ]
  },
  {
   "cell_type": "code",
   "execution_count": 8,
   "metadata": {},
   "outputs": [
    {
     "name": "stdout",
     "output_type": "stream",
     "text": [
      "The sum of the laplace array is:\n",
      " 999997792.898\n"
     ]
    }
   ],
   "source": [
    "sumOfLaplace = np.sum(laplace)\n",
    "print(\"The sum of the laplace array is:\\n\", sumOfLaplace)"
   ]
  },
  {
   "cell_type": "markdown",
   "metadata": {},
   "source": [
    "The sum of the laplace array appears to be equal to the location * the size (when the scale equals 1) "
   ]
  },
  {
   "cell_type": "code",
   "execution_count": 9,
   "metadata": {},
   "outputs": [
    {
     "data": {
      "text/plain": [
       "1000000"
      ]
     },
     "execution_count": 9,
     "metadata": {},
     "output_type": "execute_result"
    }
   ],
   "source": [
    "np.size(laplace)"
   ]
  },
  {
   "cell_type": "markdown",
   "metadata": {},
   "source": [
    "### Rayleigh Distribution"
   ]
  },
  {
   "cell_type": "code",
   "execution_count": 10,
   "metadata": {},
   "outputs": [
    {
     "data": {
      "image/png": "[encoded data removed]",
      "text/plain": [
       "<matplotlib.figure.Figure at 0x1fa40202748>"
      ]
     },
     "metadata": {},
     "output_type": "display_data"
    }
   ],
   "source": [
    "rayleigh = np.random.rayleigh(3, 1000000)\n",
    "plt.hist(rayleigh, bins = 100)\n",
    "plt.show()\n"
   ]
  },
  {
   "cell_type": "markdown",
   "metadata": {},
   "source": [
    "The first parameter (scale) is equal to the peak of the distribution. "
   ]
  },
  {
   "cell_type": "markdown",
   "metadata": {},
   "source": [
    "### Poisson Distribution"
   ]
  },
  {
   "cell_type": "code",
   "execution_count": 11,
   "metadata": {},
   "outputs": [
    {
     "data": {
      "image/png": "[encoded data removed]",
      "text/plain": [
       "<matplotlib.figure.Figure at 0x1fa408ecb00>"
      ]
     },
     "metadata": {},
     "output_type": "display_data"
    }
   ],
   "source": [
    "poisson = np.random.poisson(10, 1000000)\n",
    "\n",
    "plt.hist(poisson, bins=30)\n",
    "\n",
    "plt.show()\n"
   ]
  },
  {
   "cell_type": "code",
   "execution_count": 12,
   "metadata": {},
   "outputs": [
    {
     "data": {
      "text/html": [
       "<div>\n",
       "<style>\n",
       "    .dataframe thead tr:only-child th {\n",
       "        text-align: right;\n",
       "    }\n",
       "\n",
       "    .dataframe thead th {\n",
       "        text-align: left;\n",
       "    }\n",
       "\n",
       "    .dataframe tbody tr th {\n",
       "        vertical-align: top;\n",
       "    }\n",
       "</style>\n",
       "<table border=\"1\" class=\"dataframe\">\n",
       "  <thead>\n",
       "    <tr style=\"text-align: right;\">\n",
       "      <th></th>\n",
       "      <th>0</th>\n",
       "    </tr>\n",
       "  </thead>\n",
       "  <tbody>\n",
       "    <tr>\n",
       "      <th>count</th>\n",
       "      <td>1000000.000000</td>\n",
       "    </tr>\n",
       "    <tr>\n",
       "      <th>mean</th>\n",
       "      <td>9.999827</td>\n",
       "    </tr>\n",
       "    <tr>\n",
       "      <th>std</th>\n",
       "      <td>3.165564</td>\n",
       "    </tr>\n",
       "    <tr>\n",
       "      <th>min</th>\n",
       "      <td>0.000000</td>\n",
       "    </tr>\n",
       "    <tr>\n",
       "      <th>25%</th>\n",
       "      <td>8.000000</td>\n",
       "    </tr>\n",
       "    <tr>\n",
       "      <th>50%</th>\n",
       "      <td>10.000000</td>\n",
       "    </tr>\n",
       "    <tr>\n",
       "      <th>75%</th>\n",
       "      <td>12.000000</td>\n",
       "    </tr>\n",
       "    <tr>\n",
       "      <th>max</th>\n",
       "      <td>28.000000</td>\n",
       "    </tr>\n",
       "  </tbody>\n",
       "</table>\n",
       "</div>"
      ],
      "text/plain": [
       "                    0\n",
       "count  1000000.000000\n",
       "mean         9.999827\n",
       "std          3.165564\n",
       "min          0.000000\n",
       "25%          8.000000\n",
       "50%         10.000000\n",
       "75%         12.000000\n",
       "max         28.000000"
      ]
     },
     "execution_count": 12,
     "metadata": {},
     "output_type": "execute_result"
    }
   ],
   "source": [
    "import pandas as pd\n",
    "df = pd.DataFrame(poisson)\n",
    "\n",
    "df.describe()"
   ]
  },
  {
   "cell_type": "markdown",
   "metadata": {},
   "source": [
    "### Gaussian Distribution"
   ]
  },
  {
   "cell_type": "code",
   "execution_count": 15,
   "metadata": {},
   "outputs": [
    {
     "data": {
      "image/png": "[encoded data removed]",
      "text/plain": [
       "<matplotlib.figure.Figure at 0x1fa42e24f60>"
      ]
     },
     "metadata": {},
     "output_type": "display_data"
    }
   ],
   "source": [
    "normal = np.random.normal(100, 15, 100000)\n",
    "plt.hist(normal, bins=100)\n",
    "plt.show()"
   ]
  },
  {
   "cell_type": "markdown",
   "metadata": {},
   "source": [
    "The above is an example of IQ test scores in the general population.\n",
    "\n",
    "[IQ scores and standard deviation](https://www.csus.edu/indiv/b/brocks/Courses/EDS%20250/EDS%20250/Handouts/11/Descrptive%20Statistics%20and%20the%20Normal%20Curve.pdf)"
   ]
  },
  {
   "cell_type": "markdown",
   "metadata": {},
   "source": [
    "## Seeds"
   ]
  }
 ],
 "metadata": {
  "kernelspec": {
   "display_name": "Python 3",
   "language": "python",
   "name": "python3"
  },
  "language_info": {
   "codemirror_mode": {
    "name": "ipython",
    "version": 3
   },
   "file_extension": ".py",
   "mimetype": "text/x-python",
   "name": "python",
   "nbconvert_exporter": "python",
   "pygments_lexer": "ipython3",
   "version": "3.6.3"
  }
 },
 "nbformat": 4,
 "nbformat_minor": 2
}
