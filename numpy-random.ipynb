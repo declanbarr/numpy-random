{
 "cells": [
  {
   "cell_type": "markdown",
   "metadata": {},
   "source": [
    "# The numpy.random package"
   ]
  },
  {
   "cell_type": "markdown",
   "metadata": {
    "collapsed": true
   },
   "source": [
    "## Introduction\n",
    "\n",
    "### NumPy\n",
    "NumPy is a library in Python used for scientific computing. It is open-source and therefore free to use as apposed to MATLAB which is also used for scientific computing. NumPy provides efficient operation on arrays of homogeneous data. Reference -https://www.scipy.org/scipylib/faq.html. \n",
    "\n",
    "The offical documentation for NumPy can be found here https://docs.scipy.org/doc/numpy/reference/. The official NumPy website is here http://www.numpy.org/.\n",
    "\n",
    "NumPy can provide random numbers through the numpy.random package\n",
    "\n",
    "### Purpose of the numpy.random package\n",
    "\n",
    "The numpy.random package provides various ways of producing pseudorandom numbers. It uses the Mersenne Twister algorithm (https://en.wikipedia.org/wiki/Mersenne_Twister) to generate pseudorandom numbers Reference - https://www.packtpub.com/mapt/book/big_data_and_business_intelligence/9781785285110/2/ch02lvl1sec16/numpy-random-numbers\n",
    "\n",
    "The numbers are considered psuedo random rather than just random, as they are generated deterministically from a seed. Ref - https://engineering.ucsb.edu/~shell/che210d/numpy.pdf\n",
    "\n",
    "Random numbers can be used as toy datasets for testing purposes. These random numbers can be applied to a series of numbers in order to create random noise like what would be observed in a real life experiment.\n",
    "\n",
    "\n",
    "\n",
    "The official documentation page for the numpy.random package can be found here - https://docs.scipy.org/doc/numpy-1.13.0/reference/routines.random.html\n",
    "\n",
    "On the official documentation page there are four distinct sections which provide a number of functions related to generating random numbers. This notebook provides examples and explanations for some of these functions. \n",
    "\n",
    "\n",
    "* discuss different sections\n",
    "    * Simple Random Data\n",
    "    * Permutations\n",
    "    * Distributions\n",
    "    * Seeds"
   ]
  },
  {
   "cell_type": "markdown",
   "metadata": {},
   "source": [
    "## Simple Random Data\n",
    "\n",
    "This section contains a number of functions that generate random numbers of different types as well as being able to make various random selections from a list."
   ]
  },
  {
   "cell_type": "markdown",
   "metadata": {},
   "source": [
    "### numpy.random.choice()\n",
    "\n",
    "The numpy.random.choice() function produces a random sample from a given 1-D array - Reference https://docs.scipy.org/doc/numpy-1.13.0/reference/generated/numpy.random.choice.html#numpy.random.choice"
   ]
  },
  {
   "cell_type": "code",
   "execution_count": 1,
   "metadata": {},
   "outputs": [
    {
     "data": {
      "text/plain": [
       "'cat'"
      ]
     },
     "execution_count": 1,
     "metadata": {},
     "output_type": "execute_result"
    }
   ],
   "source": [
    "import numpy as np\n",
    "\n",
    "animals = ['cat', 'dog', 'rabbit', 'horse', 'cow']\n",
    "\n",
    "np.random.choice(animals)"
   ]
  },
  {
   "cell_type": "markdown",
   "metadata": {},
   "source": [
    "Here the np.random.choice() function picks a single random element from the 'animals' array. We can choose more than one element by changing the size parameter. "
   ]
  },
  {
   "cell_type": "code",
   "execution_count": 2,
   "metadata": {},
   "outputs": [
    {
     "data": {
      "text/plain": [
       "array(['cat', 'cat', 'rabbit', 'dog', 'cat'],\n",
       "      dtype='<U6')"
      ]
     },
     "execution_count": 2,
     "metadata": {},
     "output_type": "execute_result"
    }
   ],
   "source": [
    "np.random.choice(animals, size = 5)"
   ]
  },
  {
   "cell_type": "markdown",
   "metadata": {},
   "source": [
    "Setting size to 5 gives us 5 elements in the output. An element can appear more than once. If we wish that an element is not repeated then we can set the replace parameter to False."
   ]
  },
  {
   "cell_type": "code",
   "execution_count": 3,
   "metadata": {},
   "outputs": [
    {
     "data": {
      "text/plain": [
       "array(['cat', 'dog', 'cow', 'horse', 'rabbit'],\n",
       "      dtype='<U6')"
      ]
     },
     "execution_count": 3,
     "metadata": {},
     "output_type": "execute_result"
    }
   ],
   "source": [
    "np.random.choice(animals, size = 5, replace = False)"
   ]
  },
  {
   "cell_type": "markdown",
   "metadata": {},
   "source": [
    "If we wish for certain elements to be more likely to appear, then we can set the probability parameter, p, like so:"
   ]
  },
  {
   "cell_type": "code",
   "execution_count": 4,
   "metadata": {},
   "outputs": [
    {
     "data": {
      "text/plain": [
       "array(['horse', 'cow', 'cow', 'cow', 'cow', 'cow', 'horse', 'cow', 'cow',\n",
       "       'cat'],\n",
       "      dtype='<U6')"
      ]
     },
     "execution_count": 4,
     "metadata": {},
     "output_type": "execute_result"
    }
   ],
   "source": [
    "np.random.choice(animals, size = 10, p=[0.1, 0.1, 0.1, 0.1, 0.6])"
   ]
  },
  {
   "cell_type": "markdown",
   "metadata": {},
   "source": [
    "In the above, the 5th element in the array has a 60% likelyhood of being selected while the rest only have a 10% likelyhood each."
   ]
  },
  {
   "cell_type": "markdown",
   "metadata": {},
   "source": [
    "### np.random.rand()\n",
    "\n",
    "The np.random.rand() function produces an array with random samples from a uniform distribution from 0 to 1 exclusive. The parameter passed to the function determines the size of the array. Reference - https://docs.scipy.org/doc/numpy-1.13.0/reference/generated/numpy.random.rand.html#numpy.random.rand. \n",
    "\n",
    "For example, we can create a 1-D array with 10 elements using the following:"
   ]
  },
  {
   "cell_type": "code",
   "execution_count": 5,
   "metadata": {},
   "outputs": [
    {
     "data": {
      "text/plain": [
       "array([ 0.61103588,  0.3451727 ,  0.45697515,  0.20233072,  0.50060451,\n",
       "        0.76647646,  0.44894557,  0.91298499,  0.4208215 ,  0.66596266])"
      ]
     },
     "execution_count": 5,
     "metadata": {},
     "output_type": "execute_result"
    }
   ],
   "source": [
    "np.random.rand(10)"
   ]
  },
  {
   "cell_type": "markdown",
   "metadata": {},
   "source": [
    "For a 2-D array that is 10\\*2 in size we use the following:"
   ]
  },
  {
   "cell_type": "code",
   "execution_count": 6,
   "metadata": {},
   "outputs": [
    {
     "data": {
      "text/plain": [
       "array([[ 0.68650728,  0.53648601],\n",
       "       [ 0.08956579,  0.58265439],\n",
       "       [ 0.37932599,  0.35089252],\n",
       "       [ 0.12771206,  0.3753468 ],\n",
       "       [ 0.30550927,  0.24214264],\n",
       "       [ 0.67148417,  0.9226539 ],\n",
       "       [ 0.4033375 ,  0.521748  ],\n",
       "       [ 0.83128928,  0.80186901],\n",
       "       [ 0.15716908,  0.53771867],\n",
       "       [ 0.4340073 ,  0.03717481]])"
      ]
     },
     "execution_count": 6,
     "metadata": {},
     "output_type": "execute_result"
    }
   ],
   "source": [
    "np.random.rand(10, 2)"
   ]
  },
  {
   "cell_type": "markdown",
   "metadata": {},
   "source": [
    "For a 3-D array that is 10\\*2\\*3 in size we use the following:"
   ]
  },
  {
   "cell_type": "code",
   "execution_count": 7,
   "metadata": {},
   "outputs": [
    {
     "data": {
      "text/plain": [
       "array([[[ 0.24703946,  0.34725822,  0.98465309],\n",
       "        [ 0.17283992,  0.31098196,  0.20293444]],\n",
       "\n",
       "       [[ 0.36295612,  0.7041851 ,  0.69298025],\n",
       "        [ 0.61786916,  0.71392481,  0.71548747]],\n",
       "\n",
       "       [[ 0.24554769,  0.07448928,  0.13810425],\n",
       "        [ 0.01447453,  0.7983065 ,  0.087331  ]],\n",
       "\n",
       "       [[ 0.0607263 ,  0.20021114,  0.45008885],\n",
       "        [ 0.1361963 ,  0.53928351,  0.83641823]],\n",
       "\n",
       "       [[ 0.69883753,  0.38929764,  0.51987889],\n",
       "        [ 0.22233207,  0.97731294,  0.81896753]],\n",
       "\n",
       "       [[ 0.9625761 ,  0.92960437,  0.85574753],\n",
       "        [ 0.10397231,  0.99985222,  0.08932296]],\n",
       "\n",
       "       [[ 0.11873569,  0.98063141,  0.12192872],\n",
       "        [ 0.35155251,  0.22673141,  0.64509969]],\n",
       "\n",
       "       [[ 0.04050849,  0.01073845,  0.11858734],\n",
       "        [ 0.40849194,  0.30611782,  0.18409923]],\n",
       "\n",
       "       [[ 0.01186989,  0.71156755,  0.61934597],\n",
       "        [ 0.69421461,  0.21569293,  0.4734067 ]],\n",
       "\n",
       "       [[ 0.74669316,  0.42615705,  0.60145579],\n",
       "        [ 0.76573665,  0.61222746,  0.46339893]]])"
      ]
     },
     "execution_count": 7,
     "metadata": {},
     "output_type": "execute_result"
    }
   ],
   "source": [
    "np.random.rand(10, 2, 3)"
   ]
  },
  {
   "cell_type": "markdown",
   "metadata": {},
   "source": [
    "As mentioned above, the values are uniformly distributed. We can visualise this using a histogram plot:"
   ]
  },
  {
   "cell_type": "code",
   "execution_count": 8,
   "metadata": {},
   "outputs": [
    {
     "data": {
      "image/png": "[encoded data removed]",
      "text/plain": [
       "<matplotlib.figure.Figure at 0x1ed225b9ef0>"
      ]
     },
     "metadata": {},
     "output_type": "display_data"
    }
   ],
   "source": [
    "import matplotlib.pyplot as plt\n",
    "\n",
    "normalArray = np.random.rand(10000)\n",
    "\n",
    "plt.hist(normalArray, bins = 10)\n",
    "plt.show()"
   ]
  },
  {
   "cell_type": "markdown",
   "metadata": {},
   "source": [
    "Each increment of 0.1 above has around 1000 values in it, which is a 10th of the size of the array. We can also see this in the descriptive statistics:"
   ]
  },
  {
   "cell_type": "code",
   "execution_count": 9,
   "metadata": {},
   "outputs": [
    {
     "data": {
      "text/html": [
       "<div>\n",
       "<style>\n",
       "    .dataframe thead tr:only-child th {\n",
       "        text-align: right;\n",
       "    }\n",
       "\n",
       "    .dataframe thead th {\n",
       "        text-align: left;\n",
       "    }\n",
       "\n",
       "    .dataframe tbody tr th {\n",
       "        vertical-align: top;\n",
       "    }\n",
       "</style>\n",
       "<table border=\"1\" class=\"dataframe\">\n",
       "  <thead>\n",
       "    <tr style=\"text-align: right;\">\n",
       "      <th></th>\n",
       "      <th>0</th>\n",
       "    </tr>\n",
       "  </thead>\n",
       "  <tbody>\n",
       "    <tr>\n",
       "      <th>count</th>\n",
       "      <td>10000.000000</td>\n",
       "    </tr>\n",
       "    <tr>\n",
       "      <th>mean</th>\n",
       "      <td>0.502051</td>\n",
       "    </tr>\n",
       "    <tr>\n",
       "      <th>std</th>\n",
       "      <td>0.287590</td>\n",
       "    </tr>\n",
       "    <tr>\n",
       "      <th>min</th>\n",
       "      <td>0.000067</td>\n",
       "    </tr>\n",
       "    <tr>\n",
       "      <th>25%</th>\n",
       "      <td>0.253362</td>\n",
       "    </tr>\n",
       "    <tr>\n",
       "      <th>50%</th>\n",
       "      <td>0.503281</td>\n",
       "    </tr>\n",
       "    <tr>\n",
       "      <th>75%</th>\n",
       "      <td>0.753400</td>\n",
       "    </tr>\n",
       "    <tr>\n",
       "      <th>max</th>\n",
       "      <td>0.999824</td>\n",
       "    </tr>\n",
       "  </tbody>\n",
       "</table>\n",
       "</div>"
      ],
      "text/plain": [
       "                  0\n",
       "count  10000.000000\n",
       "mean       0.502051\n",
       "std        0.287590\n",
       "min        0.000067\n",
       "25%        0.253362\n",
       "50%        0.503281\n",
       "75%        0.753400\n",
       "max        0.999824"
      ]
     },
     "execution_count": 9,
     "metadata": {},
     "output_type": "execute_result"
    }
   ],
   "source": [
    "import pandas as pd\n",
    "\n",
    "df = pd.DataFrame(normalArray)\n",
    "df.describe()"
   ]
  },
  {
   "cell_type": "markdown",
   "metadata": {},
   "source": [
    "As expected for a uniform distribution, the first quartile has a value that is approximately = 0.25 and the third quartile is approximately = to 0.75."
   ]
  },
  {
   "cell_type": "markdown",
   "metadata": {},
   "source": [
    "### np.random.randn()\n",
    "\n",
    "The np.random.randn() function is similar to the np.random.randn() function in that it produces an array of a size that is determined by the parameters that are passed to the function. However, the array created is composed of random samples that follow a Gaussian distribution with mean 0 and variance 1. Reference - https://docs.scipy.org/doc/numpy-1.13.0/reference/generated/numpy.random.randn.html#numpy.random.randn\n",
    "\n",
    "As the standard deviation is equal to the square root of the variance then the standard deviation will also be equal to 1 as the square root of 1 is also 1.\n",
    "\n",
    "We can visualise this below with a histogram:\n"
   ]
  },
  {
   "cell_type": "code",
   "execution_count": 10,
   "metadata": {},
   "outputs": [
    {
     "data": {
      "image/png": "[encoded data removed]",
      "text/plain": [
       "<matplotlib.figure.Figure at 0x1ed21fcc588>"
      ]
     },
     "metadata": {},
     "output_type": "display_data"
    }
   ],
   "source": [
    "import pandas as pd\n",
    "import matplotlib.pyplot as plt\n",
    "\n",
    "normalArray = np.random.randn(10000)\n",
    "\n",
    "plt.hist(normalArray, bins = 50)\n",
    "plt.show()"
   ]
  },
  {
   "cell_type": "markdown",
   "metadata": {},
   "source": [
    "The distribution for this is much different from the uniform distribution above. The peak of the distributions are seen at the mean with less values seen further away from the mean. This distribution is commonly called the Bell Curve - Link https://www.investopedia.com/terms/b/bell-curve.asp"
   ]
  },
  {
   "cell_type": "code",
   "execution_count": 11,
   "metadata": {},
   "outputs": [
    {
     "data": {
      "text/html": [
       "<div>\n",
       "<style>\n",
       "    .dataframe thead tr:only-child th {\n",
       "        text-align: right;\n",
       "    }\n",
       "\n",
       "    .dataframe thead th {\n",
       "        text-align: left;\n",
       "    }\n",
       "\n",
       "    .dataframe tbody tr th {\n",
       "        vertical-align: top;\n",
       "    }\n",
       "</style>\n",
       "<table border=\"1\" class=\"dataframe\">\n",
       "  <thead>\n",
       "    <tr style=\"text-align: right;\">\n",
       "      <th></th>\n",
       "      <th>0</th>\n",
       "    </tr>\n",
       "  </thead>\n",
       "  <tbody>\n",
       "    <tr>\n",
       "      <th>count</th>\n",
       "      <td>10000.000000</td>\n",
       "    </tr>\n",
       "    <tr>\n",
       "      <th>mean</th>\n",
       "      <td>0.003512</td>\n",
       "    </tr>\n",
       "    <tr>\n",
       "      <th>std</th>\n",
       "      <td>0.992545</td>\n",
       "    </tr>\n",
       "    <tr>\n",
       "      <th>min</th>\n",
       "      <td>-4.087562</td>\n",
       "    </tr>\n",
       "    <tr>\n",
       "      <th>25%</th>\n",
       "      <td>-0.666626</td>\n",
       "    </tr>\n",
       "    <tr>\n",
       "      <th>50%</th>\n",
       "      <td>-0.007156</td>\n",
       "    </tr>\n",
       "    <tr>\n",
       "      <th>75%</th>\n",
       "      <td>0.668192</td>\n",
       "    </tr>\n",
       "    <tr>\n",
       "      <th>max</th>\n",
       "      <td>4.382943</td>\n",
       "    </tr>\n",
       "  </tbody>\n",
       "</table>\n",
       "</div>"
      ],
      "text/plain": [
       "                  0\n",
       "count  10000.000000\n",
       "mean       0.003512\n",
       "std        0.992545\n",
       "min       -4.087562\n",
       "25%       -0.666626\n",
       "50%       -0.007156\n",
       "75%        0.668192\n",
       "max        4.382943"
      ]
     },
     "execution_count": 11,
     "metadata": {},
     "output_type": "execute_result"
    }
   ],
   "source": [
    "df = pd.DataFrame(normalArray)\n",
    "df.describe()"
   ]
  },
  {
   "cell_type": "markdown",
   "metadata": {},
   "source": [
    "The descritive statistics for the array created by np.random.randn() above show that the standard deviation is approximatley = to 1. We can see also that the min and max values are -3.6 and 3.8 correct to 1 d.p., respectively."
   ]
  },
  {
   "cell_type": "markdown",
   "metadata": {},
   "source": [
    "### np.random.randint"
   ]
  },
  {
   "cell_type": "code",
   "execution_count": 12,
   "metadata": {},
   "outputs": [
    {
     "data": {
      "text/plain": [
       "3"
      ]
     },
     "execution_count": 12,
     "metadata": {},
     "output_type": "execute_result"
    }
   ],
   "source": [
    "np.random.randint(10)"
   ]
  },
  {
   "cell_type": "code",
   "execution_count": 13,
   "metadata": {},
   "outputs": [
    {
     "data": {
      "text/plain": [
       "96"
      ]
     },
     "execution_count": 13,
     "metadata": {},
     "output_type": "execute_result"
    }
   ],
   "source": [
    "np.random.randint(90, high=100)"
   ]
  },
  {
   "cell_type": "code",
   "execution_count": 14,
   "metadata": {},
   "outputs": [
    {
     "data": {
      "text/plain": [
       "array([17, 13, 15, 15, 12, 13, 19, 16, 19, 11])"
      ]
     },
     "execution_count": 14,
     "metadata": {},
     "output_type": "execute_result"
    }
   ],
   "source": [
    "np.random.randint(10, high=20, size=10)"
   ]
  },
  {
   "cell_type": "code",
   "execution_count": 15,
   "metadata": {},
   "outputs": [
    {
     "data": {
      "text/plain": [
       "array([[14, 17, 17, 13, 19, 13, 18, 13, 19, 10],\n",
       "       [10, 12, 14, 18, 11, 12, 11, 15, 12, 15]])"
      ]
     },
     "execution_count": 15,
     "metadata": {},
     "output_type": "execute_result"
    }
   ],
   "source": [
    "np.random.randint(10, high=20, size=(2, 10))"
   ]
  },
  {
   "cell_type": "markdown",
   "metadata": {},
   "source": [
    "## Permutations"
   ]
  },
  {
   "cell_type": "markdown",
   "metadata": {},
   "source": [
    "### np.random.shuffle()"
   ]
  },
  {
   "cell_type": "code",
   "execution_count": 16,
   "metadata": {},
   "outputs": [
    {
     "data": {
      "text/plain": [
       "[1, 5, 3, 4, 2]"
      ]
     },
     "execution_count": 16,
     "metadata": {},
     "output_type": "execute_result"
    }
   ],
   "source": [
    "array = [1, 2, 3, 4, 5]\n",
    "np.random.shuffle(array)\n",
    "array"
   ]
  },
  {
   "cell_type": "code",
   "execution_count": 17,
   "metadata": {},
   "outputs": [
    {
     "data": {
      "text/plain": [
       "[[1, 2, 3, 4, 5], [11, 12, 13, 14, 15], [6, 7, 8, 9, 10]]"
      ]
     },
     "execution_count": 17,
     "metadata": {},
     "output_type": "execute_result"
    }
   ],
   "source": [
    "array = [[1, 2, 3, 4, 5], [6, 7, 8, 9, 10], [11, 12, 13, 14, 15]]\n",
    "np.random.shuffle(array)\n",
    "array"
   ]
  },
  {
   "cell_type": "markdown",
   "metadata": {},
   "source": [
    "### np.random.permutation()"
   ]
  },
  {
   "cell_type": "code",
   "execution_count": 18,
   "metadata": {},
   "outputs": [
    {
     "data": {
      "text/plain": [
       "array([1, 3, 5, 4, 2])"
      ]
     },
     "execution_count": 18,
     "metadata": {},
     "output_type": "execute_result"
    }
   ],
   "source": [
    "array = [1, 2, 3, 4, 5]\n",
    "np.random.permutation(array)"
   ]
  },
  {
   "cell_type": "markdown",
   "metadata": {},
   "source": [
    "Original array is left intact"
   ]
  },
  {
   "cell_type": "code",
   "execution_count": 19,
   "metadata": {},
   "outputs": [
    {
     "data": {
      "text/plain": [
       "[1, 2, 3, 4, 5]"
      ]
     },
     "execution_count": 19,
     "metadata": {},
     "output_type": "execute_result"
    }
   ],
   "source": [
    "array"
   ]
  },
  {
   "cell_type": "code",
   "execution_count": 20,
   "metadata": {},
   "outputs": [
    {
     "data": {
      "text/plain": [
       "array([[11, 12, 13, 14, 15],\n",
       "       [ 6,  7,  8,  9, 10],\n",
       "       [ 1,  2,  3,  4,  5]])"
      ]
     },
     "execution_count": 20,
     "metadata": {},
     "output_type": "execute_result"
    }
   ],
   "source": [
    "array = [[1, 2, 3, 4, 5], [6, 7, 8, 9, 10], [11, 12, 13, 14, 15]]\n",
    "np.random.permutation(array)"
   ]
  },
  {
   "cell_type": "markdown",
   "metadata": {},
   "source": [
    "## Distributions\n",
    "\n",
    "### Exponential Distribution"
   ]
  },
  {
   "cell_type": "code",
   "execution_count": 21,
   "metadata": {
    "collapsed": true
   },
   "outputs": [],
   "source": [
    "import numpy as np\n",
    "import matplotlib.pyplot as plt"
   ]
  },
  {
   "cell_type": "code",
   "execution_count": 22,
   "metadata": {},
   "outputs": [
    {
     "data": {
      "image/png": "[encoded data removed]",
      "text/plain": [
       "<matplotlib.figure.Figure at 0x1ed240a3668>"
      ]
     },
     "metadata": {},
     "output_type": "display_data"
    }
   ],
   "source": [
    "x = np.random.exponential(1, 10000)\n",
    "plt.hist(x, bins= 50)\n",
    "plt.show()"
   ]
  },
  {
   "cell_type": "code",
   "execution_count": 23,
   "metadata": {},
   "outputs": [
    {
     "name": "stdout",
     "output_type": "stream",
     "text": [
      "y is: \n",
      " [  4.6710626    5.45897025  12.37047763   2.72931928  17.81342418\n",
      "   1.04838721   2.6157263   22.07440219   6.5417378   38.2631905\n",
      "   6.65770373   3.50911674   8.09948889  30.0573271    7.07795734\n",
      "   7.37901376   7.38135931   1.81715951  12.02691286  14.04231054\n",
      "   8.16319111   6.47957199  34.97766729   6.66096948  12.24308151\n",
      "   7.23997528   6.45444789   1.34446907   5.17033287   0.5335868\n",
      "   8.12633486  15.51462488   1.21924665   6.55870517  26.21802024\n",
      "   6.55681091  12.30517347  38.21488975  16.60292493   0.55256648\n",
      "  14.08679685   9.5242258    3.04859404  11.19577033  12.67183535\n",
      "  19.52148884  12.19604705   2.26102101   7.02234419   4.04071474\n",
      "   5.92809131   1.90883095  54.74834062  14.64852697   9.58384073\n",
      "  10.0112936    3.15170031   6.3571954    3.79577159   6.09151781\n",
      "  21.35895985  22.27178894   6.88517576   1.19148426   2.62458619\n",
      "   6.43992796  28.09768547   6.06751439   9.56233929   1.90853595\n",
      "  15.56864036  13.37668255  11.57489427  11.92104026   7.97120169\n",
      "   4.62679017  16.70344234   0.34383931  16.82446541   6.1522758\n",
      "   7.73297797   2.22960277   4.69304948   7.69189532   2.65194737\n",
      "  16.10515755   6.8853347    2.8608813    2.46827781  27.5184258\n",
      "   2.0670574    0.44679282   0.52887814   3.22338984   9.85444352\n",
      "   5.13123802  10.02993227  21.42283185   3.77404743  12.30175574]\n",
      "z is: \n",
      " 1005.65477315\n"
     ]
    }
   ],
   "source": [
    "y = np.random.exponential(10, 100)\n",
    "\n",
    "z = np.sum(y)\n",
    "\n",
    "print(\"y is: \\n\", y)\n",
    "print(\"z is: \\n\", z)"
   ]
  },
  {
   "cell_type": "code",
   "execution_count": 24,
   "metadata": {},
   "outputs": [
    {
     "name": "stdout",
     "output_type": "stream",
     "text": [
      "The size is:\n",
      " 100\n"
     ]
    }
   ],
   "source": [
    "size = np.size(y)\n",
    "print(\"The size is:\\n\", size)"
   ]
  },
  {
   "cell_type": "code",
   "execution_count": 25,
   "metadata": {},
   "outputs": [
    {
     "name": "stdout",
     "output_type": "stream",
     "text": [
      "The average value is:\n",
      " 10.0565477315\n"
     ]
    }
   ],
   "source": [
    "average = z / size\n",
    "print(\"The average value is:\\n\", average)"
   ]
  },
  {
   "cell_type": "markdown",
   "metadata": {},
   "source": [
    "np.random.exponential takes two arguments. The first will be what the average value is approimately equal to. The second number is the size of the array (the number of elements in it). The sum of all elements returned is approximately equal to the two arguements passed."
   ]
  },
  {
   "cell_type": "markdown",
   "metadata": {},
   "source": [
    "### Laplace Distribution"
   ]
  },
  {
   "cell_type": "code",
   "execution_count": 26,
   "metadata": {},
   "outputs": [
    {
     "data": {
      "image/png": "[encoded data removed]",
      "text/plain": [
       "<matplotlib.figure.Figure at 0x1ed2405a9b0>"
      ]
     },
     "metadata": {},
     "output_type": "display_data"
    }
   ],
   "source": [
    "laplace = np.random.laplace(1000, 1, 1000000)\n",
    "plt.hist(laplace, bins=100)\n",
    "plt.show()"
   ]
  },
  {
   "cell_type": "code",
   "execution_count": 27,
   "metadata": {},
   "outputs": [
    {
     "name": "stdout",
     "output_type": "stream",
     "text": [
      "Laplace is:\n",
      " [ 1000.18621645   999.82507114  1001.34757319 ...,  1000.95560081\n",
      "  1000.11556275   999.73550306]\n"
     ]
    }
   ],
   "source": [
    "print(\"Laplace is:\\n\", laplace)"
   ]
  },
  {
   "cell_type": "code",
   "execution_count": 28,
   "metadata": {},
   "outputs": [
    {
     "name": "stdout",
     "output_type": "stream",
     "text": [
      "The sum of the laplace array is:\n",
      " 1000000071.19\n"
     ]
    }
   ],
   "source": [
    "sumOfLaplace = np.sum(laplace)\n",
    "print(\"The sum of the laplace array is:\\n\", sumOfLaplace)"
   ]
  },
  {
   "cell_type": "markdown",
   "metadata": {},
   "source": [
    "The sum of the laplace array appears to be equal to the location * the size (when the scale equals 1) "
   ]
  },
  {
   "cell_type": "code",
   "execution_count": 29,
   "metadata": {},
   "outputs": [
    {
     "data": {
      "text/plain": [
       "1000000"
      ]
     },
     "execution_count": 29,
     "metadata": {},
     "output_type": "execute_result"
    }
   ],
   "source": [
    "np.size(laplace)"
   ]
  },
  {
   "cell_type": "markdown",
   "metadata": {},
   "source": [
    "### Rayleigh Distribution"
   ]
  },
  {
   "cell_type": "code",
   "execution_count": 30,
   "metadata": {},
   "outputs": [
    {
     "data": {
      "image/png": "[encoded data removed]",
      "text/plain": [
       "<matplotlib.figure.Figure at 0x1ed2426f6d8>"
      ]
     },
     "metadata": {},
     "output_type": "display_data"
    }
   ],
   "source": [
    "rayleigh = np.random.rayleigh(3, 1000000)\n",
    "plt.hist(rayleigh, bins = 100)\n",
    "plt.show()\n"
   ]
  },
  {
   "cell_type": "markdown",
   "metadata": {},
   "source": [
    "The first parameter (scale) is equal to the peak of the distribution. "
   ]
  },
  {
   "cell_type": "markdown",
   "metadata": {},
   "source": [
    "### Poisson Distribution"
   ]
  },
  {
   "cell_type": "code",
   "execution_count": 31,
   "metadata": {},
   "outputs": [
    {
     "data": {
      "image/png": "[encoded data removed]",
      "text/plain": [
       "<matplotlib.figure.Figure at 0x1ed26622940>"
      ]
     },
     "metadata": {},
     "output_type": "display_data"
    }
   ],
   "source": [
    "poisson = np.random.poisson(10, 1000000)\n",
    "\n",
    "plt.hist(poisson, bins=30)\n",
    "\n",
    "plt.show()\n"
   ]
  },
  {
   "cell_type": "code",
   "execution_count": 32,
   "metadata": {},
   "outputs": [
    {
     "data": {
      "text/html": [
       "<div>\n",
       "<style>\n",
       "    .dataframe thead tr:only-child th {\n",
       "        text-align: right;\n",
       "    }\n",
       "\n",
       "    .dataframe thead th {\n",
       "        text-align: left;\n",
       "    }\n",
       "\n",
       "    .dataframe tbody tr th {\n",
       "        vertical-align: top;\n",
       "    }\n",
       "</style>\n",
       "<table border=\"1\" class=\"dataframe\">\n",
       "  <thead>\n",
       "    <tr style=\"text-align: right;\">\n",
       "      <th></th>\n",
       "      <th>0</th>\n",
       "    </tr>\n",
       "  </thead>\n",
       "  <tbody>\n",
       "    <tr>\n",
       "      <th>count</th>\n",
       "      <td>1000000.000000</td>\n",
       "    </tr>\n",
       "    <tr>\n",
       "      <th>mean</th>\n",
       "      <td>10.002775</td>\n",
       "    </tr>\n",
       "    <tr>\n",
       "      <th>std</th>\n",
       "      <td>3.161341</td>\n",
       "    </tr>\n",
       "    <tr>\n",
       "      <th>min</th>\n",
       "      <td>0.000000</td>\n",
       "    </tr>\n",
       "    <tr>\n",
       "      <th>25%</th>\n",
       "      <td>8.000000</td>\n",
       "    </tr>\n",
       "    <tr>\n",
       "      <th>50%</th>\n",
       "      <td>10.000000</td>\n",
       "    </tr>\n",
       "    <tr>\n",
       "      <th>75%</th>\n",
       "      <td>12.000000</td>\n",
       "    </tr>\n",
       "    <tr>\n",
       "      <th>max</th>\n",
       "      <td>28.000000</td>\n",
       "    </tr>\n",
       "  </tbody>\n",
       "</table>\n",
       "</div>"
      ],
      "text/plain": [
       "                    0\n",
       "count  1000000.000000\n",
       "mean        10.002775\n",
       "std          3.161341\n",
       "min          0.000000\n",
       "25%          8.000000\n",
       "50%         10.000000\n",
       "75%         12.000000\n",
       "max         28.000000"
      ]
     },
     "execution_count": 32,
     "metadata": {},
     "output_type": "execute_result"
    }
   ],
   "source": [
    "import pandas as pd\n",
    "df = pd.DataFrame(poisson)\n",
    "\n",
    "df.describe()"
   ]
  },
  {
   "cell_type": "markdown",
   "metadata": {},
   "source": [
    "### Gaussian Distribution"
   ]
  },
  {
   "cell_type": "code",
   "execution_count": 33,
   "metadata": {},
   "outputs": [
    {
     "data": {
      "image/png": "[encoded data removed]",
      "text/plain": [
       "<matplotlib.figure.Figure at 0x1ed24649940>"
      ]
     },
     "metadata": {},
     "output_type": "display_data"
    }
   ],
   "source": [
    "normal = np.random.normal(100, 15, 100000)\n",
    "plt.hist(normal, bins=100)\n",
    "plt.show()"
   ]
  },
  {
   "cell_type": "markdown",
   "metadata": {},
   "source": [
    "The above is an example of IQ test scores in the general population.\n",
    "\n",
    "[IQ scores and standard deviation](https://www.csus.edu/indiv/b/brocks/Courses/EDS%20250/EDS%20250/Handouts/11/Descrptive%20Statistics%20and%20the%20Normal%20Curve.pdf)"
   ]
  },
  {
   "cell_type": "markdown",
   "metadata": {},
   "source": [
    "## Seeds"
   ]
  },
  {
   "cell_type": "markdown",
   "metadata": {},
   "source": [
    "## References"
   ]
  },
  {
   "cell_type": "code",
   "execution_count": null,
   "metadata": {
    "collapsed": true
   },
   "outputs": [],
   "source": []
  }
 ],
 "metadata": {
  "kernelspec": {
   "display_name": "Python 3",
   "language": "python",
   "name": "python3"
  },
  "language_info": {
   "codemirror_mode": {
    "name": "ipython",
    "version": 3
   },
   "file_extension": ".py",
   "mimetype": "text/x-python",
   "name": "python",
   "nbconvert_exporter": "python",
   "pygments_lexer": "ipython3",
   "version": "3.6.3"
  }
 },
 "nbformat": 4,
 "nbformat_minor": 2
}
